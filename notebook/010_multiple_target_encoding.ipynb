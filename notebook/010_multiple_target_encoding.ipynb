{
 "cells": [
  {
   "cell_type": "markdown",
   "metadata": {},
   "source": [
    "## Prepare and read data"
   ]
  },
  {
   "cell_type": "code",
   "execution_count": 1,
   "metadata": {},
   "outputs": [],
   "source": [
    "import gc\n",
    "import itertools\n",
    "from tqdm.auto import tqdm\n",
    "import pandas as pd\n",
    "import numpy as np\n",
    "import lightgbm as lgb\n",
    "\n",
    "from sklearn.preprocessing import MultiLabelBinarizer\n",
    "from sklearn.model_selection import StratifiedKFold, KFold\n",
    "from sklearn.metrics import mean_squared_error"
   ]
  },
  {
   "cell_type": "code",
   "execution_count": 2,
   "metadata": {},
   "outputs": [],
   "source": [
    "pd.set_option(\"max_columns\", 300)\n",
    "pd.set_option(\"max_rows\", 500)"
   ]
  },
  {
   "cell_type": "code",
   "execution_count": 3,
   "metadata": {},
   "outputs": [],
   "source": [
    "train_df = pd.read_csv(\"../input/train.csv\")\n",
    "test_df = pd.read_csv(\"../input/test.csv\")"
   ]
  },
  {
   "cell_type": "markdown",
   "metadata": {},
   "source": [
    "## Feature Engineering"
   ]
  },
  {
   "cell_type": "code",
   "execution_count": 4,
   "metadata": {},
   "outputs": [],
   "source": [
    "def get_multi_cat_cols(train_df):\n",
    "    tmp = train_df.iloc[:1000]\n",
    "    multi_cols = []\n",
    "    for c in train_df.columns:\n",
    "        sep_num = tmp[c].astype(str).fillna(\"\").str.contains(\";\").sum()\n",
    "        if sep_num > 10:\n",
    "            multi_cols.append(c)\n",
    "    return multi_cols"
   ]
  },
  {
   "cell_type": "code",
   "execution_count": 5,
   "metadata": {},
   "outputs": [],
   "source": [
    "original_cols = train_df.columns.tolist()"
   ]
  },
  {
   "cell_type": "code",
   "execution_count": 6,
   "metadata": {},
   "outputs": [],
   "source": [
    "multi_cat_cols = get_multi_cat_cols(train_df)"
   ]
  },
  {
   "cell_type": "code",
   "execution_count": 7,
   "metadata": {},
   "outputs": [
    {
     "data": {
      "application/vnd.jupyter.widget-view+json": {
       "model_id": "9a3b78b937514534a716441268b31ac9",
       "version_major": 2,
       "version_minor": 0
      },
      "text/plain": [
       "HBox(children=(FloatProgress(value=0.0, max=21.0), HTML(value='')))"
      ]
     },
     "metadata": {},
     "output_type": "display_data"
    },
    {
     "name": "stdout",
     "output_type": "stream",
     "text": [
      "\n"
     ]
    }
   ],
   "source": [
    "for c in tqdm(multi_cat_cols):\n",
    "    binarizer = MultiLabelBinarizer()\n",
    "    train_multi_srs = train_df[c].map(lambda x: x.split(\";\") if x is not np.nan else [])\n",
    "    test_multi_srs = test_df[c].map(lambda x: x.split(\";\") if x is not np.nan else [])\n",
    "    train_arr = binarizer.fit_transform(train_multi_srs)\n",
    "    test_arr = binarizer.transform(test_multi_srs)\n",
    "    feat_cols = [f\"ohe_{c}_{val}\" for val in binarizer.classes_]\n",
    "    train_feat_df = pd.DataFrame(train_arr, columns=feat_cols, dtype=np.int8)\n",
    "    test_feat_df = pd.DataFrame(test_arr, columns=feat_cols, dtype=np.int8)\n",
    "    train_feat_df[f\"sum_answer_{c}\"] = (train_df[c].str.count(\";\") + 1).fillna(-1).astype(np.int8)\n",
    "    test_feat_df[f\"sum_answer_{c}\"] = (test_df[c].str.count(\";\") + 1).fillna(-1).astype(np.int8)\n",
    "    train_df = pd.concat([train_df, train_feat_df], axis=1)\n",
    "    test_df = pd.concat([test_df, test_feat_df], axis=1)"
   ]
  },
  {
   "cell_type": "code",
   "execution_count": 8,
   "metadata": {},
   "outputs": [],
   "source": [
    "other_cols = [\n",
    "    c for c in list(np.setdiff1d(original_cols, multi_cat_cols)) if c not in [\"Salary\", \"No\"]\n",
    "]"
   ]
  },
  {
   "cell_type": "code",
   "execution_count": 9,
   "metadata": {},
   "outputs": [
    {
     "data": {
      "application/vnd.jupyter.widget-view+json": {
       "model_id": "7e3df561fe684c0d9878f00ce0d70eb0",
       "version_major": 2,
       "version_minor": 0
      },
      "text/plain": [
       "HBox(children=(FloatProgress(value=0.0, max=105.0), HTML(value='')))"
      ]
     },
     "metadata": {},
     "output_type": "display_data"
    },
    {
     "name": "stdout",
     "output_type": "stream",
     "text": [
      "\n"
     ]
    }
   ],
   "source": [
    "cat_cols = []\n",
    "for c in tqdm(other_cols):\n",
    "    if \"float\" in train_df[c].dtype.name:\n",
    "        if train_df[c].nunique() > 1000:\n",
    "            train_df[c] = train_df[c].astype(np.float32)\n",
    "            test_df[c] = test_df[c].astype(np.float32)\n",
    "        else:\n",
    "            train_df[c] = train_df[c].astype(np.float16)\n",
    "            test_df[c] = test_df[c].astype(np.float16)\n",
    "    else:\n",
    "        train_df[c], uniques = pd.factorize(train_df[c], sort=True)\n",
    "        test_df[c] = uniques.get_indexer(test_df[c])\n",
    "        if train_df[c].max() > 32767:\n",
    "            train_df[c] = train_df[c].astype(np.int32)\n",
    "            test_df[c] = test_df[c].astype(np.int32)\n",
    "        else:\n",
    "            train_df[c] = train_df[c].astype(np.int16)\n",
    "            test_df[c] = test_df[c].astype(np.int16)            \n",
    "        cat_cols.append(c)"
   ]
  },
  {
   "cell_type": "code",
   "execution_count": 10,
   "metadata": {},
   "outputs": [
    {
     "data": {
      "text/plain": [
       "((33857, 465), (11259, 464))"
      ]
     },
     "execution_count": 10,
     "metadata": {},
     "output_type": "execute_result"
    }
   ],
   "source": [
    "train_df.shape, test_df.shape"
   ]
  },
  {
   "cell_type": "code",
   "execution_count": 11,
   "metadata": {},
   "outputs": [],
   "source": [
    "train_df.columns = [\"\".join (c if c.isalnum() else \"_\" for c in str(x)) for x in train_df.columns]\n",
    "test_df.columns = [\"\".join (c if c.isalnum() else \"_\" for c in str(x)) for x in test_df.columns]"
   ]
  },
  {
   "cell_type": "code",
   "execution_count": 12,
   "metadata": {},
   "outputs": [],
   "source": [
    "# basicなモデルのimportanceを読み込み\n",
    "importance_df = pd.read_csv(\"../data/importance/003_importance.csv\")"
   ]
  },
  {
   "cell_type": "code",
   "execution_count": 13,
   "metadata": {},
   "outputs": [],
   "source": [
    "imp_feats = importance_df[\"feature\"].iloc[:50].tolist()\n",
    "imp_cat_cols = [c for c in imp_feats if c in cat_cols or c[:4] == \"ohe_\"]\n",
    "imp_nume_cols = [c for c in imp_feats if c not in cat_cols and c not in multi_cat_cols]"
   ]
  },
  {
   "cell_type": "code",
   "execution_count": 14,
   "metadata": {},
   "outputs": [
    {
     "data": {
      "text/plain": [
       "(32, 15)"
      ]
     },
     "execution_count": 14,
     "metadata": {},
     "output_type": "execute_result"
    }
   ],
   "source": [
    "len(imp_cat_cols), len(imp_nume_cols)"
   ]
  },
  {
   "cell_type": "code",
   "execution_count": 15,
   "metadata": {
    "scrolled": true
   },
   "outputs": [
    {
     "data": {
      "application/vnd.jupyter.widget-view+json": {
       "model_id": "033ff2a6796940b985e0a312a280aaac",
       "version_major": 2,
       "version_minor": 0
      },
      "text/plain": [
       "HBox(children=(FloatProgress(value=0.0, max=32.0), HTML(value='')))"
      ]
     },
     "metadata": {},
     "output_type": "display_data"
    },
    {
     "name": "stdout",
     "output_type": "stream",
     "text": [
      "\n"
     ]
    },
    {
     "data": {
      "text/plain": [
       "61"
      ]
     },
     "execution_count": 15,
     "metadata": {},
     "output_type": "execute_result"
    }
   ],
   "source": [
    "all_df = pd.concat([train_df, test_df], axis=0, ignore_index=True)\n",
    "for cat_col in tqdm(imp_cat_cols):\n",
    "    for nume_col in imp_nume_cols:\n",
    "        all_df[f\"agg_mean_{cat_col}_{nume_col}\"] = \\\n",
    "            all_df.groupby(cat_col)[nume_col].transform(\"mean\").astype(np.float32)\n",
    "        all_df[f\"agg_std_{cat_col}_{nume_col}\"] = \\\n",
    "            all_df.groupby(cat_col)[nume_col].transform(\"std\").astype(np.float32)\n",
    "        all_df[f\"agg_max_{cat_col}_{nume_col}\"] = \\\n",
    "            all_df.groupby(cat_col)[nume_col].transform(\"max\").astype(np.float32)\n",
    "        all_df[f\"agg_min_{cat_col}_{nume_col}\"] = \\\n",
    "            all_df.groupby(cat_col)[nume_col].transform(\"min\").astype(np.float32)\n",
    "        all_df[f\"diff_agg_mean_{cat_col}_{nume_col}\"] = \\\n",
    "            all_df[nume_col] - all_df[f\"agg_mean_{cat_col}_{nume_col}\"]\n",
    "        all_df[f\"rel_agg_mean_{cat_col}_{nume_col}\"] = \\\n",
    "            all_df[nume_col] / (1 + all_df[f\"agg_mean_{cat_col}_{nume_col}\"])\n",
    "train_df = all_df.iloc[:len(train_df)].reset_index(drop=True)\n",
    "test_df = all_df.iloc[len(train_df):].reset_index(drop=True)\n",
    "del all_df\n",
    "gc.collect()"
   ]
  },
  {
   "cell_type": "code",
   "execution_count": 16,
   "metadata": {},
   "outputs": [],
   "source": [
    "use_cols = [c for c in train_df.columns if c not in multi_cat_cols + [\"Salary\", \"No\"]]"
   ]
  },
  {
   "cell_type": "code",
   "execution_count": 17,
   "metadata": {},
   "outputs": [],
   "source": [
    "folds = KFold(n_splits=5, random_state=2020, shuffle=True)\n",
    "fold_idx_list = [(trn_idx, val_idx) for trn_idx, val_idx in folds.split(train_df, train_df[\"Salary\"])]"
   ]
  },
  {
   "cell_type": "markdown",
   "metadata": {},
   "source": [
    "### Target Encoding"
   ]
  },
  {
   "cell_type": "code",
   "execution_count": 18,
   "metadata": {},
   "outputs": [],
   "source": [
    "te_cols = [c for c in use_cols if (not \"agg_\" in c) and train_df[c].nunique() >= 5]"
   ]
  },
  {
   "cell_type": "code",
   "execution_count": 19,
   "metadata": {},
   "outputs": [
    {
     "data": {
      "application/vnd.jupyter.widget-view+json": {
       "model_id": "0282dcf299b34f2a850f277d4b685545",
       "version_major": 2,
       "version_minor": 0
      },
      "text/plain": [
       "HBox(children=(FloatProgress(value=0.0, max=109.0), HTML(value='')))"
      ]
     },
     "metadata": {},
     "output_type": "display_data"
    },
    {
     "name": "stdout",
     "output_type": "stream",
     "text": [
      "\n"
     ]
    }
   ],
   "source": [
    "for c in tqdm(te_cols):\n",
    "    new_col = \"te_\" + c\n",
    "    train_df[new_col] = 0\n",
    "    test_df[new_col] = 0\n",
    "    for trn_idx, val_idx in fold_idx_list:\n",
    "        mean_val = train_df.loc[trn_idx].groupby(c)[\"Salary\"].mean().astype(np.float32)\n",
    "        train_df.loc[val_idx, new_col] = train_df.loc[val_idx, c].map(mean_val)\n",
    "        test_df.loc[:, new_col] += test_df.loc[:, c].map(mean_val) / len(fold_idx_list)\n",
    "    train_df[new_col] = train_df[new_col].astype(np.float32)\n",
    "    test_df[new_col] = test_df[new_col].astype(np.float32)"
   ]
  },
  {
   "cell_type": "code",
   "execution_count": 20,
   "metadata": {},
   "outputs": [],
   "source": [
    "# multiple target encoding\n",
    "te_imp_feats = importance_df[\"feature\"].iloc[:30].tolist()\n",
    "multi_te_cols = [c for c in te_cols if c in te_imp_feats]\n",
    "combi_cols = list(itertools.combinations(multi_te_cols, 2))"
   ]
  },
  {
   "cell_type": "code",
   "execution_count": 21,
   "metadata": {},
   "outputs": [
    {
     "data": {
      "application/vnd.jupyter.widget-view+json": {
       "model_id": "b5e36f5a911d46328cd40df20c1a0d1a",
       "version_major": 2,
       "version_minor": 0
      },
      "text/plain": [
       "HBox(children=(FloatProgress(value=0.0, max=66.0), HTML(value='')))"
      ]
     },
     "metadata": {},
     "output_type": "display_data"
    },
    {
     "name": "stdout",
     "output_type": "stream",
     "text": [
      "\n"
     ]
    }
   ],
   "source": [
    "for col_a, col_b in tqdm(combi_cols):\n",
    "    new_col = \"te_\" + col_a + \"__\" + col_b\n",
    "    train_df[new_col] = 0\n",
    "    test_df[new_col] = 0\n",
    "    train_df[\"tmp\"] = train_df[col_a].fillna(\"\").astype(str) + train_df[col_b].fillna(\"\").astype(str)\n",
    "    test_df[\"tmp\"] = test_df[col_a].fillna(\"\").astype(str) + test_df[col_b].fillna(\"\").astype(str)\n",
    "    for trn_idx, val_idx in fold_idx_list:\n",
    "        mean_val = train_df.loc[trn_idx].groupby(\"tmp\")[\"Salary\"].mean().astype(np.float32)\n",
    "        train_df.loc[val_idx, new_col] = train_df.loc[val_idx, \"tmp\"].map(mean_val)\n",
    "        test_df.loc[:, new_col] += test_df.loc[:, \"tmp\"].map(mean_val) / len(fold_idx_list)\n",
    "    train_df[new_col] = train_df[new_col].astype(np.float32)\n",
    "    test_df[new_col] = test_df[new_col].astype(np.float32)\n",
    "    del train_df[\"tmp\"], test_df[\"tmp\"]\n",
    "    gc.collect()"
   ]
  },
  {
   "cell_type": "code",
   "execution_count": 22,
   "metadata": {},
   "outputs": [
    {
     "name": "stdout",
     "output_type": "stream",
     "text": [
      "3497\n"
     ]
    }
   ],
   "source": [
    "use_cols = [c for c in train_df.columns if c not in multi_cat_cols + [\"Salary\", \"No\"]]\n",
    "print(len(use_cols))"
   ]
  },
  {
   "cell_type": "markdown",
   "metadata": {},
   "source": [
    "## Training"
   ]
  },
  {
   "cell_type": "code",
   "execution_count": 23,
   "metadata": {},
   "outputs": [],
   "source": [
    "lgb_params = {\n",
    "            'objective': 'regression',\n",
    "            \"metric\": \"rmse\",\n",
    "            \"verbosity\": -1,\n",
    "            \"boosting\": \"gbdt\",\n",
    "            'learning_rate': 0.05,\n",
    "            'num_leaves': 128,\n",
    "            'min_data_in_leaf': 30, \n",
    "            'max_depth': 6,\n",
    "            \"bagging_freq\": 10,\n",
    "            \"bagging_fraction\": 0.4,\n",
    "            \"lambda_l1\": 0.5,\n",
    "            \"lambda_l2\": 0.5,\n",
    "            \"feature_fraction\": 0.7,\n",
    "            \"seed\": 2020,\n",
    "            \"num_threads\": -1,\n",
    "            \"max_bins\": 30\n",
    "}"
   ]
  },
  {
   "cell_type": "code",
   "execution_count": 24,
   "metadata": {},
   "outputs": [
    {
     "name": "stdout",
     "output_type": "stream",
     "text": [
      "Fold 1\n",
      "Training until validation scores don't improve for 100 rounds\n",
      "[100]\ttraining's rmse: 19025.1\tvalid_1's rmse: 21337.3\n",
      "[200]\ttraining's rmse: 17534\tvalid_1's rmse: 21091.9\n",
      "[300]\ttraining's rmse: 16417.9\tvalid_1's rmse: 21017.9\n",
      "Early stopping, best iteration is:\n",
      "[280]\ttraining's rmse: 16590\tvalid_1's rmse: 21006.6\n",
      "Fold 2\n",
      "Training until validation scores don't improve for 100 rounds\n",
      "[100]\ttraining's rmse: 18990.2\tvalid_1's rmse: 21308\n",
      "[200]\ttraining's rmse: 17472.8\tvalid_1's rmse: 20865.7\n",
      "[300]\ttraining's rmse: 16400.4\tvalid_1's rmse: 20793.6\n",
      "[400]\ttraining's rmse: 15493\tvalid_1's rmse: 20724.3\n",
      "[500]\ttraining's rmse: 14681.8\tvalid_1's rmse: 20726.2\n",
      "Early stopping, best iteration is:\n",
      "[430]\ttraining's rmse: 15225\tvalid_1's rmse: 20704.6\n",
      "Fold 3\n",
      "Training until validation scores don't improve for 100 rounds\n",
      "[100]\ttraining's rmse: 19005.7\tvalid_1's rmse: 21283.3\n",
      "[200]\ttraining's rmse: 17473.4\tvalid_1's rmse: 21011.1\n",
      "[300]\ttraining's rmse: 16443.5\tvalid_1's rmse: 20985.8\n",
      "[400]\ttraining's rmse: 15511.5\tvalid_1's rmse: 20968.5\n",
      "[500]\ttraining's rmse: 14638.4\tvalid_1's rmse: 21000.9\n",
      "Early stopping, best iteration is:\n",
      "[402]\ttraining's rmse: 15493.8\tvalid_1's rmse: 20964.1\n",
      "Fold 4\n",
      "Training until validation scores don't improve for 100 rounds\n",
      "[100]\ttraining's rmse: 18977.9\tvalid_1's rmse: 21251.4\n",
      "[200]\ttraining's rmse: 17488.3\tvalid_1's rmse: 20880.9\n",
      "[300]\ttraining's rmse: 16394.2\tvalid_1's rmse: 20821.2\n",
      "[400]\ttraining's rmse: 15471.8\tvalid_1's rmse: 20771.7\n",
      "[500]\ttraining's rmse: 14702\tvalid_1's rmse: 20777\n",
      "[600]\ttraining's rmse: 13992.3\tvalid_1's rmse: 20726.1\n",
      "[700]\ttraining's rmse: 13294.5\tvalid_1's rmse: 20715.7\n",
      "[800]\ttraining's rmse: 12664.4\tvalid_1's rmse: 20692\n",
      "Early stopping, best iteration is:\n",
      "[763]\ttraining's rmse: 12867.2\tvalid_1's rmse: 20677.3\n",
      "Fold 5\n",
      "Training until validation scores don't improve for 100 rounds\n",
      "[100]\ttraining's rmse: 19090.4\tvalid_1's rmse: 20960.5\n",
      "[200]\ttraining's rmse: 17571.8\tvalid_1's rmse: 20529.1\n",
      "[300]\ttraining's rmse: 16599.1\tvalid_1's rmse: 20480.8\n",
      "[400]\ttraining's rmse: 15595.5\tvalid_1's rmse: 20436.9\n",
      "[500]\ttraining's rmse: 14876.2\tvalid_1's rmse: 20431.4\n",
      "Early stopping, best iteration is:\n",
      "[425]\ttraining's rmse: 15420.7\tvalid_1's rmse: 20410.9\n"
     ]
    }
   ],
   "source": [
    "importances = pd.DataFrame()\n",
    "oof_preds = np.zeros(len(train_df))\n",
    "models = []\n",
    "\n",
    "for fold_i, (trn_idx, val_idx) in enumerate(fold_idx_list):\n",
    "    print(f\"Fold {fold_i+1}\")\n",
    "    train_dataset = lgb.Dataset(\n",
    "        train_df.loc[trn_idx, use_cols],\n",
    "        label = train_df.loc[trn_idx, \"Salary\"]\n",
    "    )\n",
    "    valid_dataset = lgb.Dataset(\n",
    "        train_df.loc[val_idx, use_cols],\n",
    "        label = train_df.loc[val_idx, \"Salary\"]\n",
    "    )\n",
    "    model = lgb.train(\n",
    "                lgb_params,\n",
    "                train_dataset,\n",
    "                3000,\n",
    "                valid_sets = [train_dataset, valid_dataset],\n",
    "                verbose_eval=100,\n",
    "                early_stopping_rounds = 100,\n",
    "                #feval = eval_f1,\n",
    "                #callbacks = [log_callback],\n",
    "    )\n",
    "    imp_df = pd.DataFrame()\n",
    "    imp_df['feature'] = use_cols\n",
    "    imp_df['gain'] = model.feature_importance(importance_type=\"gain\")\n",
    "    importances = pd.concat([importances, imp_df], axis=0, sort=False)\n",
    "    \n",
    "    oof_preds[val_idx] = model.predict(train_df.loc[val_idx, use_cols])\n",
    "    models.append(model)"
   ]
  },
  {
   "cell_type": "code",
   "execution_count": 25,
   "metadata": {},
   "outputs": [
    {
     "data": {
      "text/plain": [
       "20753.838190495364"
      ]
     },
     "execution_count": 25,
     "metadata": {},
     "output_type": "execute_result"
    }
   ],
   "source": [
    "oof_score = np.sqrt(mean_squared_error(train_df[\"Salary\"], oof_preds))\n",
    "oof_score\n",
    "#20824.817522627924\n",
    "#20794.69950160029"
   ]
  },
  {
   "cell_type": "code",
   "execution_count": 26,
   "metadata": {},
   "outputs": [
    {
     "data": {
      "text/html": [
       "<div>\n",
       "<style scoped>\n",
       "    .dataframe tbody tr th:only-of-type {\n",
       "        vertical-align: middle;\n",
       "    }\n",
       "\n",
       "    .dataframe tbody tr th {\n",
       "        vertical-align: top;\n",
       "    }\n",
       "\n",
       "    .dataframe thead th {\n",
       "        text-align: right;\n",
       "    }\n",
       "</style>\n",
       "<table border=\"1\" class=\"dataframe\">\n",
       "  <thead>\n",
       "    <tr style=\"text-align: right;\">\n",
       "      <th></th>\n",
       "      <th>feature</th>\n",
       "      <th>gain</th>\n",
       "    </tr>\n",
       "  </thead>\n",
       "  <tbody>\n",
       "    <tr>\n",
       "      <th>0</th>\n",
       "      <td>te_Country__YearsCodingProf</td>\n",
       "      <td>6.553283e+13</td>\n",
       "    </tr>\n",
       "    <tr>\n",
       "      <th>1</th>\n",
       "      <td>te_Country__YearsCoding</td>\n",
       "      <td>2.591876e+13</td>\n",
       "    </tr>\n",
       "    <tr>\n",
       "      <th>2</th>\n",
       "      <td>te_Country__Age</td>\n",
       "      <td>2.214863e+13</td>\n",
       "    </tr>\n",
       "    <tr>\n",
       "      <th>3</th>\n",
       "      <td>te_Country__Employment</td>\n",
       "      <td>1.154272e+13</td>\n",
       "    </tr>\n",
       "    <tr>\n",
       "      <th>4</th>\n",
       "      <td>te_YearsCodingProf__CurrencySymbol</td>\n",
       "      <td>7.876631e+12</td>\n",
       "    </tr>\n",
       "    <tr>\n",
       "      <th>5</th>\n",
       "      <td>te_YearsCodingProf__Currency</td>\n",
       "      <td>3.404706e+12</td>\n",
       "    </tr>\n",
       "    <tr>\n",
       "      <th>6</th>\n",
       "      <td>te_Employment__YearsCodingProf</td>\n",
       "      <td>1.806426e+12</td>\n",
       "    </tr>\n",
       "    <tr>\n",
       "      <th>7</th>\n",
       "      <td>te_YearsCodingProf__OperatingSystem</td>\n",
       "      <td>1.792005e+12</td>\n",
       "    </tr>\n",
       "    <tr>\n",
       "      <th>8</th>\n",
       "      <td>te_CompanySize__OperatingSystem</td>\n",
       "      <td>1.689523e+12</td>\n",
       "    </tr>\n",
       "    <tr>\n",
       "      <th>9</th>\n",
       "      <td>te_Country__FormalEducation</td>\n",
       "      <td>1.540287e+12</td>\n",
       "    </tr>\n",
       "    <tr>\n",
       "      <th>10</th>\n",
       "      <td>te_YearsCodingProf__AssessBenefits2</td>\n",
       "      <td>1.522278e+12</td>\n",
       "    </tr>\n",
       "    <tr>\n",
       "      <th>11</th>\n",
       "      <td>te_YearsCodingProf__CareerSatisfaction</td>\n",
       "      <td>1.397052e+12</td>\n",
       "    </tr>\n",
       "    <tr>\n",
       "      <th>12</th>\n",
       "      <td>te_CompanySize__CareerSatisfaction</td>\n",
       "      <td>1.238576e+12</td>\n",
       "    </tr>\n",
       "    <tr>\n",
       "      <th>13</th>\n",
       "      <td>te_Country__AssessBenefits2</td>\n",
       "      <td>1.216476e+12</td>\n",
       "    </tr>\n",
       "    <tr>\n",
       "      <th>14</th>\n",
       "      <td>te_Employment__CurrencySymbol</td>\n",
       "      <td>9.954449e+11</td>\n",
       "    </tr>\n",
       "    <tr>\n",
       "      <th>15</th>\n",
       "      <td>te_CompanySize__YearsCodingProf</td>\n",
       "      <td>9.860541e+11</td>\n",
       "    </tr>\n",
       "    <tr>\n",
       "      <th>16</th>\n",
       "      <td>diff_agg_mean_OperatingSystem_ohe_LanguageWork...</td>\n",
       "      <td>9.212379e+11</td>\n",
       "    </tr>\n",
       "    <tr>\n",
       "      <th>17</th>\n",
       "      <td>te_Employment__Age</td>\n",
       "      <td>8.930363e+11</td>\n",
       "    </tr>\n",
       "    <tr>\n",
       "      <th>18</th>\n",
       "      <td>te_YearsCoding__CurrencySymbol</td>\n",
       "      <td>8.644368e+11</td>\n",
       "    </tr>\n",
       "    <tr>\n",
       "      <th>19</th>\n",
       "      <td>te_YearsCoding__CareerSatisfaction</td>\n",
       "      <td>8.024148e+11</td>\n",
       "    </tr>\n",
       "    <tr>\n",
       "      <th>20</th>\n",
       "      <td>te_CareerSatisfaction__AssessBenefits2</td>\n",
       "      <td>7.925924e+11</td>\n",
       "    </tr>\n",
       "    <tr>\n",
       "      <th>21</th>\n",
       "      <td>te_Employment__FormalEducation</td>\n",
       "      <td>7.620561e+11</td>\n",
       "    </tr>\n",
       "    <tr>\n",
       "      <th>22</th>\n",
       "      <td>te_CompanySize__AssessBenefits2</td>\n",
       "      <td>7.487466e+11</td>\n",
       "    </tr>\n",
       "    <tr>\n",
       "      <th>23</th>\n",
       "      <td>te_FormalEducation__CareerSatisfaction</td>\n",
       "      <td>6.974658e+11</td>\n",
       "    </tr>\n",
       "    <tr>\n",
       "      <th>24</th>\n",
       "      <td>te_Employment__OperatingSystem</td>\n",
       "      <td>6.899278e+11</td>\n",
       "    </tr>\n",
       "    <tr>\n",
       "      <th>25</th>\n",
       "      <td>diff_agg_mean_CompanySize_ohe_DevType_Engineer...</td>\n",
       "      <td>6.898666e+11</td>\n",
       "    </tr>\n",
       "    <tr>\n",
       "      <th>26</th>\n",
       "      <td>te_Employment__CareerSatisfaction</td>\n",
       "      <td>6.733736e+11</td>\n",
       "    </tr>\n",
       "    <tr>\n",
       "      <th>27</th>\n",
       "      <td>te_YearsCoding__AssessBenefits2</td>\n",
       "      <td>6.098580e+11</td>\n",
       "    </tr>\n",
       "    <tr>\n",
       "      <th>28</th>\n",
       "      <td>agg_mean_SalaryType_ohe_RaceEthnicity_White_or...</td>\n",
       "      <td>6.010831e+11</td>\n",
       "    </tr>\n",
       "    <tr>\n",
       "      <th>29</th>\n",
       "      <td>te_Country__OperatingSystem</td>\n",
       "      <td>5.676079e+11</td>\n",
       "    </tr>\n",
       "    <tr>\n",
       "      <th>30</th>\n",
       "      <td>te_YearsCoding__OperatingSystem</td>\n",
       "      <td>5.263865e+11</td>\n",
       "    </tr>\n",
       "    <tr>\n",
       "      <th>31</th>\n",
       "      <td>te_FormalEducation__CompanySize</td>\n",
       "      <td>4.975693e+11</td>\n",
       "    </tr>\n",
       "    <tr>\n",
       "      <th>32</th>\n",
       "      <td>te_CareerSatisfaction__OperatingSystem</td>\n",
       "      <td>4.824856e+11</td>\n",
       "    </tr>\n",
       "    <tr>\n",
       "      <th>33</th>\n",
       "      <td>te_Country__CompanySize</td>\n",
       "      <td>4.770237e+11</td>\n",
       "    </tr>\n",
       "    <tr>\n",
       "      <th>34</th>\n",
       "      <td>te_YearsCoding__YearsCodingProf</td>\n",
       "      <td>4.722426e+11</td>\n",
       "    </tr>\n",
       "    <tr>\n",
       "      <th>35</th>\n",
       "      <td>te_Country__CareerSatisfaction</td>\n",
       "      <td>4.662233e+11</td>\n",
       "    </tr>\n",
       "    <tr>\n",
       "      <th>36</th>\n",
       "      <td>te_CompanySize__YearsCoding</td>\n",
       "      <td>4.627930e+11</td>\n",
       "    </tr>\n",
       "    <tr>\n",
       "      <th>37</th>\n",
       "      <td>te_Employment__CompanySize</td>\n",
       "      <td>4.511997e+11</td>\n",
       "    </tr>\n",
       "    <tr>\n",
       "      <th>38</th>\n",
       "      <td>te_Employment__AssessBenefits2</td>\n",
       "      <td>4.508411e+11</td>\n",
       "    </tr>\n",
       "    <tr>\n",
       "      <th>39</th>\n",
       "      <td>agg_mean_SalaryType_ohe_DevType_Student</td>\n",
       "      <td>4.316747e+11</td>\n",
       "    </tr>\n",
       "    <tr>\n",
       "      <th>40</th>\n",
       "      <td>te_Employment__Currency</td>\n",
       "      <td>4.297705e+11</td>\n",
       "    </tr>\n",
       "    <tr>\n",
       "      <th>41</th>\n",
       "      <td>diff_agg_mean_Employment_ohe_LanguageWorkedWit...</td>\n",
       "      <td>4.258999e+11</td>\n",
       "    </tr>\n",
       "    <tr>\n",
       "      <th>42</th>\n",
       "      <td>te_AssessBenefits2__OperatingSystem</td>\n",
       "      <td>4.165430e+11</td>\n",
       "    </tr>\n",
       "    <tr>\n",
       "      <th>43</th>\n",
       "      <td>te_FormalEducation__CurrencySymbol</td>\n",
       "      <td>4.059317e+11</td>\n",
       "    </tr>\n",
       "    <tr>\n",
       "      <th>44</th>\n",
       "      <td>te_AssessBenefits2__Age</td>\n",
       "      <td>4.051847e+11</td>\n",
       "    </tr>\n",
       "    <tr>\n",
       "      <th>45</th>\n",
       "      <td>te_AssessBenefits2__CurrencySymbol</td>\n",
       "      <td>3.992667e+11</td>\n",
       "    </tr>\n",
       "    <tr>\n",
       "      <th>46</th>\n",
       "      <td>te_CompanySize__Age</td>\n",
       "      <td>3.822450e+11</td>\n",
       "    </tr>\n",
       "    <tr>\n",
       "      <th>47</th>\n",
       "      <td>te_FormalEducation__AssessBenefits2</td>\n",
       "      <td>3.606017e+11</td>\n",
       "    </tr>\n",
       "    <tr>\n",
       "      <th>48</th>\n",
       "      <td>te_YearsCodingProf__Age</td>\n",
       "      <td>3.599899e+11</td>\n",
       "    </tr>\n",
       "    <tr>\n",
       "      <th>49</th>\n",
       "      <td>te_FormalEducation__OperatingSystem</td>\n",
       "      <td>3.463074e+11</td>\n",
       "    </tr>\n",
       "    <tr>\n",
       "      <th>50</th>\n",
       "      <td>te_CareerSatisfaction__Age</td>\n",
       "      <td>3.414918e+11</td>\n",
       "    </tr>\n",
       "    <tr>\n",
       "      <th>51</th>\n",
       "      <td>te_sum_answer_Methodology</td>\n",
       "      <td>3.412031e+11</td>\n",
       "    </tr>\n",
       "    <tr>\n",
       "      <th>52</th>\n",
       "      <td>te_CurrencySymbol__OperatingSystem</td>\n",
       "      <td>3.384689e+11</td>\n",
       "    </tr>\n",
       "    <tr>\n",
       "      <th>53</th>\n",
       "      <td>te_CurrencySymbol__Age</td>\n",
       "      <td>3.352055e+11</td>\n",
       "    </tr>\n",
       "    <tr>\n",
       "      <th>54</th>\n",
       "      <td>diff_agg_mean_Country_ohe_DevType_Student</td>\n",
       "      <td>3.264545e+11</td>\n",
       "    </tr>\n",
       "    <tr>\n",
       "      <th>55</th>\n",
       "      <td>te_CompanySize__CurrencySymbol</td>\n",
       "      <td>3.183784e+11</td>\n",
       "    </tr>\n",
       "    <tr>\n",
       "      <th>56</th>\n",
       "      <td>ohe_LanguageWorkedWith_Go</td>\n",
       "      <td>3.059379e+11</td>\n",
       "    </tr>\n",
       "    <tr>\n",
       "      <th>57</th>\n",
       "      <td>te_Country__Currency</td>\n",
       "      <td>3.021456e+11</td>\n",
       "    </tr>\n",
       "    <tr>\n",
       "      <th>58</th>\n",
       "      <td>diff_agg_mean_TimeFullyProductive_ohe_Communic...</td>\n",
       "      <td>2.976474e+11</td>\n",
       "    </tr>\n",
       "    <tr>\n",
       "      <th>59</th>\n",
       "      <td>te_YearsCoding__Currency</td>\n",
       "      <td>2.939025e+11</td>\n",
       "    </tr>\n",
       "    <tr>\n",
       "      <th>60</th>\n",
       "      <td>te_FormalEducation__YearsCodingProf</td>\n",
       "      <td>2.792436e+11</td>\n",
       "    </tr>\n",
       "    <tr>\n",
       "      <th>61</th>\n",
       "      <td>sum_answer_Methodology</td>\n",
       "      <td>2.765944e+11</td>\n",
       "    </tr>\n",
       "    <tr>\n",
       "      <th>62</th>\n",
       "      <td>te_AssessBenefits2__Currency</td>\n",
       "      <td>2.755085e+11</td>\n",
       "    </tr>\n",
       "    <tr>\n",
       "      <th>63</th>\n",
       "      <td>te_FormalEducation__Currency</td>\n",
       "      <td>2.737874e+11</td>\n",
       "    </tr>\n",
       "    <tr>\n",
       "      <th>64</th>\n",
       "      <td>te_OperatingSystem__Age</td>\n",
       "      <td>2.685553e+11</td>\n",
       "    </tr>\n",
       "    <tr>\n",
       "      <th>65</th>\n",
       "      <td>te_CompanySize__Currency</td>\n",
       "      <td>2.666626e+11</td>\n",
       "    </tr>\n",
       "    <tr>\n",
       "      <th>66</th>\n",
       "      <td>te_FormalEducation__Age</td>\n",
       "      <td>2.636219e+11</td>\n",
       "    </tr>\n",
       "    <tr>\n",
       "      <th>67</th>\n",
       "      <td>diff_agg_mean_ohe_DevType_Engineering_manager_...</td>\n",
       "      <td>2.633226e+11</td>\n",
       "    </tr>\n",
       "    <tr>\n",
       "      <th>68</th>\n",
       "      <td>te_sum_answer_DatabaseWorkedWith</td>\n",
       "      <td>2.596576e+11</td>\n",
       "    </tr>\n",
       "    <tr>\n",
       "      <th>69</th>\n",
       "      <td>te_sum_answer_CommunicationTools</td>\n",
       "      <td>2.594440e+11</td>\n",
       "    </tr>\n",
       "    <tr>\n",
       "      <th>70</th>\n",
       "      <td>ohe_DatabaseWorkedWith_Redis</td>\n",
       "      <td>2.520313e+11</td>\n",
       "    </tr>\n",
       "    <tr>\n",
       "      <th>71</th>\n",
       "      <td>te_Employment__YearsCoding</td>\n",
       "      <td>2.505593e+11</td>\n",
       "    </tr>\n",
       "    <tr>\n",
       "      <th>72</th>\n",
       "      <td>te_AssessJob10</td>\n",
       "      <td>2.478233e+11</td>\n",
       "    </tr>\n",
       "    <tr>\n",
       "      <th>73</th>\n",
       "      <td>diff_agg_mean_SalaryType_ohe_DevType_Engineeri...</td>\n",
       "      <td>2.462251e+11</td>\n",
       "    </tr>\n",
       "    <tr>\n",
       "      <th>74</th>\n",
       "      <td>diff_agg_mean_YearsCodingProf_ohe_EducationTyp...</td>\n",
       "      <td>2.407180e+11</td>\n",
       "    </tr>\n",
       "    <tr>\n",
       "      <th>75</th>\n",
       "      <td>te_HypotheticalTools2</td>\n",
       "      <td>2.391236e+11</td>\n",
       "    </tr>\n",
       "    <tr>\n",
       "      <th>76</th>\n",
       "      <td>diff_agg_mean_Employment_ohe_CommunicationTool...</td>\n",
       "      <td>2.391100e+11</td>\n",
       "    </tr>\n",
       "    <tr>\n",
       "      <th>77</th>\n",
       "      <td>diff_agg_mean_CurrencySymbol_ohe_DevType_Student</td>\n",
       "      <td>2.368832e+11</td>\n",
       "    </tr>\n",
       "    <tr>\n",
       "      <th>78</th>\n",
       "      <td>agg_mean_CompanySize_AssessBenefits2</td>\n",
       "      <td>2.360703e+11</td>\n",
       "    </tr>\n",
       "    <tr>\n",
       "      <th>79</th>\n",
       "      <td>diff_agg_mean_ohe_LanguageWorkedWith_PHP_ohe_E...</td>\n",
       "      <td>2.357045e+11</td>\n",
       "    </tr>\n",
       "    <tr>\n",
       "      <th>80</th>\n",
       "      <td>ohe_DevType_Designer</td>\n",
       "      <td>2.344582e+11</td>\n",
       "    </tr>\n",
       "    <tr>\n",
       "      <th>81</th>\n",
       "      <td>te_LastNewJob</td>\n",
       "      <td>2.326836e+11</td>\n",
       "    </tr>\n",
       "    <tr>\n",
       "      <th>82</th>\n",
       "      <td>AssessJob10</td>\n",
       "      <td>2.324383e+11</td>\n",
       "    </tr>\n",
       "    <tr>\n",
       "      <th>83</th>\n",
       "      <td>te_CareerSatisfaction__CurrencySymbol</td>\n",
       "      <td>2.306773e+11</td>\n",
       "    </tr>\n",
       "    <tr>\n",
       "      <th>84</th>\n",
       "      <td>te_AssessBenefits7</td>\n",
       "      <td>2.297718e+11</td>\n",
       "    </tr>\n",
       "    <tr>\n",
       "      <th>85</th>\n",
       "      <td>sum_answer_DevType</td>\n",
       "      <td>2.248444e+11</td>\n",
       "    </tr>\n",
       "    <tr>\n",
       "      <th>86</th>\n",
       "      <td>te_UpdateCV</td>\n",
       "      <td>2.228213e+11</td>\n",
       "    </tr>\n",
       "    <tr>\n",
       "      <th>87</th>\n",
       "      <td>diff_agg_mean_Currency_ohe_DevType_Student</td>\n",
       "      <td>2.226398e+11</td>\n",
       "    </tr>\n",
       "    <tr>\n",
       "      <th>88</th>\n",
       "      <td>te_WakeTime</td>\n",
       "      <td>2.223509e+11</td>\n",
       "    </tr>\n",
       "    <tr>\n",
       "      <th>89</th>\n",
       "      <td>te_Currency__OperatingSystem</td>\n",
       "      <td>2.184589e+11</td>\n",
       "    </tr>\n",
       "    <tr>\n",
       "      <th>90</th>\n",
       "      <td>diff_agg_mean_CompanySize_AssessBenefits2</td>\n",
       "      <td>2.159570e+11</td>\n",
       "    </tr>\n",
       "    <tr>\n",
       "      <th>91</th>\n",
       "      <td>te_AssessBenefits10</td>\n",
       "      <td>2.120497e+11</td>\n",
       "    </tr>\n",
       "    <tr>\n",
       "      <th>92</th>\n",
       "      <td>diff_agg_mean_Employment_ohe_LanguageDesireNex...</td>\n",
       "      <td>2.016099e+11</td>\n",
       "    </tr>\n",
       "    <tr>\n",
       "      <th>93</th>\n",
       "      <td>te_AdsPriorities3</td>\n",
       "      <td>2.015504e+11</td>\n",
       "    </tr>\n",
       "    <tr>\n",
       "      <th>94</th>\n",
       "      <td>te_JobEmailPriorities5</td>\n",
       "      <td>2.001060e+11</td>\n",
       "    </tr>\n",
       "    <tr>\n",
       "      <th>95</th>\n",
       "      <td>te_YearsCoding__Age</td>\n",
       "      <td>1.913937e+11</td>\n",
       "    </tr>\n",
       "    <tr>\n",
       "      <th>96</th>\n",
       "      <td>te_StackOverflowJobsRecommend</td>\n",
       "      <td>1.898480e+11</td>\n",
       "    </tr>\n",
       "    <tr>\n",
       "      <th>97</th>\n",
       "      <td>te_AssessJob6</td>\n",
       "      <td>1.887732e+11</td>\n",
       "    </tr>\n",
       "    <tr>\n",
       "      <th>98</th>\n",
       "      <td>te_CareerSatisfaction__Currency</td>\n",
       "      <td>1.853076e+11</td>\n",
       "    </tr>\n",
       "    <tr>\n",
       "      <th>99</th>\n",
       "      <td>te_AssessBenefits8</td>\n",
       "      <td>1.853054e+11</td>\n",
       "    </tr>\n",
       "  </tbody>\n",
       "</table>\n",
       "</div>"
      ],
      "text/plain": [
       "                                              feature          gain\n",
       "0                         te_Country__YearsCodingProf  6.553283e+13\n",
       "1                             te_Country__YearsCoding  2.591876e+13\n",
       "2                                     te_Country__Age  2.214863e+13\n",
       "3                              te_Country__Employment  1.154272e+13\n",
       "4                  te_YearsCodingProf__CurrencySymbol  7.876631e+12\n",
       "5                        te_YearsCodingProf__Currency  3.404706e+12\n",
       "6                      te_Employment__YearsCodingProf  1.806426e+12\n",
       "7                 te_YearsCodingProf__OperatingSystem  1.792005e+12\n",
       "8                     te_CompanySize__OperatingSystem  1.689523e+12\n",
       "9                         te_Country__FormalEducation  1.540287e+12\n",
       "10                te_YearsCodingProf__AssessBenefits2  1.522278e+12\n",
       "11             te_YearsCodingProf__CareerSatisfaction  1.397052e+12\n",
       "12                 te_CompanySize__CareerSatisfaction  1.238576e+12\n",
       "13                        te_Country__AssessBenefits2  1.216476e+12\n",
       "14                      te_Employment__CurrencySymbol  9.954449e+11\n",
       "15                    te_CompanySize__YearsCodingProf  9.860541e+11\n",
       "16  diff_agg_mean_OperatingSystem_ohe_LanguageWork...  9.212379e+11\n",
       "17                                 te_Employment__Age  8.930363e+11\n",
       "18                     te_YearsCoding__CurrencySymbol  8.644368e+11\n",
       "19                 te_YearsCoding__CareerSatisfaction  8.024148e+11\n",
       "20             te_CareerSatisfaction__AssessBenefits2  7.925924e+11\n",
       "21                     te_Employment__FormalEducation  7.620561e+11\n",
       "22                    te_CompanySize__AssessBenefits2  7.487466e+11\n",
       "23             te_FormalEducation__CareerSatisfaction  6.974658e+11\n",
       "24                     te_Employment__OperatingSystem  6.899278e+11\n",
       "25  diff_agg_mean_CompanySize_ohe_DevType_Engineer...  6.898666e+11\n",
       "26                  te_Employment__CareerSatisfaction  6.733736e+11\n",
       "27                    te_YearsCoding__AssessBenefits2  6.098580e+11\n",
       "28  agg_mean_SalaryType_ohe_RaceEthnicity_White_or...  6.010831e+11\n",
       "29                        te_Country__OperatingSystem  5.676079e+11\n",
       "30                    te_YearsCoding__OperatingSystem  5.263865e+11\n",
       "31                    te_FormalEducation__CompanySize  4.975693e+11\n",
       "32             te_CareerSatisfaction__OperatingSystem  4.824856e+11\n",
       "33                            te_Country__CompanySize  4.770237e+11\n",
       "34                    te_YearsCoding__YearsCodingProf  4.722426e+11\n",
       "35                     te_Country__CareerSatisfaction  4.662233e+11\n",
       "36                        te_CompanySize__YearsCoding  4.627930e+11\n",
       "37                         te_Employment__CompanySize  4.511997e+11\n",
       "38                     te_Employment__AssessBenefits2  4.508411e+11\n",
       "39            agg_mean_SalaryType_ohe_DevType_Student  4.316747e+11\n",
       "40                            te_Employment__Currency  4.297705e+11\n",
       "41  diff_agg_mean_Employment_ohe_LanguageWorkedWit...  4.258999e+11\n",
       "42                te_AssessBenefits2__OperatingSystem  4.165430e+11\n",
       "43                 te_FormalEducation__CurrencySymbol  4.059317e+11\n",
       "44                            te_AssessBenefits2__Age  4.051847e+11\n",
       "45                 te_AssessBenefits2__CurrencySymbol  3.992667e+11\n",
       "46                                te_CompanySize__Age  3.822450e+11\n",
       "47                te_FormalEducation__AssessBenefits2  3.606017e+11\n",
       "48                            te_YearsCodingProf__Age  3.599899e+11\n",
       "49                te_FormalEducation__OperatingSystem  3.463074e+11\n",
       "50                         te_CareerSatisfaction__Age  3.414918e+11\n",
       "51                          te_sum_answer_Methodology  3.412031e+11\n",
       "52                 te_CurrencySymbol__OperatingSystem  3.384689e+11\n",
       "53                             te_CurrencySymbol__Age  3.352055e+11\n",
       "54          diff_agg_mean_Country_ohe_DevType_Student  3.264545e+11\n",
       "55                     te_CompanySize__CurrencySymbol  3.183784e+11\n",
       "56                          ohe_LanguageWorkedWith_Go  3.059379e+11\n",
       "57                               te_Country__Currency  3.021456e+11\n",
       "58  diff_agg_mean_TimeFullyProductive_ohe_Communic...  2.976474e+11\n",
       "59                           te_YearsCoding__Currency  2.939025e+11\n",
       "60                te_FormalEducation__YearsCodingProf  2.792436e+11\n",
       "61                             sum_answer_Methodology  2.765944e+11\n",
       "62                       te_AssessBenefits2__Currency  2.755085e+11\n",
       "63                       te_FormalEducation__Currency  2.737874e+11\n",
       "64                            te_OperatingSystem__Age  2.685553e+11\n",
       "65                           te_CompanySize__Currency  2.666626e+11\n",
       "66                            te_FormalEducation__Age  2.636219e+11\n",
       "67  diff_agg_mean_ohe_DevType_Engineering_manager_...  2.633226e+11\n",
       "68                   te_sum_answer_DatabaseWorkedWith  2.596576e+11\n",
       "69                   te_sum_answer_CommunicationTools  2.594440e+11\n",
       "70                       ohe_DatabaseWorkedWith_Redis  2.520313e+11\n",
       "71                         te_Employment__YearsCoding  2.505593e+11\n",
       "72                                     te_AssessJob10  2.478233e+11\n",
       "73  diff_agg_mean_SalaryType_ohe_DevType_Engineeri...  2.462251e+11\n",
       "74  diff_agg_mean_YearsCodingProf_ohe_EducationTyp...  2.407180e+11\n",
       "75                              te_HypotheticalTools2  2.391236e+11\n",
       "76  diff_agg_mean_Employment_ohe_CommunicationTool...  2.391100e+11\n",
       "77   diff_agg_mean_CurrencySymbol_ohe_DevType_Student  2.368832e+11\n",
       "78               agg_mean_CompanySize_AssessBenefits2  2.360703e+11\n",
       "79  diff_agg_mean_ohe_LanguageWorkedWith_PHP_ohe_E...  2.357045e+11\n",
       "80                               ohe_DevType_Designer  2.344582e+11\n",
       "81                                      te_LastNewJob  2.326836e+11\n",
       "82                                        AssessJob10  2.324383e+11\n",
       "83              te_CareerSatisfaction__CurrencySymbol  2.306773e+11\n",
       "84                                 te_AssessBenefits7  2.297718e+11\n",
       "85                                 sum_answer_DevType  2.248444e+11\n",
       "86                                        te_UpdateCV  2.228213e+11\n",
       "87         diff_agg_mean_Currency_ohe_DevType_Student  2.226398e+11\n",
       "88                                        te_WakeTime  2.223509e+11\n",
       "89                       te_Currency__OperatingSystem  2.184589e+11\n",
       "90          diff_agg_mean_CompanySize_AssessBenefits2  2.159570e+11\n",
       "91                                te_AssessBenefits10  2.120497e+11\n",
       "92  diff_agg_mean_Employment_ohe_LanguageDesireNex...  2.016099e+11\n",
       "93                                  te_AdsPriorities3  2.015504e+11\n",
       "94                             te_JobEmailPriorities5  2.001060e+11\n",
       "95                                te_YearsCoding__Age  1.913937e+11\n",
       "96                      te_StackOverflowJobsRecommend  1.898480e+11\n",
       "97                                      te_AssessJob6  1.887732e+11\n",
       "98                    te_CareerSatisfaction__Currency  1.853076e+11\n",
       "99                                 te_AssessBenefits8  1.853054e+11"
      ]
     },
     "execution_count": 26,
     "metadata": {},
     "output_type": "execute_result"
    }
   ],
   "source": [
    "importances.groupby(\"feature\")[\"gain\"].mean().sort_values(ascending=False).reset_index().iloc[:100]"
   ]
  },
  {
   "cell_type": "code",
   "execution_count": 27,
   "metadata": {},
   "outputs": [],
   "source": [
    "test_pred = np.zeros(len(test_df))\n",
    "\n",
    "for model in models:\n",
    "    test_pred += model.predict(test_df[use_cols]) / len(models)"
   ]
  },
  {
   "cell_type": "code",
   "execution_count": 28,
   "metadata": {},
   "outputs": [
    {
     "data": {
      "text/plain": [
       "array([ 68414.15278598,  92342.90700658,  84450.68868507, ...,\n",
       "        88749.35622669,  82455.57305339, 116816.49800077])"
      ]
     },
     "execution_count": 28,
     "metadata": {},
     "output_type": "execute_result"
    }
   ],
   "source": [
    "test_pred"
   ]
  },
  {
   "cell_type": "code",
   "execution_count": 29,
   "metadata": {},
   "outputs": [],
   "source": [
    "sub_df = pd.read_csv(\"../input/submit.csv\")"
   ]
  },
  {
   "cell_type": "code",
   "execution_count": 30,
   "metadata": {},
   "outputs": [],
   "source": [
    "sub_df[\"Salary\"] = test_pred"
   ]
  },
  {
   "cell_type": "code",
   "execution_count": 31,
   "metadata": {},
   "outputs": [],
   "source": [
    "sub_df.to_csv(\"../predict/010_multi_te_20780.csv\", index=False)"
   ]
  },
  {
   "cell_type": "code",
   "execution_count": null,
   "metadata": {},
   "outputs": [],
   "source": []
  }
 ],
 "metadata": {
  "kernelspec": {
   "display_name": "Python 3.8.2 64-bit ('3.8.2': pyenv)",
   "language": "python",
   "name": "python38264bit382pyenv0bf26b16ab884472b54c5411cc1e5c03"
  },
  "language_info": {
   "codemirror_mode": {
    "name": "ipython",
    "version": 3
   },
   "file_extension": ".py",
   "mimetype": "text/x-python",
   "name": "python",
   "nbconvert_exporter": "python",
   "pygments_lexer": "ipython3",
   "version": "3.8.2"
  },
  "toc": {
   "base_numbering": 1,
   "nav_menu": {},
   "number_sections": true,
   "sideBar": true,
   "skip_h1_title": false,
   "title_cell": "Table of Contents",
   "title_sidebar": "Contents",
   "toc_cell": false,
   "toc_position": {},
   "toc_section_display": true,
   "toc_window_display": false
  }
 },
 "nbformat": 4,
 "nbformat_minor": 4
}
