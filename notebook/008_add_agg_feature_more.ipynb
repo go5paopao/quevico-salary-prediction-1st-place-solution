{
 "cells": [
  {
   "cell_type": "markdown",
   "metadata": {},
   "source": [
    "## Prepare and read data"
   ]
  },
  {
   "cell_type": "code",
   "execution_count": 2,
   "metadata": {},
   "outputs": [],
   "source": [
    "import gc\n",
    "from tqdm.auto import tqdm\n",
    "import pandas as pd\n",
    "import numpy as np\n",
    "import lightgbm as lgb\n",
    "\n",
    "from sklearn.preprocessing import MultiLabelBinarizer\n",
    "from sklearn.model_selection import StratifiedKFold, KFold\n",
    "from sklearn.metrics import mean_squared_error"
   ]
  },
  {
   "cell_type": "code",
   "execution_count": 3,
   "metadata": {},
   "outputs": [],
   "source": [
    "pd.set_option(\"max_columns\", 300)\n",
    "pd.set_option(\"max_rows\", 500)"
   ]
  },
  {
   "cell_type": "code",
   "execution_count": 4,
   "metadata": {},
   "outputs": [],
   "source": [
    "train_df = pd.read_csv(\"../input/train.csv\")\n",
    "test_df = pd.read_csv(\"../input/test.csv\")"
   ]
  },
  {
   "cell_type": "markdown",
   "metadata": {},
   "source": [
    "## Feature Engineering"
   ]
  },
  {
   "cell_type": "code",
   "execution_count": 5,
   "metadata": {},
   "outputs": [],
   "source": [
    "def get_multi_cat_cols(train_df):\n",
    "    tmp = train_df.iloc[:1000]\n",
    "    multi_cols = []\n",
    "    for c in train_df.columns:\n",
    "        sep_num = tmp[c].astype(str).fillna(\"\").str.contains(\";\").sum()\n",
    "        if sep_num > 10:\n",
    "            multi_cols.append(c)\n",
    "    return multi_cols"
   ]
  },
  {
   "cell_type": "code",
   "execution_count": 6,
   "metadata": {},
   "outputs": [],
   "source": [
    "original_cols = train_df.columns.tolist()"
   ]
  },
  {
   "cell_type": "code",
   "execution_count": 7,
   "metadata": {},
   "outputs": [],
   "source": [
    "multi_cat_cols = get_multi_cat_cols(train_df)"
   ]
  },
  {
   "cell_type": "code",
   "execution_count": 9,
   "metadata": {},
   "outputs": [
    {
     "data": {
      "application/vnd.jupyter.widget-view+json": {
       "model_id": "e2d642a6c0ca490e892a47938bf7ea75",
       "version_major": 2,
       "version_minor": 0
      },
      "text/plain": [
       "HBox(children=(FloatProgress(value=0.0, max=21.0), HTML(value='')))"
      ]
     },
     "metadata": {},
     "output_type": "display_data"
    },
    {
     "name": "stdout",
     "output_type": "stream",
     "text": [
      "\n"
     ]
    }
   ],
   "source": [
    "for c in tqdm(multi_cat_cols):\n",
    "    binarizer = MultiLabelBinarizer()\n",
    "    train_multi_srs = train_df[c].map(lambda x: x.split(\";\") if x is not np.nan else [])\n",
    "    test_multi_srs = test_df[c].map(lambda x: x.split(\";\") if x is not np.nan else [])\n",
    "    train_arr = binarizer.fit_transform(train_multi_srs)\n",
    "    test_arr = binarizer.transform(test_multi_srs)\n",
    "    feat_cols = [f\"ohe_{c}_{val}\" for val in binarizer.classes_]\n",
    "    train_feat_df = pd.DataFrame(train_arr, columns=feat_cols, dtype=np.int8)\n",
    "    test_feat_df = pd.DataFrame(test_arr, columns=feat_cols, dtype=np.int8)\n",
    "    train_feat_df[f\"sum_answer_{c}\"] = (train_df[c].str.count(\";\") + 1).fillna(-1).astype(np.int8)\n",
    "    test_feat_df[f\"sum_answer_{c}\"] = (test_df[c].str.count(\";\") + 1).fillna(-1).astype(np.int8)\n",
    "    train_df = pd.concat([train_df, train_feat_df], axis=1)\n",
    "    test_df = pd.concat([test_df, test_feat_df], axis=1)"
   ]
  },
  {
   "cell_type": "code",
   "execution_count": 10,
   "metadata": {},
   "outputs": [],
   "source": [
    "other_cols = [\n",
    "    c for c in list(np.setdiff1d(original_cols, multi_cat_cols)) if c not in [\"Salary\", \"No\"]\n",
    "]"
   ]
  },
  {
   "cell_type": "code",
   "execution_count": 11,
   "metadata": {},
   "outputs": [
    {
     "data": {
      "application/vnd.jupyter.widget-view+json": {
       "model_id": "becc70ee121a4e6b9f12e0ada5b98a50",
       "version_major": 2,
       "version_minor": 0
      },
      "text/plain": [
       "HBox(children=(FloatProgress(value=0.0, max=105.0), HTML(value='')))"
      ]
     },
     "metadata": {},
     "output_type": "display_data"
    },
    {
     "name": "stdout",
     "output_type": "stream",
     "text": [
      "\n"
     ]
    }
   ],
   "source": [
    "cat_cols = []\n",
    "for c in tqdm(other_cols):\n",
    "    if \"float\" in train_df[c].dtype.name:\n",
    "        if train_df[c].nunique() > 1000:\n",
    "            train_df[c] = train_df[c].astype(np.float32)\n",
    "            test_df[c] = test_df[c].astype(np.float32)\n",
    "        else:\n",
    "            train_df[c] = train_df[c].astype(np.float16)\n",
    "            test_df[c] = test_df[c].astype(np.float16)\n",
    "    else:\n",
    "        train_df[c], uniques = pd.factorize(train_df[c], sort=True)\n",
    "        test_df[c] = uniques.get_indexer(test_df[c])\n",
    "        if train_df[c].max() > 32767:\n",
    "            train_df[c] = train_df[c].astype(np.int32)\n",
    "            test_df[c] = test_df[c].astype(np.int32)\n",
    "        else:\n",
    "            train_df[c] = train_df[c].astype(np.int16)\n",
    "            test_df[c] = test_df[c].astype(np.int16)            \n",
    "        cat_cols.append(c)"
   ]
  },
  {
   "cell_type": "code",
   "execution_count": 12,
   "metadata": {},
   "outputs": [
    {
     "data": {
      "text/plain": [
       "((33857, 465), (11259, 464))"
      ]
     },
     "execution_count": 12,
     "metadata": {},
     "output_type": "execute_result"
    }
   ],
   "source": [
    "train_df.shape, test_df.shape"
   ]
  },
  {
   "cell_type": "code",
   "execution_count": 13,
   "metadata": {},
   "outputs": [],
   "source": [
    "train_df.columns = [\"\".join (c if c.isalnum() else \"_\" for c in str(x)) for x in train_df.columns]\n",
    "test_df.columns = [\"\".join (c if c.isalnum() else \"_\" for c in str(x)) for x in test_df.columns]"
   ]
  },
  {
   "cell_type": "code",
   "execution_count": 19,
   "metadata": {},
   "outputs": [],
   "source": [
    "# basicなモデルのimportanceを読み込み\n",
    "importance_df = pd.read_csv(\"../data/importance/003_importance.csv\")"
   ]
  },
  {
   "cell_type": "code",
   "execution_count": 22,
   "metadata": {},
   "outputs": [],
   "source": [
    "imp_feats = importance_df[\"feature\"].iloc[:50].tolist()\n",
    "imp_cat_cols = [c for c in imp_feats if c in cat_cols or c[:4] == \"ohe_\"]\n",
    "imp_nume_cols = [c for c in imp_feats if c not in cat_cols and c not in multi_cat_cols]"
   ]
  },
  {
   "cell_type": "code",
   "execution_count": 23,
   "metadata": {},
   "outputs": [
    {
     "data": {
      "text/plain": [
       "(32, 15)"
      ]
     },
     "execution_count": 23,
     "metadata": {},
     "output_type": "execute_result"
    }
   ],
   "source": [
    "len(imp_cat_cols), len(imp_nume_cols)"
   ]
  },
  {
   "cell_type": "code",
   "execution_count": 24,
   "metadata": {
    "scrolled": true
   },
   "outputs": [
    {
     "data": {
      "application/vnd.jupyter.widget-view+json": {
       "model_id": "bf9cf91604e647b0b9588ebb7e49bed1",
       "version_major": 2,
       "version_minor": 0
      },
      "text/plain": [
       "HBox(children=(FloatProgress(value=0.0, max=32.0), HTML(value='')))"
      ]
     },
     "metadata": {},
     "output_type": "display_data"
    },
    {
     "name": "stdout",
     "output_type": "stream",
     "text": [
      "\n"
     ]
    },
    {
     "data": {
      "text/plain": [
       "30"
      ]
     },
     "execution_count": 24,
     "metadata": {},
     "output_type": "execute_result"
    }
   ],
   "source": [
    "all_df = pd.concat([train_df, test_df], axis=0, ignore_index=True)\n",
    "for cat_col in tqdm(imp_cat_cols):\n",
    "    for nume_col in imp_nume_cols:\n",
    "        all_df[f\"agg_mean_{cat_col}_{nume_col}\"] = all_df.groupby(cat_col)[nume_col].transform(\"mean\")\n",
    "        all_df[f\"agg_std_{cat_col}_{nume_col}\"] = all_df.groupby(cat_col)[nume_col].transform(\"std\")\n",
    "        all_df[f\"agg_max_{cat_col}_{nume_col}\"] = all_df.groupby(cat_col)[nume_col].transform(\"max\")\n",
    "        all_df[f\"agg_min_{cat_col}_{nume_col}\"] = all_df.groupby(cat_col)[nume_col].transform(\"min\")\n",
    "        all_df[f\"diff_agg_mean_{cat_col}_{nume_col}\"] = all_df[nume_col] - all_df[f\"agg_mean_{cat_col}_{nume_col}\"]\n",
    "        all_df[f\"rel_agg_mean_{cat_col}_{nume_col}\"] = all_df[nume_col] / (1 + all_df[f\"agg_mean_{cat_col}_{nume_col}\"])\n",
    "train_df = all_df.iloc[:len(train_df)].reset_index(drop=True)\n",
    "test_df = all_df.iloc[len(train_df):].reset_index(drop=True)\n",
    "del all_df\n",
    "gc.collect()"
   ]
  },
  {
   "cell_type": "code",
   "execution_count": 25,
   "metadata": {},
   "outputs": [],
   "source": [
    "use_cols = [c for c in train_df.columns if c not in multi_cat_cols + [\"Salary\", \"No\"]]"
   ]
  },
  {
   "cell_type": "code",
   "execution_count": 26,
   "metadata": {},
   "outputs": [],
   "source": [
    "folds = KFold(n_splits=5, random_state=2020, shuffle=True)\n",
    "fold_idx_list = [(trn_idx, val_idx) for trn_idx, val_idx in folds.split(train_df, train_df[\"Salary\"])]"
   ]
  },
  {
   "cell_type": "markdown",
   "metadata": {},
   "source": [
    "### Target Encoding"
   ]
  },
  {
   "cell_type": "code",
   "execution_count": 27,
   "metadata": {},
   "outputs": [
    {
     "data": {
      "application/vnd.jupyter.widget-view+json": {
       "model_id": "8ed40339b50a4d13828e5c32f985d579",
       "version_major": 2,
       "version_minor": 0
      },
      "text/plain": [
       "HBox(children=(FloatProgress(value=0.0, max=3322.0), HTML(value='')))"
      ]
     },
     "metadata": {},
     "output_type": "display_data"
    },
    {
     "name": "stdout",
     "output_type": "stream",
     "text": [
      "\n"
     ]
    }
   ],
   "source": [
    "for c in tqdm(use_cols):\n",
    "    if \"agg_\" in c or train_df[c].nunique() < 5:\n",
    "        continue\n",
    "    new_col = \"te_\" + c\n",
    "    train_df[new_col] = 0\n",
    "    test_df[new_col] = 0\n",
    "    for trn_idx, val_idx in fold_idx_list:\n",
    "        mean_val = train_df.loc[trn_idx].groupby(c)[\"Salary\"].mean()\n",
    "        train_df.loc[val_idx, new_col] = train_df.loc[val_idx, c].map(mean_val)\n",
    "        test_df.loc[:, new_col] += test_df.loc[:, c].map(mean_val) / len(fold_idx_list)"
   ]
  },
  {
   "cell_type": "code",
   "execution_count": 28,
   "metadata": {},
   "outputs": [
    {
     "name": "stdout",
     "output_type": "stream",
     "text": [
      "3431\n"
     ]
    }
   ],
   "source": [
    "use_cols = [c for c in train_df.columns if c not in multi_cat_cols + [\"Salary\", \"No\"]]\n",
    "print(len(use_cols))"
   ]
  },
  {
   "cell_type": "markdown",
   "metadata": {},
   "source": [
    "## Training"
   ]
  },
  {
   "cell_type": "code",
   "execution_count": 29,
   "metadata": {},
   "outputs": [],
   "source": [
    "lgb_params = {\n",
    "            'objective': 'regression',\n",
    "            \"metric\": \"rmse\",\n",
    "            \"verbosity\": -1,\n",
    "            \"boosting\": \"gbdt\",\n",
    "            'learning_rate': 0.05,\n",
    "            'num_leaves': 128,\n",
    "            'min_data_in_leaf': 30, \n",
    "            'max_depth': 6,\n",
    "            \"bagging_freq\": 10,\n",
    "            \"bagging_fraction\": 0.4,\n",
    "            \"lambda_l1\": 0.5,\n",
    "            \"lambda_l2\": 0.5,\n",
    "            \"feature_fraction\": 0.7,\n",
    "            \"seed\": 2020,\n",
    "            \"num_threads\": -1,\n",
    "            \"max_bins\": 30\n",
    "}"
   ]
  },
  {
   "cell_type": "code",
   "execution_count": 30,
   "metadata": {},
   "outputs": [
    {
     "name": "stdout",
     "output_type": "stream",
     "text": [
      "Fold 1\n",
      "Training until validation scores don't improve for 100 rounds\n",
      "[100]\ttraining's rmse: 19123.1\tvalid_1's rmse: 21442.3\n",
      "[200]\ttraining's rmse: 17625.6\tvalid_1's rmse: 21152.9\n",
      "[300]\ttraining's rmse: 16551\tvalid_1's rmse: 21054.6\n",
      "[400]\ttraining's rmse: 15696.8\tvalid_1's rmse: 21027.5\n",
      "Early stopping, best iteration is:\n",
      "[355]\ttraining's rmse: 16063.3\tvalid_1's rmse: 21019.4\n",
      "Fold 2\n",
      "Training until validation scores don't improve for 100 rounds\n",
      "[100]\ttraining's rmse: 19200\tvalid_1's rmse: 21316.4\n",
      "[200]\ttraining's rmse: 17574.1\tvalid_1's rmse: 20852.3\n",
      "[300]\ttraining's rmse: 16503.7\tvalid_1's rmse: 20786.9\n",
      "[400]\ttraining's rmse: 15622.8\tvalid_1's rmse: 20707.4\n",
      "[500]\ttraining's rmse: 14851.6\tvalid_1's rmse: 20695.5\n",
      "Early stopping, best iteration is:\n",
      "[468]\ttraining's rmse: 15101.2\tvalid_1's rmse: 20662.1\n",
      "Fold 3\n",
      "Training until validation scores don't improve for 100 rounds\n",
      "[100]\ttraining's rmse: 19222.2\tvalid_1's rmse: 21301.4\n",
      "[200]\ttraining's rmse: 17579.8\tvalid_1's rmse: 20989.8\n",
      "[300]\ttraining's rmse: 16551.1\tvalid_1's rmse: 20916.5\n",
      "[400]\ttraining's rmse: 15611.9\tvalid_1's rmse: 20861.8\n",
      "[500]\ttraining's rmse: 14729.2\tvalid_1's rmse: 20896.4\n",
      "Early stopping, best iteration is:\n",
      "[400]\ttraining's rmse: 15611.9\tvalid_1's rmse: 20861.8\n",
      "Fold 4\n",
      "Training until validation scores don't improve for 100 rounds\n",
      "[100]\ttraining's rmse: 19157.1\tvalid_1's rmse: 21251.1\n",
      "[200]\ttraining's rmse: 17587\tvalid_1's rmse: 20870\n",
      "[300]\ttraining's rmse: 16480.3\tvalid_1's rmse: 20745.6\n",
      "[400]\ttraining's rmse: 15584.2\tvalid_1's rmse: 20698.7\n",
      "Early stopping, best iteration is:\n",
      "[364]\ttraining's rmse: 15874.4\tvalid_1's rmse: 20679.3\n",
      "Fold 5\n",
      "Training until validation scores don't improve for 100 rounds\n",
      "[100]\ttraining's rmse: 19248.5\tvalid_1's rmse: 21203.4\n",
      "[200]\ttraining's rmse: 17642.8\tvalid_1's rmse: 20726.3\n",
      "[300]\ttraining's rmse: 16601.1\tvalid_1's rmse: 20653.8\n",
      "[400]\ttraining's rmse: 15727.7\tvalid_1's rmse: 20584.7\n",
      "[500]\ttraining's rmse: 15013.5\tvalid_1's rmse: 20581.8\n",
      "Early stopping, best iteration is:\n",
      "[472]\ttraining's rmse: 15222.6\tvalid_1's rmse: 20554.4\n"
     ]
    }
   ],
   "source": [
    "importances = pd.DataFrame()\n",
    "oof_preds = np.zeros(len(train_df))\n",
    "models = []\n",
    "\n",
    "for fold_i, (trn_idx, val_idx) in enumerate(fold_idx_list):\n",
    "    print(f\"Fold {fold_i+1}\")\n",
    "    train_dataset = lgb.Dataset(\n",
    "        train_df.loc[trn_idx, use_cols],\n",
    "        label = train_df.loc[trn_idx, \"Salary\"]\n",
    "    )\n",
    "    valid_dataset = lgb.Dataset(\n",
    "        train_df.loc[val_idx, use_cols],\n",
    "        label = train_df.loc[val_idx, \"Salary\"]\n",
    "    )\n",
    "    model = lgb.train(\n",
    "                lgb_params,\n",
    "                train_dataset,\n",
    "                3000,\n",
    "                valid_sets = [train_dataset, valid_dataset],\n",
    "                verbose_eval=100,\n",
    "                early_stopping_rounds = 100,\n",
    "                #feval = eval_f1,\n",
    "                #callbacks = [log_callback],\n",
    "    )\n",
    "    imp_df = pd.DataFrame()\n",
    "    imp_df['feature'] = use_cols\n",
    "    imp_df['gain'] = model.feature_importance(importance_type=\"gain\")\n",
    "    importances = pd.concat([importances, imp_df], axis=0, sort=False)\n",
    "    \n",
    "    oof_preds[val_idx] = model.predict(train_df.loc[val_idx, use_cols])\n",
    "    models.append(model)"
   ]
  },
  {
   "cell_type": "code",
   "execution_count": 31,
   "metadata": {},
   "outputs": [
    {
     "data": {
      "text/plain": [
       "20756.069597167065"
      ]
     },
     "execution_count": 31,
     "metadata": {},
     "output_type": "execute_result"
    }
   ],
   "source": [
    "oof_score = np.sqrt(mean_squared_error(train_df[\"Salary\"], oof_preds))\n",
    "oof_score"
   ]
  },
  {
   "cell_type": "code",
   "execution_count": 32,
   "metadata": {},
   "outputs": [
    {
     "data": {
      "text/html": [
       "<div>\n",
       "<style scoped>\n",
       "    .dataframe tbody tr th:only-of-type {\n",
       "        vertical-align: middle;\n",
       "    }\n",
       "\n",
       "    .dataframe tbody tr th {\n",
       "        vertical-align: top;\n",
       "    }\n",
       "\n",
       "    .dataframe thead th {\n",
       "        text-align: right;\n",
       "    }\n",
       "</style>\n",
       "<table border=\"1\" class=\"dataframe\">\n",
       "  <thead>\n",
       "    <tr style=\"text-align: right;\">\n",
       "      <th></th>\n",
       "      <th>feature</th>\n",
       "      <th>gain</th>\n",
       "    </tr>\n",
       "  </thead>\n",
       "  <tbody>\n",
       "    <tr>\n",
       "      <th>0</th>\n",
       "      <td>te_Country</td>\n",
       "      <td>6.047179e+13</td>\n",
       "    </tr>\n",
       "    <tr>\n",
       "      <th>1</th>\n",
       "      <td>agg_mean_YearsCodingProf_ohe_DevType_Student</td>\n",
       "      <td>2.186721e+13</td>\n",
       "    </tr>\n",
       "    <tr>\n",
       "      <th>2</th>\n",
       "      <td>agg_mean_Country_ohe_EducationTypes_Contribute...</td>\n",
       "      <td>2.166508e+13</td>\n",
       "    </tr>\n",
       "    <tr>\n",
       "      <th>3</th>\n",
       "      <td>te_CurrencySymbol</td>\n",
       "      <td>5.533889e+12</td>\n",
       "    </tr>\n",
       "    <tr>\n",
       "      <th>4</th>\n",
       "      <td>agg_std_YearsCodingProf_ohe_DevType_Student</td>\n",
       "      <td>3.219078e+12</td>\n",
       "    </tr>\n",
       "    <tr>\n",
       "      <th>5</th>\n",
       "      <td>agg_mean_Employment_ohe_DevType_Student</td>\n",
       "      <td>2.650576e+12</td>\n",
       "    </tr>\n",
       "    <tr>\n",
       "      <th>6</th>\n",
       "      <td>te_YearsCodingProf</td>\n",
       "      <td>2.408684e+12</td>\n",
       "    </tr>\n",
       "    <tr>\n",
       "      <th>7</th>\n",
       "      <td>YearsCodingProf</td>\n",
       "      <td>1.652777e+12</td>\n",
       "    </tr>\n",
       "    <tr>\n",
       "      <th>8</th>\n",
       "      <td>diff_agg_mean_CurrencySymbol_ohe_DevType_Student</td>\n",
       "      <td>1.623039e+12</td>\n",
       "    </tr>\n",
       "    <tr>\n",
       "      <th>9</th>\n",
       "      <td>agg_mean_SalaryType_ohe_DevType_Student</td>\n",
       "      <td>1.544355e+12</td>\n",
       "    </tr>\n",
       "    <tr>\n",
       "      <th>10</th>\n",
       "      <td>diff_agg_mean_OperatingSystem_ohe_LanguageWork...</td>\n",
       "      <td>1.443200e+12</td>\n",
       "    </tr>\n",
       "    <tr>\n",
       "      <th>11</th>\n",
       "      <td>agg_std_Country_ohe_EducationTypes_Contributed...</td>\n",
       "      <td>1.442150e+12</td>\n",
       "    </tr>\n",
       "    <tr>\n",
       "      <th>12</th>\n",
       "      <td>agg_mean_Country_ohe_LanguageWorkedWith_PHP</td>\n",
       "      <td>1.440297e+12</td>\n",
       "    </tr>\n",
       "    <tr>\n",
       "      <th>13</th>\n",
       "      <td>diff_agg_mean_CompanySize_ohe_DevType_Engineer...</td>\n",
       "      <td>1.399178e+12</td>\n",
       "    </tr>\n",
       "    <tr>\n",
       "      <th>14</th>\n",
       "      <td>agg_mean_YearsCodingProf_ohe_RaceEthnicity_Whi...</td>\n",
       "      <td>1.355331e+12</td>\n",
       "    </tr>\n",
       "    <tr>\n",
       "      <th>15</th>\n",
       "      <td>agg_std_YearsCoding_ohe_DevType_Student</td>\n",
       "      <td>1.271507e+12</td>\n",
       "    </tr>\n",
       "    <tr>\n",
       "      <th>16</th>\n",
       "      <td>diff_agg_mean_YearsCodingProf_ohe_LanguageWork...</td>\n",
       "      <td>1.230190e+12</td>\n",
       "    </tr>\n",
       "    <tr>\n",
       "      <th>17</th>\n",
       "      <td>agg_mean_SalaryType_ohe_RaceEthnicity_White_or...</td>\n",
       "      <td>1.203943e+12</td>\n",
       "    </tr>\n",
       "    <tr>\n",
       "      <th>18</th>\n",
       "      <td>agg_mean_YearsCoding_ohe_DevType_Student</td>\n",
       "      <td>1.161945e+12</td>\n",
       "    </tr>\n",
       "    <tr>\n",
       "      <th>19</th>\n",
       "      <td>te_Currency</td>\n",
       "      <td>1.067744e+12</td>\n",
       "    </tr>\n",
       "    <tr>\n",
       "      <th>20</th>\n",
       "      <td>diff_agg_mean_Employment_ohe_LanguageWorkedWit...</td>\n",
       "      <td>9.393595e+11</td>\n",
       "    </tr>\n",
       "    <tr>\n",
       "      <th>21</th>\n",
       "      <td>diff_agg_mean_YearsCodingProf_ohe_EducationTyp...</td>\n",
       "      <td>8.829283e+11</td>\n",
       "    </tr>\n",
       "    <tr>\n",
       "      <th>22</th>\n",
       "      <td>agg_std_YearsCodingProf_ohe_RaceEthnicity_Whit...</td>\n",
       "      <td>8.117997e+11</td>\n",
       "    </tr>\n",
       "    <tr>\n",
       "      <th>23</th>\n",
       "      <td>agg_std_Country_ohe_Methodology_Agile</td>\n",
       "      <td>7.166847e+11</td>\n",
       "    </tr>\n",
       "    <tr>\n",
       "      <th>24</th>\n",
       "      <td>agg_mean_Employment_AssessBenefits2</td>\n",
       "      <td>6.699343e+11</td>\n",
       "    </tr>\n",
       "    <tr>\n",
       "      <th>25</th>\n",
       "      <td>diff_agg_mean_Country_ohe_DevType_Student</td>\n",
       "      <td>6.404070e+11</td>\n",
       "    </tr>\n",
       "    <tr>\n",
       "      <th>26</th>\n",
       "      <td>te_YearsCoding</td>\n",
       "      <td>6.268815e+11</td>\n",
       "    </tr>\n",
       "    <tr>\n",
       "      <th>27</th>\n",
       "      <td>agg_std_Currency_AssessJob8</td>\n",
       "      <td>5.904302e+11</td>\n",
       "    </tr>\n",
       "    <tr>\n",
       "      <th>28</th>\n",
       "      <td>diff_agg_mean_Currency_ohe_DevType_Student</td>\n",
       "      <td>5.806795e+11</td>\n",
       "    </tr>\n",
       "    <tr>\n",
       "      <th>29</th>\n",
       "      <td>agg_std_SalaryType_ohe_DevType_Student</td>\n",
       "      <td>5.743135e+11</td>\n",
       "    </tr>\n",
       "    <tr>\n",
       "      <th>30</th>\n",
       "      <td>agg_mean_CompanySize_AssessBenefits2</td>\n",
       "      <td>5.679266e+11</td>\n",
       "    </tr>\n",
       "    <tr>\n",
       "      <th>31</th>\n",
       "      <td>agg_mean_FormalEducation_ohe_DevType_Student</td>\n",
       "      <td>5.510032e+11</td>\n",
       "    </tr>\n",
       "    <tr>\n",
       "      <th>32</th>\n",
       "      <td>te_CompanySize</td>\n",
       "      <td>5.422347e+11</td>\n",
       "    </tr>\n",
       "    <tr>\n",
       "      <th>33</th>\n",
       "      <td>diff_agg_mean_CompanySize_AssessBenefits2</td>\n",
       "      <td>5.281913e+11</td>\n",
       "    </tr>\n",
       "    <tr>\n",
       "      <th>34</th>\n",
       "      <td>Currency</td>\n",
       "      <td>5.272733e+11</td>\n",
       "    </tr>\n",
       "    <tr>\n",
       "      <th>35</th>\n",
       "      <td>ohe_DevType_Student</td>\n",
       "      <td>5.004626e+11</td>\n",
       "    </tr>\n",
       "    <tr>\n",
       "      <th>36</th>\n",
       "      <td>agg_std_SalaryType_ohe_RaceEthnicity_White_or_...</td>\n",
       "      <td>4.984972e+11</td>\n",
       "    </tr>\n",
       "    <tr>\n",
       "      <th>37</th>\n",
       "      <td>te_Age</td>\n",
       "      <td>4.881251e+11</td>\n",
       "    </tr>\n",
       "    <tr>\n",
       "      <th>38</th>\n",
       "      <td>agg_std_Employment_ohe_DevType_Student</td>\n",
       "      <td>4.611489e+11</td>\n",
       "    </tr>\n",
       "    <tr>\n",
       "      <th>39</th>\n",
       "      <td>agg_mean_Country_ohe_DevType_Engineering_manager</td>\n",
       "      <td>4.384004e+11</td>\n",
       "    </tr>\n",
       "    <tr>\n",
       "      <th>40</th>\n",
       "      <td>Country</td>\n",
       "      <td>4.317094e+11</td>\n",
       "    </tr>\n",
       "    <tr>\n",
       "      <th>41</th>\n",
       "      <td>te_CareerSatisfaction</td>\n",
       "      <td>4.226075e+11</td>\n",
       "    </tr>\n",
       "    <tr>\n",
       "      <th>42</th>\n",
       "      <td>diff_agg_mean_Country_ohe_Methodology_Agile</td>\n",
       "      <td>4.188888e+11</td>\n",
       "    </tr>\n",
       "    <tr>\n",
       "      <th>43</th>\n",
       "      <td>agg_mean_CareerSatisfaction_ohe_DevType_Engine...</td>\n",
       "      <td>4.125609e+11</td>\n",
       "    </tr>\n",
       "    <tr>\n",
       "      <th>44</th>\n",
       "      <td>diff_agg_mean_TimeFullyProductive_ohe_Communic...</td>\n",
       "      <td>3.832334e+11</td>\n",
       "    </tr>\n",
       "    <tr>\n",
       "      <th>45</th>\n",
       "      <td>agg_std_Country_AssessBenefits2</td>\n",
       "      <td>3.830540e+11</td>\n",
       "    </tr>\n",
       "    <tr>\n",
       "      <th>46</th>\n",
       "      <td>te_sum_answer_Methodology</td>\n",
       "      <td>3.817294e+11</td>\n",
       "    </tr>\n",
       "    <tr>\n",
       "      <th>47</th>\n",
       "      <td>diff_agg_mean_Employment_ohe_LanguageDesireNex...</td>\n",
       "      <td>3.681668e+11</td>\n",
       "    </tr>\n",
       "    <tr>\n",
       "      <th>48</th>\n",
       "      <td>MilitaryUS</td>\n",
       "      <td>3.648377e+11</td>\n",
       "    </tr>\n",
       "    <tr>\n",
       "      <th>49</th>\n",
       "      <td>te_sum_answer_CommunicationTools</td>\n",
       "      <td>3.522930e+11</td>\n",
       "    </tr>\n",
       "    <tr>\n",
       "      <th>50</th>\n",
       "      <td>agg_mean_CurrencySymbol_ohe_DevType_Engineerin...</td>\n",
       "      <td>3.495718e+11</td>\n",
       "    </tr>\n",
       "    <tr>\n",
       "      <th>51</th>\n",
       "      <td>ohe_LanguageWorkedWith_Go</td>\n",
       "      <td>3.470684e+11</td>\n",
       "    </tr>\n",
       "    <tr>\n",
       "      <th>52</th>\n",
       "      <td>diff_agg_mean_NumberMonitors_AssessBenefits2</td>\n",
       "      <td>3.446597e+11</td>\n",
       "    </tr>\n",
       "    <tr>\n",
       "      <th>53</th>\n",
       "      <td>agg_mean_Country_AssessJob8</td>\n",
       "      <td>3.404964e+11</td>\n",
       "    </tr>\n",
       "    <tr>\n",
       "      <th>54</th>\n",
       "      <td>te_AssessBenefits2</td>\n",
       "      <td>3.387451e+11</td>\n",
       "    </tr>\n",
       "    <tr>\n",
       "      <th>55</th>\n",
       "      <td>diff_agg_mean_CompanySize_ohe_EducationTypes_C...</td>\n",
       "      <td>3.363281e+11</td>\n",
       "    </tr>\n",
       "    <tr>\n",
       "      <th>56</th>\n",
       "      <td>agg_mean_YearsCoding_ohe_RaceEthnicity_White_o...</td>\n",
       "      <td>3.343525e+11</td>\n",
       "    </tr>\n",
       "    <tr>\n",
       "      <th>57</th>\n",
       "      <td>te_HypotheticalTools2</td>\n",
       "      <td>3.261256e+11</td>\n",
       "    </tr>\n",
       "    <tr>\n",
       "      <th>58</th>\n",
       "      <td>diff_agg_mean_TimeFullyProductive_AssessBenefits2</td>\n",
       "      <td>3.215550e+11</td>\n",
       "    </tr>\n",
       "    <tr>\n",
       "      <th>59</th>\n",
       "      <td>agg_std_Employment_AssessBenefits2</td>\n",
       "      <td>3.180317e+11</td>\n",
       "    </tr>\n",
       "    <tr>\n",
       "      <th>60</th>\n",
       "      <td>agg_mean_Country_ohe_Methodology_Agile</td>\n",
       "      <td>3.031849e+11</td>\n",
       "    </tr>\n",
       "    <tr>\n",
       "      <th>61</th>\n",
       "      <td>agg_mean_OperatingSystem_AssessBenefits2</td>\n",
       "      <td>3.026039e+11</td>\n",
       "    </tr>\n",
       "    <tr>\n",
       "      <th>62</th>\n",
       "      <td>rel_agg_mean_CurrencySymbol_AssessBenefits2</td>\n",
       "      <td>2.901609e+11</td>\n",
       "    </tr>\n",
       "    <tr>\n",
       "      <th>63</th>\n",
       "      <td>diff_agg_mean_CurrencySymbol_AssessBenefits2</td>\n",
       "      <td>2.889121e+11</td>\n",
       "    </tr>\n",
       "    <tr>\n",
       "      <th>64</th>\n",
       "      <td>agg_mean_Country_ohe_ErgonomicDevices_Standing...</td>\n",
       "      <td>2.766240e+11</td>\n",
       "    </tr>\n",
       "    <tr>\n",
       "      <th>65</th>\n",
       "      <td>agg_mean_Age_ohe_DevType_Student</td>\n",
       "      <td>2.761106e+11</td>\n",
       "    </tr>\n",
       "    <tr>\n",
       "      <th>66</th>\n",
       "      <td>te_LastNewJob</td>\n",
       "      <td>2.755346e+11</td>\n",
       "    </tr>\n",
       "    <tr>\n",
       "      <th>67</th>\n",
       "      <td>diff_agg_mean_FormalEducation_AssessBenefits2</td>\n",
       "      <td>2.738532e+11</td>\n",
       "    </tr>\n",
       "    <tr>\n",
       "      <th>68</th>\n",
       "      <td>agg_mean_CurrencySymbol_ohe_CommunicationTools...</td>\n",
       "      <td>2.680842e+11</td>\n",
       "    </tr>\n",
       "    <tr>\n",
       "      <th>69</th>\n",
       "      <td>ohe_DatabaseWorkedWith_Redis</td>\n",
       "      <td>2.626371e+11</td>\n",
       "    </tr>\n",
       "    <tr>\n",
       "      <th>70</th>\n",
       "      <td>te_sum_answer_DatabaseWorkedWith</td>\n",
       "      <td>2.617778e+11</td>\n",
       "    </tr>\n",
       "    <tr>\n",
       "      <th>71</th>\n",
       "      <td>diff_agg_mean_ohe_RaceEthnicity_White_or_of_Eu...</td>\n",
       "      <td>2.583889e+11</td>\n",
       "    </tr>\n",
       "    <tr>\n",
       "      <th>72</th>\n",
       "      <td>agg_std_CurrencySymbol_ohe_CommunicationTools_...</td>\n",
       "      <td>2.573695e+11</td>\n",
       "    </tr>\n",
       "    <tr>\n",
       "      <th>73</th>\n",
       "      <td>agg_mean_Country_ohe_CommunicationTools_Jira</td>\n",
       "      <td>2.551575e+11</td>\n",
       "    </tr>\n",
       "    <tr>\n",
       "      <th>74</th>\n",
       "      <td>te_EducationParents</td>\n",
       "      <td>2.550550e+11</td>\n",
       "    </tr>\n",
       "    <tr>\n",
       "      <th>75</th>\n",
       "      <td>diff_agg_mean_YearsCodingProf_ohe_Communicatio...</td>\n",
       "      <td>2.516371e+11</td>\n",
       "    </tr>\n",
       "    <tr>\n",
       "      <th>76</th>\n",
       "      <td>diff_agg_mean_TimeFullyProductive_ohe_DevType_...</td>\n",
       "      <td>2.499895e+11</td>\n",
       "    </tr>\n",
       "    <tr>\n",
       "      <th>77</th>\n",
       "      <td>te_UpdateCV</td>\n",
       "      <td>2.477717e+11</td>\n",
       "    </tr>\n",
       "    <tr>\n",
       "      <th>78</th>\n",
       "      <td>te_Employment</td>\n",
       "      <td>2.462823e+11</td>\n",
       "    </tr>\n",
       "    <tr>\n",
       "      <th>79</th>\n",
       "      <td>diff_agg_mean_YearsCoding_ohe_ErgonomicDevices...</td>\n",
       "      <td>2.446364e+11</td>\n",
       "    </tr>\n",
       "    <tr>\n",
       "      <th>80</th>\n",
       "      <td>te_FormalEducation</td>\n",
       "      <td>2.404772e+11</td>\n",
       "    </tr>\n",
       "    <tr>\n",
       "      <th>81</th>\n",
       "      <td>sum_answer_DevType</td>\n",
       "      <td>2.392142e+11</td>\n",
       "    </tr>\n",
       "    <tr>\n",
       "      <th>82</th>\n",
       "      <td>sum_answer_Methodology</td>\n",
       "      <td>2.382665e+11</td>\n",
       "    </tr>\n",
       "    <tr>\n",
       "      <th>83</th>\n",
       "      <td>diff_agg_mean_Age_ohe_DevType_Student</td>\n",
       "      <td>2.341753e+11</td>\n",
       "    </tr>\n",
       "    <tr>\n",
       "      <th>84</th>\n",
       "      <td>te_JobEmailPriorities5</td>\n",
       "      <td>2.330821e+11</td>\n",
       "    </tr>\n",
       "    <tr>\n",
       "      <th>85</th>\n",
       "      <td>diff_agg_mean_JobSatisfaction_AssessBenefits2</td>\n",
       "      <td>2.308468e+11</td>\n",
       "    </tr>\n",
       "    <tr>\n",
       "      <th>86</th>\n",
       "      <td>agg_mean_SalaryType_AssessBenefits2</td>\n",
       "      <td>2.308102e+11</td>\n",
       "    </tr>\n",
       "    <tr>\n",
       "      <th>87</th>\n",
       "      <td>diff_agg_mean_YearsCoding_ohe_EducationTypes_P...</td>\n",
       "      <td>2.295702e+11</td>\n",
       "    </tr>\n",
       "    <tr>\n",
       "      <th>88</th>\n",
       "      <td>agg_mean_CompanySize_ohe_DevType_Student</td>\n",
       "      <td>2.242773e+11</td>\n",
       "    </tr>\n",
       "    <tr>\n",
       "      <th>89</th>\n",
       "      <td>te_AssessJob10</td>\n",
       "      <td>2.149872e+11</td>\n",
       "    </tr>\n",
       "    <tr>\n",
       "      <th>90</th>\n",
       "      <td>te_AssessJob6</td>\n",
       "      <td>2.146352e+11</td>\n",
       "    </tr>\n",
       "    <tr>\n",
       "      <th>91</th>\n",
       "      <td>sum_answer_CommunicationTools</td>\n",
       "      <td>2.140588e+11</td>\n",
       "    </tr>\n",
       "    <tr>\n",
       "      <th>92</th>\n",
       "      <td>te_AssessBenefits7</td>\n",
       "      <td>2.140313e+11</td>\n",
       "    </tr>\n",
       "    <tr>\n",
       "      <th>93</th>\n",
       "      <td>AssessJob10</td>\n",
       "      <td>2.130664e+11</td>\n",
       "    </tr>\n",
       "    <tr>\n",
       "      <th>94</th>\n",
       "      <td>te_WakeTime</td>\n",
       "      <td>2.123064e+11</td>\n",
       "    </tr>\n",
       "    <tr>\n",
       "      <th>95</th>\n",
       "      <td>diff_agg_mean_YearsCodingProf_ohe_DevType_Student</td>\n",
       "      <td>2.088594e+11</td>\n",
       "    </tr>\n",
       "    <tr>\n",
       "      <th>96</th>\n",
       "      <td>agg_mean_Age_ohe_CommunicationTools_Confluence</td>\n",
       "      <td>2.078262e+11</td>\n",
       "    </tr>\n",
       "    <tr>\n",
       "      <th>97</th>\n",
       "      <td>ohe_DatabaseWorkedWith_Google_BigQuery</td>\n",
       "      <td>2.057502e+11</td>\n",
       "    </tr>\n",
       "    <tr>\n",
       "      <th>98</th>\n",
       "      <td>agg_mean_Country_AssessBenefits2</td>\n",
       "      <td>2.051203e+11</td>\n",
       "    </tr>\n",
       "    <tr>\n",
       "      <th>99</th>\n",
       "      <td>diff_agg_mean_YearsCodingProf_ohe_Communicatio...</td>\n",
       "      <td>2.050258e+11</td>\n",
       "    </tr>\n",
       "  </tbody>\n",
       "</table>\n",
       "</div>"
      ],
      "text/plain": [
       "                                              feature          gain\n",
       "0                                          te_Country  6.047179e+13\n",
       "1        agg_mean_YearsCodingProf_ohe_DevType_Student  2.186721e+13\n",
       "2   agg_mean_Country_ohe_EducationTypes_Contribute...  2.166508e+13\n",
       "3                                   te_CurrencySymbol  5.533889e+12\n",
       "4         agg_std_YearsCodingProf_ohe_DevType_Student  3.219078e+12\n",
       "5             agg_mean_Employment_ohe_DevType_Student  2.650576e+12\n",
       "6                                  te_YearsCodingProf  2.408684e+12\n",
       "7                                     YearsCodingProf  1.652777e+12\n",
       "8    diff_agg_mean_CurrencySymbol_ohe_DevType_Student  1.623039e+12\n",
       "9             agg_mean_SalaryType_ohe_DevType_Student  1.544355e+12\n",
       "10  diff_agg_mean_OperatingSystem_ohe_LanguageWork...  1.443200e+12\n",
       "11  agg_std_Country_ohe_EducationTypes_Contributed...  1.442150e+12\n",
       "12        agg_mean_Country_ohe_LanguageWorkedWith_PHP  1.440297e+12\n",
       "13  diff_agg_mean_CompanySize_ohe_DevType_Engineer...  1.399178e+12\n",
       "14  agg_mean_YearsCodingProf_ohe_RaceEthnicity_Whi...  1.355331e+12\n",
       "15            agg_std_YearsCoding_ohe_DevType_Student  1.271507e+12\n",
       "16  diff_agg_mean_YearsCodingProf_ohe_LanguageWork...  1.230190e+12\n",
       "17  agg_mean_SalaryType_ohe_RaceEthnicity_White_or...  1.203943e+12\n",
       "18           agg_mean_YearsCoding_ohe_DevType_Student  1.161945e+12\n",
       "19                                        te_Currency  1.067744e+12\n",
       "20  diff_agg_mean_Employment_ohe_LanguageWorkedWit...  9.393595e+11\n",
       "21  diff_agg_mean_YearsCodingProf_ohe_EducationTyp...  8.829283e+11\n",
       "22  agg_std_YearsCodingProf_ohe_RaceEthnicity_Whit...  8.117997e+11\n",
       "23              agg_std_Country_ohe_Methodology_Agile  7.166847e+11\n",
       "24                agg_mean_Employment_AssessBenefits2  6.699343e+11\n",
       "25          diff_agg_mean_Country_ohe_DevType_Student  6.404070e+11\n",
       "26                                     te_YearsCoding  6.268815e+11\n",
       "27                        agg_std_Currency_AssessJob8  5.904302e+11\n",
       "28         diff_agg_mean_Currency_ohe_DevType_Student  5.806795e+11\n",
       "29             agg_std_SalaryType_ohe_DevType_Student  5.743135e+11\n",
       "30               agg_mean_CompanySize_AssessBenefits2  5.679266e+11\n",
       "31       agg_mean_FormalEducation_ohe_DevType_Student  5.510032e+11\n",
       "32                                     te_CompanySize  5.422347e+11\n",
       "33          diff_agg_mean_CompanySize_AssessBenefits2  5.281913e+11\n",
       "34                                           Currency  5.272733e+11\n",
       "35                                ohe_DevType_Student  5.004626e+11\n",
       "36  agg_std_SalaryType_ohe_RaceEthnicity_White_or_...  4.984972e+11\n",
       "37                                             te_Age  4.881251e+11\n",
       "38             agg_std_Employment_ohe_DevType_Student  4.611489e+11\n",
       "39   agg_mean_Country_ohe_DevType_Engineering_manager  4.384004e+11\n",
       "40                                            Country  4.317094e+11\n",
       "41                              te_CareerSatisfaction  4.226075e+11\n",
       "42        diff_agg_mean_Country_ohe_Methodology_Agile  4.188888e+11\n",
       "43  agg_mean_CareerSatisfaction_ohe_DevType_Engine...  4.125609e+11\n",
       "44  diff_agg_mean_TimeFullyProductive_ohe_Communic...  3.832334e+11\n",
       "45                    agg_std_Country_AssessBenefits2  3.830540e+11\n",
       "46                          te_sum_answer_Methodology  3.817294e+11\n",
       "47  diff_agg_mean_Employment_ohe_LanguageDesireNex...  3.681668e+11\n",
       "48                                         MilitaryUS  3.648377e+11\n",
       "49                   te_sum_answer_CommunicationTools  3.522930e+11\n",
       "50  agg_mean_CurrencySymbol_ohe_DevType_Engineerin...  3.495718e+11\n",
       "51                          ohe_LanguageWorkedWith_Go  3.470684e+11\n",
       "52       diff_agg_mean_NumberMonitors_AssessBenefits2  3.446597e+11\n",
       "53                        agg_mean_Country_AssessJob8  3.404964e+11\n",
       "54                                 te_AssessBenefits2  3.387451e+11\n",
       "55  diff_agg_mean_CompanySize_ohe_EducationTypes_C...  3.363281e+11\n",
       "56  agg_mean_YearsCoding_ohe_RaceEthnicity_White_o...  3.343525e+11\n",
       "57                              te_HypotheticalTools2  3.261256e+11\n",
       "58  diff_agg_mean_TimeFullyProductive_AssessBenefits2  3.215550e+11\n",
       "59                 agg_std_Employment_AssessBenefits2  3.180317e+11\n",
       "60             agg_mean_Country_ohe_Methodology_Agile  3.031849e+11\n",
       "61           agg_mean_OperatingSystem_AssessBenefits2  3.026039e+11\n",
       "62        rel_agg_mean_CurrencySymbol_AssessBenefits2  2.901609e+11\n",
       "63       diff_agg_mean_CurrencySymbol_AssessBenefits2  2.889121e+11\n",
       "64  agg_mean_Country_ohe_ErgonomicDevices_Standing...  2.766240e+11\n",
       "65                   agg_mean_Age_ohe_DevType_Student  2.761106e+11\n",
       "66                                      te_LastNewJob  2.755346e+11\n",
       "67      diff_agg_mean_FormalEducation_AssessBenefits2  2.738532e+11\n",
       "68  agg_mean_CurrencySymbol_ohe_CommunicationTools...  2.680842e+11\n",
       "69                       ohe_DatabaseWorkedWith_Redis  2.626371e+11\n",
       "70                   te_sum_answer_DatabaseWorkedWith  2.617778e+11\n",
       "71  diff_agg_mean_ohe_RaceEthnicity_White_or_of_Eu...  2.583889e+11\n",
       "72  agg_std_CurrencySymbol_ohe_CommunicationTools_...  2.573695e+11\n",
       "73       agg_mean_Country_ohe_CommunicationTools_Jira  2.551575e+11\n",
       "74                                te_EducationParents  2.550550e+11\n",
       "75  diff_agg_mean_YearsCodingProf_ohe_Communicatio...  2.516371e+11\n",
       "76  diff_agg_mean_TimeFullyProductive_ohe_DevType_...  2.499895e+11\n",
       "77                                        te_UpdateCV  2.477717e+11\n",
       "78                                      te_Employment  2.462823e+11\n",
       "79  diff_agg_mean_YearsCoding_ohe_ErgonomicDevices...  2.446364e+11\n",
       "80                                 te_FormalEducation  2.404772e+11\n",
       "81                                 sum_answer_DevType  2.392142e+11\n",
       "82                             sum_answer_Methodology  2.382665e+11\n",
       "83              diff_agg_mean_Age_ohe_DevType_Student  2.341753e+11\n",
       "84                             te_JobEmailPriorities5  2.330821e+11\n",
       "85      diff_agg_mean_JobSatisfaction_AssessBenefits2  2.308468e+11\n",
       "86                agg_mean_SalaryType_AssessBenefits2  2.308102e+11\n",
       "87  diff_agg_mean_YearsCoding_ohe_EducationTypes_P...  2.295702e+11\n",
       "88           agg_mean_CompanySize_ohe_DevType_Student  2.242773e+11\n",
       "89                                     te_AssessJob10  2.149872e+11\n",
       "90                                      te_AssessJob6  2.146352e+11\n",
       "91                      sum_answer_CommunicationTools  2.140588e+11\n",
       "92                                 te_AssessBenefits7  2.140313e+11\n",
       "93                                        AssessJob10  2.130664e+11\n",
       "94                                        te_WakeTime  2.123064e+11\n",
       "95  diff_agg_mean_YearsCodingProf_ohe_DevType_Student  2.088594e+11\n",
       "96     agg_mean_Age_ohe_CommunicationTools_Confluence  2.078262e+11\n",
       "97             ohe_DatabaseWorkedWith_Google_BigQuery  2.057502e+11\n",
       "98                   agg_mean_Country_AssessBenefits2  2.051203e+11\n",
       "99  diff_agg_mean_YearsCodingProf_ohe_Communicatio...  2.050258e+11"
      ]
     },
     "execution_count": 32,
     "metadata": {},
     "output_type": "execute_result"
    }
   ],
   "source": [
    "importances.groupby(\"feature\")[\"gain\"].mean().sort_values(ascending=False).reset_index().iloc[:100]"
   ]
  },
  {
   "cell_type": "code",
   "execution_count": 33,
   "metadata": {},
   "outputs": [],
   "source": [
    "test_pred = np.zeros(len(test_df))\n",
    "\n",
    "for model in models:\n",
    "    test_pred += model.predict(test_df[use_cols]) / len(models)"
   ]
  },
  {
   "cell_type": "code",
   "execution_count": 34,
   "metadata": {},
   "outputs": [
    {
     "data": {
      "text/plain": [
       "array([ 71180.84099329,  91522.95689545,  86013.22402984, ...,\n",
       "        95425.72773192,  83756.50217984, 111484.32059633])"
      ]
     },
     "execution_count": 34,
     "metadata": {},
     "output_type": "execute_result"
    }
   ],
   "source": [
    "test_pred"
   ]
  },
  {
   "cell_type": "code",
   "execution_count": 35,
   "metadata": {},
   "outputs": [],
   "source": [
    "sub_df = pd.read_csv(\"../input/submit.csv\")"
   ]
  },
  {
   "cell_type": "code",
   "execution_count": 36,
   "metadata": {},
   "outputs": [],
   "source": [
    "sub_df[\"Salary\"] = test_pred"
   ]
  },
  {
   "cell_type": "code",
   "execution_count": 37,
   "metadata": {},
   "outputs": [],
   "source": [
    "sub_df.to_csv(\"../predict/008_add_aggregate_20756.csv\", index=False)"
   ]
  },
  {
   "cell_type": "code",
   "execution_count": null,
   "metadata": {},
   "outputs": [],
   "source": []
  }
 ],
 "metadata": {
  "kernelspec": {
   "display_name": "Python 3.8.2 64-bit ('3.8.2': pyenv)",
   "language": "python",
   "name": "python38264bit382pyenv0bf26b16ab884472b54c5411cc1e5c03"
  },
  "language_info": {
   "codemirror_mode": {
    "name": "ipython",
    "version": 3
   },
   "file_extension": ".py",
   "mimetype": "text/x-python",
   "name": "python",
   "nbconvert_exporter": "python",
   "pygments_lexer": "ipython3",
   "version": "3.8.2"
  },
  "toc": {
   "base_numbering": 1,
   "nav_menu": {},
   "number_sections": true,
   "sideBar": true,
   "skip_h1_title": false,
   "title_cell": "Table of Contents",
   "title_sidebar": "Contents",
   "toc_cell": false,
   "toc_position": {},
   "toc_section_display": true,
   "toc_window_display": false
  }
 },
 "nbformat": 4,
 "nbformat_minor": 4
}
