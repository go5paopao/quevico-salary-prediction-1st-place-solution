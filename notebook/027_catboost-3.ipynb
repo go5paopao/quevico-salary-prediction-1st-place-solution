{
 "cells": [
  {
   "cell_type": "markdown",
   "metadata": {},
   "source": [
    "## Prepare and read data"
   ]
  },
  {
   "cell_type": "code",
   "execution_count": 1,
   "metadata": {},
   "outputs": [],
   "source": [
    "import gc\n",
    "import itertools\n",
    "from pathlib import Path\n",
    "from tqdm.auto import tqdm\n",
    "import pandas as pd\n",
    "import numpy as np\n",
    "import lightgbm as lgb\n",
    "from catboost import CatBoostRegressor\n",
    "\n",
    "from sklearn.preprocessing import MultiLabelBinarizer\n",
    "from sklearn.model_selection import StratifiedKFold, KFold\n",
    "from sklearn.metrics import mean_squared_error\n",
    "from sklearn.decomposition import TruncatedSVD"
   ]
  },
  {
   "cell_type": "code",
   "execution_count": 2,
   "metadata": {},
   "outputs": [],
   "source": [
    "pd.set_option(\"max_columns\", 300)\n",
    "pd.set_option(\"max_rows\", 500)"
   ]
  },
  {
   "cell_type": "code",
   "execution_count": 3,
   "metadata": {},
   "outputs": [],
   "source": [
    "train_df = pd.read_csv(\"../input/train.csv\")\n",
    "test_df = pd.read_csv(\"../input/test.csv\")"
   ]
  },
  {
   "cell_type": "code",
   "execution_count": 4,
   "metadata": {},
   "outputs": [],
   "source": [
    "def feature_cache(reset=False):\n",
    "    def _feature_cache(func):\n",
    "        def wrapper(train_df, test_df, *args):\n",
    "            func_name = func.__name__\n",
    "            train_feat_path = Path(\"../feature\") / f\"train_{func_name}.pkl\"\n",
    "            test_feat_path = Path(\"../feature\") / f\"test_{func_name}.pkl\"\n",
    "            # if feature exists, load feature\n",
    "            if train_feat_path.exists() and test_feat_path.exists() and not reset:\n",
    "                train_feats = pd.read_pickle(train_feat_path).reset_index(drop=True)\n",
    "                test_feats = pd.read_pickle(test_feat_path).reset_index(drop=True)\n",
    "                train_df = pd.concat([train_df, train_feats], axis=1)\n",
    "                test_df = pd.concat([test_df, test_feats], axis=1)\n",
    "            # if not exists, make feature and save as pickle\n",
    "            else:\n",
    "                before_cols = train_df.columns.tolist()\n",
    "                train_df, test_df = func(train_df, test_df, *args)\n",
    "                after_cols = train_df.columns.tolist()\n",
    "                new_cols = [c for c in after_cols if c not in before_cols]\n",
    "                train_feats = train_df[new_cols]\n",
    "                test_feats = test_df[new_cols]\n",
    "                train_feats.to_pickle(train_feat_path)\n",
    "                test_feats.to_pickle(test_feat_path)            \n",
    "            return train_df, test_df\n",
    "        return wrapper\n",
    "\n",
    "    return _feature_cache"
   ]
  },
  {
   "cell_type": "markdown",
   "metadata": {},
   "source": [
    "## Feature Engineering"
   ]
  },
  {
   "cell_type": "code",
   "execution_count": 5,
   "metadata": {},
   "outputs": [],
   "source": [
    "def get_multi_cat_cols(train_df):\n",
    "    tmp = train_df.iloc[:1000]\n",
    "    multi_cols = []\n",
    "    for c in train_df.columns:\n",
    "        sep_num = tmp[c].astype(str).fillna(\"\").str.contains(\";\").sum()\n",
    "        if sep_num > 10:\n",
    "            multi_cols.append(c)\n",
    "    return multi_cols"
   ]
  },
  {
   "cell_type": "code",
   "execution_count": 6,
   "metadata": {},
   "outputs": [],
   "source": [
    "original_cols = train_df.columns.tolist()"
   ]
  },
  {
   "cell_type": "code",
   "execution_count": 7,
   "metadata": {},
   "outputs": [],
   "source": [
    "multi_cat_cols = get_multi_cat_cols(train_df)"
   ]
  },
  {
   "cell_type": "code",
   "execution_count": 8,
   "metadata": {},
   "outputs": [],
   "source": [
    "nume_cols = [\n",
    "    c for c in list(np.setdiff1d(original_cols, multi_cat_cols))\n",
    "    if c not in [\"Salary\", \"No\"] and \"float\" in train_df[c].dtype.name\n",
    "]"
   ]
  },
  {
   "cell_type": "code",
   "execution_count": 9,
   "metadata": {},
   "outputs": [],
   "source": [
    "cat_cols = [c for c in train_df.columns if c not in multi_cat_cols + nume_cols + [\"Salary\", \"No\"]]"
   ]
  },
  {
   "cell_type": "code",
   "execution_count": 10,
   "metadata": {},
   "outputs": [],
   "source": [
    "non_basic_nume_cols = []\n",
    "non_basic_cat_cols = []"
   ]
  },
  {
   "cell_type": "code",
   "execution_count": 11,
   "metadata": {},
   "outputs": [
    {
     "data": {
      "text/plain": [
       "(128, 65, 40, 21)"
      ]
     },
     "execution_count": 11,
     "metadata": {},
     "output_type": "execute_result"
    }
   ],
   "source": [
    "len(original_cols), len(cat_cols), len(nume_cols), len(multi_cat_cols)"
   ]
  },
  {
   "cell_type": "markdown",
   "metadata": {},
   "source": [
    "### rank feature"
   ]
  },
  {
   "cell_type": "code",
   "execution_count": 12,
   "metadata": {},
   "outputs": [],
   "source": [
    "def add_rank_feature(df):\n",
    "    rank_prefix_list = [\n",
    "        \"AssessBenefits\",\n",
    "        \"AssessJob\",\n",
    "        \"JobContactPriorities\",\n",
    "        \"JobEmailPriorities\",\n",
    "        \"AdsPriorities\",\n",
    "    ]\n",
    "    for prefix in tqdm(rank_prefix_list):\n",
    "        rank_cols = [c for c in df.columns if prefix in c]\n",
    "        col_pairs = itertools.combinations(rank_cols, 2)\n",
    "        for col_a, col_b in col_pairs:\n",
    "            df[f\"rank_diff_{prefix}_{col_a}_{col_b}\"] = (df[col_a] - df[col_b]) / np.log2(df[[col_a, col_b]].max(axis=1))\n",
    "    return df"
   ]
  },
  {
   "cell_type": "code",
   "execution_count": 13,
   "metadata": {},
   "outputs": [
    {
     "data": {
      "application/vnd.jupyter.widget-view+json": {
       "model_id": "893f392eb4f54131b616bdb5ed715414",
       "version_major": 2,
       "version_minor": 0
      },
      "text/plain": [
       "HBox(children=(FloatProgress(value=0.0, max=5.0), HTML(value='')))"
      ]
     },
     "metadata": {},
     "output_type": "display_data"
    },
    {
     "name": "stdout",
     "output_type": "stream",
     "text": [
      "\n"
     ]
    },
    {
     "data": {
      "application/vnd.jupyter.widget-view+json": {
       "model_id": "a178d8ce3a1a44598524eb6f299097cb",
       "version_major": 2,
       "version_minor": 0
      },
      "text/plain": [
       "HBox(children=(FloatProgress(value=0.0, max=5.0), HTML(value='')))"
      ]
     },
     "metadata": {},
     "output_type": "display_data"
    },
    {
     "name": "stdout",
     "output_type": "stream",
     "text": [
      "\n"
     ]
    }
   ],
   "source": [
    "train_df = add_rank_feature(train_df)\n",
    "test_df = add_rank_feature(test_df)"
   ]
  },
  {
   "cell_type": "markdown",
   "metadata": {},
   "source": [
    "### Multi-category encoding"
   ]
  },
  {
   "cell_type": "code",
   "execution_count": 14,
   "metadata": {},
   "outputs": [
    {
     "data": {
      "application/vnd.jupyter.widget-view+json": {
       "model_id": "e0d85b2170f94f658523f991ee3d291c",
       "version_major": 2,
       "version_minor": 0
      },
      "text/plain": [
       "HBox(children=(FloatProgress(value=0.0, max=21.0), HTML(value='')))"
      ]
     },
     "metadata": {},
     "output_type": "display_data"
    },
    {
     "name": "stdout",
     "output_type": "stream",
     "text": [
      "\n"
     ]
    }
   ],
   "source": [
    "for c in tqdm(multi_cat_cols):\n",
    "    binarizer = MultiLabelBinarizer()\n",
    "    train_multi_srs = train_df[c].map(lambda x: x.split(\";\") if x is not np.nan else [])\n",
    "    test_multi_srs = test_df[c].map(lambda x: x.split(\";\") if x is not np.nan else [])\n",
    "    train_arr = binarizer.fit_transform(train_multi_srs)\n",
    "    test_arr = binarizer.transform(test_multi_srs)\n",
    "    feat_cols = [f\"ohe_{c}_{val}\" for val in binarizer.classes_]\n",
    "    train_feat_df = pd.DataFrame(train_arr, columns=feat_cols, dtype=np.int8)\n",
    "    test_feat_df = pd.DataFrame(test_arr, columns=feat_cols, dtype=np.int8)\n",
    "    all_feat_df = pd.concat([train_feat_df, test_feat_df], axis=0, ignore_index=True)\n",
    "    train_feat_df[f\"sum_answer_{c}\"] = (train_df[c].str.count(\";\") + 1).fillna(-1).astype(np.int8)\n",
    "    test_feat_df[f\"sum_answer_{c}\"] = (test_df[c].str.count(\";\") + 1).fillna(-1).astype(np.int8)\n",
    "    train_df = pd.concat([train_df, train_feat_df], axis=1)\n",
    "    test_df = pd.concat([test_df, test_feat_df], axis=1)\n",
    "    # ohe_featureはcategoryとnumerical両方として扱う\n",
    "    nume_cols += feat_cols\n",
    "    cat_cols += feat_cols\n",
    "    # non_basic_nume_cols.append(f\"sum_answer_{c}\")\n",
    "    # SVD\n",
    "    svd = TruncatedSVD(n_components=2, random_state=2020)\n",
    "    all_svd_feats = pd.DataFrame(svd.fit_transform(all_feat_df), columns=[f\"svd_{c}_{ix}\" for ix in range(2)])\n",
    "    train_df = pd.concat([train_df, all_svd_feats.iloc[:len(train_df)]], axis=1)\n",
    "    test_df = pd.concat([test_df, all_svd_feats.iloc[len(train_df):].reset_index(drop=True)], axis=1)"
   ]
  },
  {
   "cell_type": "markdown",
   "metadata": {},
   "source": [
    "### Simple-category encoding"
   ]
  },
  {
   "cell_type": "code",
   "execution_count": 15,
   "metadata": {},
   "outputs": [],
   "source": [
    "for c in cat_cols:\n",
    "    train_df[c], uniques = pd.factorize(train_df[c], sort=True)\n",
    "    test_df[c] = uniques.get_indexer(test_df[c])"
   ]
  },
  {
   "cell_type": "markdown",
   "metadata": {},
   "source": [
    "### Reduce data memory"
   ]
  },
  {
   "cell_type": "code",
   "execution_count": 16,
   "metadata": {},
   "outputs": [],
   "source": [
    "for c in nume_cols:\n",
    "    if train_df[c].nunique() > 1000:\n",
    "        train_df[c] = train_df[c].astype(np.float32)\n",
    "        test_df[c] = test_df[c].astype(np.float32)\n",
    "    else:\n",
    "        train_df[c] = train_df[c].astype(np.float16)\n",
    "        test_df[c] = test_df[c].astype(np.float16)"
   ]
  },
  {
   "cell_type": "code",
   "execution_count": 17,
   "metadata": {},
   "outputs": [],
   "source": [
    "for c in cat_cols:\n",
    "    if train_df[c].max() > 32767:\n",
    "        train_df[c] = train_df[c].astype(np.int32)\n",
    "        test_df[c] = test_df[c].astype(np.int32)\n",
    "    else:\n",
    "        train_df[c] = train_df[c].astype(np.int16)\n",
    "        test_df[c] = test_df[c].astype(np.int16)            "
   ]
  },
  {
   "cell_type": "code",
   "execution_count": 18,
   "metadata": {},
   "outputs": [
    {
     "data": {
      "text/plain": [
       "((33857, 659), (11259, 658))"
      ]
     },
     "execution_count": 18,
     "metadata": {},
     "output_type": "execute_result"
    }
   ],
   "source": [
    "train_df.shape, test_df.shape"
   ]
  },
  {
   "cell_type": "markdown",
   "metadata": {},
   "source": [
    "### Change Category Name"
   ]
  },
  {
   "cell_type": "code",
   "execution_count": 19,
   "metadata": {},
   "outputs": [],
   "source": [
    "train_df.columns = [\"\".join (c if c.isalnum() else \"_\" for c in str(x)) for x in train_df.columns]\n",
    "test_df.columns = [\"\".join (c if c.isalnum() else \"_\" for c in str(x)) for x in test_df.columns]"
   ]
  },
  {
   "cell_type": "markdown",
   "metadata": {},
   "source": [
    "### Aggregation"
   ]
  },
  {
   "cell_type": "code",
   "execution_count": 20,
   "metadata": {},
   "outputs": [],
   "source": [
    "def get_basic_importance_cols(use_num=50):\n",
    "    # basicなモデルのimportanceを読み込み\n",
    "    importance_df = pd.read_csv(\"../data/importance/003_importance.csv\")\n",
    "    imp_feats = importance_df[\"feature\"].iloc[:use_num].tolist()\n",
    "    return imp_feats"
   ]
  },
  {
   "cell_type": "code",
   "execution_count": 21,
   "metadata": {},
   "outputs": [],
   "source": [
    "def make_agg_feature(train_df, test_df):\n",
    "    imp_feats = get_basic_importance_cols(use_num=50)\n",
    "    imp_cat_cols = [c for c in cat_cols if c in imp_feats] + non_basic_cat_cols\n",
    "    imp_nume_cols = [c for c in nume_cols if c in imp_feats] + non_basic_nume_cols\n",
    "    print(f\"use cat col: {len(imp_cat_cols)}  nume col: {len(imp_nume_cols)}\")\n",
    "    #imp_nume_cols += [c for c in train_df.columns if c[:8] == \"sum_answ\"]\n",
    "    all_df = pd.concat([train_df, test_df], axis=0, ignore_index=True)\n",
    "    for cat_col in tqdm(imp_cat_cols):\n",
    "        for nume_col in imp_nume_cols:\n",
    "            # one-hotは同じカテゴリの場合がある\n",
    "            if cat_col == nume_col:\n",
    "                continue\n",
    "            all_df[f\"agg_mean_{cat_col}_{nume_col}\"] = \\\n",
    "                all_df.groupby(cat_col)[nume_col].transform(\"mean\").astype(np.float32)\n",
    "            all_df[f\"agg_std_{cat_col}_{nume_col}\"] = \\\n",
    "                all_df.groupby(cat_col)[nume_col].transform(\"std\").astype(np.float32)\n",
    "            all_df[f\"agg_max_{cat_col}_{nume_col}\"] = \\\n",
    "                all_df.groupby(cat_col)[nume_col].transform(\"max\").astype(np.float32)\n",
    "            all_df[f\"agg_min_{cat_col}_{nume_col}\"] = \\\n",
    "                all_df.groupby(cat_col)[nume_col].transform(\"min\").astype(np.float32)\n",
    "            all_df[f\"diff_agg_mean_{cat_col}_{nume_col}\"] = \\\n",
    "                all_df[nume_col] - all_df[f\"agg_mean_{cat_col}_{nume_col}\"]\n",
    "            all_df[f\"rel_agg_mean_{cat_col}_{nume_col}\"] = \\\n",
    "                all_df[nume_col] / (1 + all_df[f\"agg_mean_{cat_col}_{nume_col}\"])\n",
    "    train_df = all_df.iloc[:len(train_df)].reset_index(drop=True)\n",
    "    test_df = all_df.iloc[len(train_df):].reset_index(drop=True)\n",
    "    del all_df\n",
    "    gc.collect()\n",
    "    return train_df, test_df"
   ]
  },
  {
   "cell_type": "code",
   "execution_count": 22,
   "metadata": {},
   "outputs": [
    {
     "name": "stdout",
     "output_type": "stream",
     "text": [
      "use cat col: 27  nume col: 10\n"
     ]
    },
    {
     "data": {
      "application/vnd.jupyter.widget-view+json": {
       "model_id": "4988e7b38aeb4d15ada217d74237a9e8",
       "version_major": 2,
       "version_minor": 0
      },
      "text/plain": [
       "HBox(children=(FloatProgress(value=0.0, max=27.0), HTML(value='')))"
      ]
     },
     "metadata": {},
     "output_type": "display_data"
    },
    {
     "name": "stdout",
     "output_type": "stream",
     "text": [
      "\n"
     ]
    }
   ],
   "source": [
    "train_df, test_df = make_agg_feature(train_df, test_df)"
   ]
  },
  {
   "cell_type": "markdown",
   "metadata": {},
   "source": [
    "### Make fold index(for target encoding)"
   ]
  },
  {
   "cell_type": "code",
   "execution_count": 23,
   "metadata": {},
   "outputs": [],
   "source": [
    "folds = KFold(n_splits=5, random_state=2020, shuffle=True)\n",
    "fold_idx_list = [(trn_idx, val_idx) for trn_idx, val_idx in folds.split(train_df, train_df[\"Salary\"])]"
   ]
  },
  {
   "cell_type": "markdown",
   "metadata": {},
   "source": [
    "### Target Encoding"
   ]
  },
  {
   "cell_type": "code",
   "execution_count": 24,
   "metadata": {},
   "outputs": [],
   "source": [
    "@feature_cache(reset=False)\n",
    "def target_encoding(train_df, test_df):\n",
    "    te_cols = [c for c in train_df.columns if c in cat_cols]\n",
    "    for c in tqdm(te_cols):\n",
    "        new_col = \"te_\" + c\n",
    "        train_df[new_col] = 0\n",
    "        test_df[new_col] = 0\n",
    "        for trn_idx, val_idx in fold_idx_list:\n",
    "            mean_val = train_df.loc[trn_idx].groupby(c)[\"Salary\"].mean().astype(np.float32)\n",
    "            train_df.loc[val_idx, new_col] = train_df.loc[val_idx, c].map(mean_val)\n",
    "            test_df.loc[:, new_col] += test_df.loc[:, c].map(mean_val) / len(fold_idx_list)\n",
    "        train_df[new_col] = train_df[new_col].astype(np.float32)\n",
    "        test_df[new_col] = test_df[new_col].astype(np.float32)\n",
    "    return train_df, test_df"
   ]
  },
  {
   "cell_type": "code",
   "execution_count": 25,
   "metadata": {},
   "outputs": [],
   "source": [
    "train_df, test_df = target_encoding(train_df, test_df)"
   ]
  },
  {
   "cell_type": "code",
   "execution_count": 26,
   "metadata": {},
   "outputs": [],
   "source": [
    "@feature_cache(reset=False)\n",
    "def multiple_target_encoding(train_df, test_df):\n",
    "     # multiple target encoding\n",
    "    multi_te_cols = [c for c in train_df.columns if c in cat_cols or c[:4] == \"ohe_\"]\n",
    "    imp_feats = get_basic_importance_cols(use_num=30)\n",
    "    multi_te_cols = [c for c in multi_te_cols if c in imp_feats]\n",
    "    combi_multi_te_cols = list(itertools.combinations(multi_te_cols, 2))   \n",
    "\n",
    "    for col_a, col_b in tqdm(combi_multi_te_cols):\n",
    "        new_col = \"te_\" + col_a + \"__\" + col_b\n",
    "        train_df[new_col] = 0\n",
    "        test_df[new_col] = 0\n",
    "        train_df[\"tmp\"] = train_df[col_a].fillna(\"\").astype(str) + train_df[col_b].fillna(\"\").astype(str)\n",
    "        test_df[\"tmp\"] = test_df[col_a].fillna(\"\").astype(str) + test_df[col_b].fillna(\"\").astype(str)\n",
    "        for trn_idx, val_idx in fold_idx_list:\n",
    "            mean_val = train_df.loc[trn_idx].groupby(\"tmp\")[\"Salary\"].mean().astype(np.float32)\n",
    "            train_df.loc[val_idx, new_col] = train_df.loc[val_idx, \"tmp\"].map(mean_val)\n",
    "            test_df.loc[:, new_col] += test_df.loc[:, \"tmp\"].map(mean_val) / len(fold_idx_list)\n",
    "        train_df[new_col] = train_df[new_col].astype(np.float32)\n",
    "        test_df[new_col] = test_df[new_col].astype(np.float32)\n",
    "        del train_df[\"tmp\"], test_df[\"tmp\"]\n",
    "        gc.collect()\n",
    "    return train_df, test_df"
   ]
  },
  {
   "cell_type": "code",
   "execution_count": 27,
   "metadata": {},
   "outputs": [],
   "source": [
    "@feature_cache(reset=True)\n",
    "def multiple_cat_encoding(train_df, test_df):\n",
    "     # multiple cat encoding\n",
    "    multi_te_cols = [c for c in train_df.columns if c in cat_cols or c[:4] == \"ohe_\"]\n",
    "    imp_feats = get_basic_importance_cols(use_num=30)\n",
    "    multi_te_cols = [c for c in multi_te_cols if c in imp_feats]\n",
    "    combi_multi_te_cols = list(itertools.combinations(multi_te_cols, 2))   \n",
    "\n",
    "    for col_a, col_b in tqdm(combi_multi_te_cols):\n",
    "        new_col = \"multi_cat_\" + col_a + \"__\" + col_b\n",
    "        train_df[new_col] = train_df[col_a].fillna(\"\").astype(str) + train_df[col_b].fillna(\"\").astype(str)\n",
    "        test_df[new_col] = test_df[col_a].fillna(\"\").astype(str) + test_df[col_b].fillna(\"\").astype(str)\n",
    "        cat_cols.append(new_col)\n",
    "    return train_df, test_df"
   ]
  },
  {
   "cell_type": "code",
   "execution_count": 28,
   "metadata": {},
   "outputs": [
    {
     "data": {
      "application/vnd.jupyter.widget-view+json": {
       "model_id": "d1be06c01049401bb4d17c93ae09bf59",
       "version_major": 2,
       "version_minor": 0
      },
      "text/plain": [
       "HBox(children=(FloatProgress(value=0.0, max=210.0), HTML(value='')))"
      ]
     },
     "metadata": {},
     "output_type": "display_data"
    },
    {
     "name": "stdout",
     "output_type": "stream",
     "text": [
      "\n"
     ]
    }
   ],
   "source": [
    "train_df, test_df = multiple_cat_encoding(train_df, test_df)"
   ]
  },
  {
   "cell_type": "code",
   "execution_count": 29,
   "metadata": {},
   "outputs": [],
   "source": [
    "train_df, test_df = multiple_target_encoding(train_df, test_df)"
   ]
  },
  {
   "cell_type": "code",
   "execution_count": 30,
   "metadata": {},
   "outputs": [
    {
     "name": "stdout",
     "output_type": "stream",
     "text": [
      "2705\n"
     ]
    }
   ],
   "source": [
    "use_cols = [c for c in train_df.columns if c not in multi_cat_cols + [\"Salary\", \"No\"]]\n",
    "print(len(use_cols))"
   ]
  },
  {
   "cell_type": "markdown",
   "metadata": {},
   "source": [
    "## Training"
   ]
  },
  {
   "cell_type": "code",
   "execution_count": 31,
   "metadata": {},
   "outputs": [],
   "source": [
    "lgb_params = {\n",
    "            'objective': 'poisson',\n",
    "            \"metric\": \"rmse\",\n",
    "            \"verbosity\": -1,\n",
    "            \"boosting\": \"gbdt\",\n",
    "            'learning_rate': 0.05,\n",
    "            'num_leaves': 64,\n",
    "            'min_data_in_leaf': 80, \n",
    "            'max_depth': 4,\n",
    "            \"bagging_freq\": 5,\n",
    "            \"bagging_fraction\": 0.8,\n",
    "            \"lambda_l1\": 0.5,\n",
    "            \"lambda_l2\": 0.5,\n",
    "            \"feature_fraction\": 0.1,\n",
    "            \"seed\": 2020,\n",
    "            \"num_threads\": -1,\n",
    "            \"max_bins\": 30\n",
    "}"
   ]
  },
  {
   "cell_type": "code",
   "execution_count": 32,
   "metadata": {},
   "outputs": [],
   "source": [
    "catboost_params = {\n",
    "    \"loss_function\": \"RMSE\",\n",
    "    \"eval_metric\": \"RMSE\",\n",
    "    \"task_type\": \"CPU\",\n",
    "    \"learning_rate\": 0.1,\n",
    "    \"depth\": 6,\n",
    "    \"colsample_bylevel\": 0.8,\n",
    "    \"iterations\": 10000,\n",
    "    \"random_seed\": 42,\n",
    "}"
   ]
  },
  {
   "cell_type": "code",
   "execution_count": 33,
   "metadata": {},
   "outputs": [],
   "source": [
    "def feature_selection(train_df, use_cols, n_features=1000):\n",
    "    df = train_df.sample(30000, random_state=2020)\n",
    "    train_dataset = lgb.Dataset(\n",
    "        df.loc[:, use_cols],\n",
    "        label = df.loc[:, \"Salary\"]\n",
    "    )\n",
    "    model = lgb.train(\n",
    "                lgb_params,\n",
    "                train_dataset,\n",
    "                2000,\n",
    "                valid_sets = [train_dataset],\n",
    "                verbose_eval=200,\n",
    "                early_stopping_rounds = None,\n",
    "    )\n",
    "    imp_df = pd.DataFrame()\n",
    "    imp_df['feature'] = use_cols\n",
    "    imp_df['gain'] = model.feature_importance(importance_type=\"gain\")\n",
    "    select_features = imp_df.sort_values([\"gain\"], ascending=False).iloc[: n_features][\"feature\"].tolist()\n",
    "    return select_features"
   ]
  },
  {
   "cell_type": "code",
   "execution_count": 34,
   "metadata": {},
   "outputs": [
    {
     "name": "stdout",
     "output_type": "stream",
     "text": [
      "Fold 1\n",
      "0:\tlearn: 41601.3233161\ttest: 41014.6425360\tbest: 41014.6425360 (0)\ttotal: 467ms\tremaining: 1h 17m 50s\n",
      "100:\tlearn: 20139.8903003\ttest: 21289.2527482\tbest: 21241.2972385 (98)\ttotal: 43.9s\tremaining: 1h 11m 45s\n",
      "200:\tlearn: 18873.9846627\ttest: 21350.2928730\tbest: 21241.2972385 (98)\ttotal: 1m 27s\tremaining: 1h 11m 22s\n",
      "300:\tlearn: 18009.8376614\ttest: 21389.4862057\tbest: 21241.2972385 (98)\ttotal: 2m 11s\tremaining: 1h 10m 40s\n",
      "400:\tlearn: 17247.1349910\ttest: 21540.7981723\tbest: 21241.2972385 (98)\ttotal: 2m 57s\tremaining: 1h 10m 40s\n",
      "500:\tlearn: 16655.8770880\ttest: 21732.2046608\tbest: 21241.2972385 (98)\ttotal: 3m 43s\tremaining: 1h 10m 31s\n",
      "Stopped by overfitting detector  (500 iterations wait)\n",
      "\n",
      "bestTest = 21241.29724\n",
      "bestIteration = 98\n",
      "\n",
      "Shrink model to first 99 iterations.\n",
      "Fold 2\n",
      "0:\tlearn: 41386.5445995\ttest: 41473.3477781\tbest: 41473.3477781 (0)\ttotal: 415ms\tremaining: 1h 9m 14s\n",
      "100:\tlearn: 20170.4623447\ttest: 21316.8340241\tbest: 21316.8340241 (100)\ttotal: 48.9s\tremaining: 1h 19m 50s\n",
      "200:\tlearn: 18973.1470728\ttest: 20905.3503665\tbest: 20905.3503665 (200)\ttotal: 1m 39s\tremaining: 1h 20m 48s\n",
      "300:\tlearn: 18072.1805948\ttest: 20727.2479119\tbest: 20727.2479119 (300)\ttotal: 2m 32s\tremaining: 1h 22m\n",
      "400:\tlearn: 17316.8909956\ttest: 20623.6730671\tbest: 20622.5541399 (393)\ttotal: 3m 27s\tremaining: 1h 22m 38s\n",
      "500:\tlearn: 16747.2817568\ttest: 20567.7150189\tbest: 20567.7150189 (500)\ttotal: 4m 23s\tremaining: 1h 23m 13s\n",
      "600:\tlearn: 16223.8837517\ttest: 20525.4603285\tbest: 20521.0779875 (574)\ttotal: 5m 20s\tremaining: 1h 23m 39s\n",
      "700:\tlearn: 15818.0731056\ttest: 20489.7488493\tbest: 20489.7488493 (700)\ttotal: 6m 20s\tremaining: 1h 24m 8s\n",
      "800:\tlearn: 15359.4036093\ttest: 20483.2415666\tbest: 20478.8136672 (785)\ttotal: 7m 19s\tremaining: 1h 24m 9s\n",
      "900:\tlearn: 14897.5455668\ttest: 20471.5676499\tbest: 20469.9268385 (862)\ttotal: 8m 19s\tremaining: 1h 24m 3s\n",
      "1000:\tlearn: 14514.1836462\ttest: 20462.9770532\tbest: 20458.0748498 (986)\ttotal: 9m 19s\tremaining: 1h 23m 51s\n",
      "1100:\tlearn: 14170.0415955\ttest: 20436.1083599\tbest: 20436.1083599 (1100)\ttotal: 10m 21s\tremaining: 1h 23m 45s\n",
      "1200:\tlearn: 13765.2237799\ttest: 20428.6632821\tbest: 20419.1420114 (1188)\ttotal: 11m 23s\tremaining: 1h 23m 27s\n",
      "1300:\tlearn: 13409.0229088\ttest: 20422.9851165\tbest: 20418.8162978 (1259)\ttotal: 12m 25s\tremaining: 1h 23m 2s\n",
      "1400:\tlearn: 13052.4614446\ttest: 20403.8141803\tbest: 20403.0963917 (1395)\ttotal: 13m 28s\tremaining: 1h 22m 39s\n",
      "1500:\tlearn: 12720.8963074\ttest: 20393.1782746\tbest: 20389.2551963 (1463)\ttotal: 14m 30s\tremaining: 1h 22m 6s\n",
      "1600:\tlearn: 12377.3888535\ttest: 20398.7600308\tbest: 20389.2551963 (1463)\ttotal: 15m 32s\tremaining: 1h 21m 33s\n",
      "1700:\tlearn: 12085.9370391\ttest: 20418.7077353\tbest: 20389.2551963 (1463)\ttotal: 16m 37s\tremaining: 1h 21m 8s\n",
      "1800:\tlearn: 11798.5867070\ttest: 20415.2525324\tbest: 20389.2551963 (1463)\ttotal: 17m 42s\tremaining: 1h 20m 35s\n",
      "1900:\tlearn: 11531.6016062\ttest: 20426.8936308\tbest: 20389.2551963 (1463)\ttotal: 18m 44s\tremaining: 1h 19m 49s\n",
      "Stopped by overfitting detector  (500 iterations wait)\n",
      "\n",
      "bestTest = 20389.2552\n",
      "bestIteration = 1463\n",
      "\n",
      "Shrink model to first 1464 iterations.\n",
      "Fold 3\n",
      "0:\tlearn: 41438.7975074\ttest: 41666.9825955\tbest: 41666.9825955 (0)\ttotal: 494ms\tremaining: 1h 22m 15s\n",
      "100:\tlearn: 20192.0630782\ttest: 21253.0318732\tbest: 21253.0318732 (100)\ttotal: 48.9s\tremaining: 1h 19m 48s\n",
      "200:\tlearn: 18926.0421340\ttest: 20964.0231902\tbest: 20964.0231902 (200)\ttotal: 1m 39s\tremaining: 1h 21m 10s\n",
      "300:\tlearn: 18095.3642487\ttest: 20808.2397256\tbest: 20808.2397256 (300)\ttotal: 2m 42s\tremaining: 1h 27m 4s\n",
      "400:\tlearn: 17330.6654411\ttest: 20737.4211574\tbest: 20736.2921827 (396)\ttotal: 3m 52s\tremaining: 1h 32m 49s\n",
      "500:\tlearn: 16701.4517481\ttest: 20735.6901328\tbest: 20726.3378164 (490)\ttotal: 5m 4s\tremaining: 1h 36m 17s\n",
      "600:\tlearn: 16187.6574015\ttest: 20707.8825457\tbest: 20707.7373597 (599)\ttotal: 5m 53s\tremaining: 1h 32m 14s\n",
      "700:\tlearn: 15713.2800726\ttest: 20662.0136990\tbest: 20659.9861593 (695)\ttotal: 6m 44s\tremaining: 1h 29m 20s\n",
      "800:\tlearn: 15241.1666190\ttest: 20634.7222628\tbest: 20629.1617997 (773)\ttotal: 7m 33s\tremaining: 1h 26m 52s\n",
      "900:\tlearn: 14793.4041785\ttest: 20620.5758582\tbest: 20615.3009482 (867)\ttotal: 8m 23s\tremaining: 1h 24m 48s\n",
      "1000:\tlearn: 14361.0432439\ttest: 20610.1279392\tbest: 20609.6732818 (939)\ttotal: 9m 12s\tremaining: 1h 22m 48s\n",
      "1100:\tlearn: 13964.4075543\ttest: 20611.7882335\tbest: 20605.4518518 (1042)\ttotal: 10m 1s\tremaining: 1h 21m 3s\n",
      "1200:\tlearn: 13600.9876441\ttest: 20616.2197353\tbest: 20605.4518518 (1042)\ttotal: 10m 53s\tremaining: 1h 19m 47s\n",
      "1300:\tlearn: 13256.2663309\ttest: 20626.0910153\tbest: 20605.4518518 (1042)\ttotal: 11m 46s\tremaining: 1h 18m 41s\n",
      "1400:\tlearn: 12941.7432741\ttest: 20610.5928126\tbest: 20605.4518518 (1042)\ttotal: 12m 39s\tremaining: 1h 17m 39s\n",
      "1500:\tlearn: 12610.4251540\ttest: 20618.0595930\tbest: 20605.4518518 (1042)\ttotal: 13m 33s\tremaining: 1h 16m 47s\n",
      "Stopped by overfitting detector  (500 iterations wait)\n",
      "\n",
      "bestTest = 20605.45185\n",
      "bestIteration = 1042\n",
      "\n",
      "Shrink model to first 1043 iterations.\n",
      "Fold 4\n",
      "0:\tlearn: 41436.2134394\ttest: 41615.8613031\tbest: 41615.8613031 (0)\ttotal: 444ms\tremaining: 1h 13m 59s\n",
      "100:\tlearn: 20125.6577789\ttest: 21241.2697231\tbest: 21241.2697231 (100)\ttotal: 53.7s\tremaining: 1h 27m 39s\n",
      "200:\tlearn: 18841.1749106\ttest: 20864.2857327\tbest: 20861.9503515 (197)\ttotal: 1m 50s\tremaining: 1h 29m 26s\n",
      "300:\tlearn: 17947.0965878\ttest: 20725.0445324\tbest: 20725.0445324 (300)\ttotal: 2m 49s\tremaining: 1h 30m 54s\n",
      "400:\tlearn: 17295.0970147\ttest: 20652.6383222\tbest: 20652.6383222 (400)\ttotal: 3m 48s\tremaining: 1h 31m 12s\n",
      "500:\tlearn: 16723.7874120\ttest: 20591.3940359\tbest: 20591.3940359 (500)\ttotal: 4m 49s\tremaining: 1h 31m 33s\n",
      "600:\tlearn: 16183.9983180\ttest: 20576.0368229\tbest: 20575.3318711 (572)\ttotal: 5m 51s\tremaining: 1h 31m 35s\n",
      "700:\tlearn: 15723.0875366\ttest: 20556.1510836\tbest: 20556.0042008 (699)\ttotal: 6m 55s\tremaining: 1h 31m 52s\n",
      "800:\tlearn: 15259.0019148\ttest: 20542.4892884\tbest: 20542.4892884 (800)\ttotal: 8m\tremaining: 1h 31m 59s\n",
      "900:\tlearn: 14834.1202805\ttest: 20497.6925326\tbest: 20497.6925326 (900)\ttotal: 9m 7s\tremaining: 1h 32m 12s\n",
      "1000:\tlearn: 14471.2902832\ttest: 20478.7742607\tbest: 20477.7124485 (998)\ttotal: 10m 15s\tremaining: 1h 32m 17s\n",
      "1100:\tlearn: 14067.0897625\ttest: 20476.3451699\tbest: 20474.2964697 (1099)\ttotal: 11m 24s\tremaining: 1h 32m 8s\n",
      "1200:\tlearn: 13689.7723509\ttest: 20480.0005792\tbest: 20471.8951512 (1136)\ttotal: 12m 33s\tremaining: 1h 31m 57s\n",
      "1300:\tlearn: 13344.1597353\ttest: 20479.9046982\tbest: 20471.8951512 (1136)\ttotal: 13m 42s\tremaining: 1h 31m 39s\n",
      "1400:\tlearn: 13013.7624468\ttest: 20485.3030506\tbest: 20471.8951512 (1136)\ttotal: 14m 52s\tremaining: 1h 31m 16s\n",
      "1500:\tlearn: 12661.7585289\ttest: 20481.8736894\tbest: 20471.8951512 (1136)\ttotal: 16m 1s\tremaining: 1h 30m 43s\n",
      "1600:\tlearn: 12357.2697188\ttest: 20473.8842561\tbest: 20471.8951512 (1136)\ttotal: 17m 12s\tremaining: 1h 30m 18s\n",
      "Stopped by overfitting detector  (500 iterations wait)\n",
      "\n",
      "bestTest = 20471.89515\n",
      "bestIteration = 1136\n",
      "\n",
      "Shrink model to first 1137 iterations.\n",
      "Fold 5\n",
      "0:\tlearn: 41416.8462717\ttest: 41618.3463161\tbest: 41618.3463161 (0)\ttotal: 477ms\tremaining: 1h 19m 32s\n",
      "100:\tlearn: 20250.7553703\ttest: 20948.9064455\tbest: 20948.9064455 (100)\ttotal: 1m 11s\tremaining: 1h 57m 18s\n",
      "200:\tlearn: 18936.9570162\ttest: 20587.9654499\tbest: 20587.7921679 (198)\ttotal: 2m\tremaining: 1h 38m 6s\n",
      "300:\tlearn: 18032.1460159\ttest: 20472.6647573\tbest: 20472.6647573 (300)\ttotal: 3m 1s\tremaining: 1h 37m 17s\n",
      "400:\tlearn: 17333.1644724\ttest: 20394.0085650\tbest: 20392.8753213 (398)\ttotal: 3m 55s\tremaining: 1h 34m\n",
      "500:\tlearn: 16733.9189072\ttest: 20368.8016907\tbest: 20365.4273526 (492)\ttotal: 4m 51s\tremaining: 1h 31m 58s\n",
      "600:\tlearn: 16191.3251076\ttest: 20356.2768993\tbest: 20354.8175319 (592)\ttotal: 5m 49s\tremaining: 1h 31m 10s\n",
      "700:\tlearn: 15722.1618875\ttest: 20349.2570742\tbest: 20340.8358534 (635)\ttotal: 6m 55s\tremaining: 1h 31m 52s\n",
      "800:\tlearn: 15249.8822980\ttest: 20337.0585714\tbest: 20337.0585714 (800)\ttotal: 7m 57s\tremaining: 1h 31m 20s\n",
      "900:\tlearn: 14810.1207494\ttest: 20332.4403457\tbest: 20328.7484933 (892)\ttotal: 9m\tremaining: 1h 30m 54s\n",
      "1000:\tlearn: 14413.9806916\ttest: 20310.5884069\tbest: 20308.6291383 (985)\ttotal: 9m 59s\tremaining: 1h 29m 48s\n",
      "1100:\tlearn: 14009.7610736\ttest: 20294.8617990\tbest: 20292.9423030 (1097)\ttotal: 10m 58s\tremaining: 1h 28m 39s\n",
      "1200:\tlearn: 13633.6893396\ttest: 20284.2686007\tbest: 20282.2488483 (1189)\ttotal: 12m 1s\tremaining: 1h 28m 6s\n",
      "1300:\tlearn: 13279.4310826\ttest: 20288.4073733\tbest: 20282.2488483 (1189)\ttotal: 13m 5s\tremaining: 1h 27m 32s\n",
      "1400:\tlearn: 12940.5864195\ttest: 20279.4358745\tbest: 20278.2628924 (1393)\ttotal: 14m 10s\tremaining: 1h 27m\n",
      "1500:\tlearn: 12609.6348175\ttest: 20278.3648399\tbest: 20274.6758373 (1480)\ttotal: 15m 14s\tremaining: 1h 26m 15s\n",
      "1600:\tlearn: 12309.5810045\ttest: 20266.7229312\tbest: 20262.4574264 (1565)\ttotal: 16m 6s\tremaining: 1h 24m 30s\n",
      "1700:\tlearn: 12021.6760035\ttest: 20272.5347692\tbest: 20262.4574264 (1565)\ttotal: 17m 2s\tremaining: 1h 23m 7s\n",
      "1800:\tlearn: 11752.9663546\ttest: 20272.2365181\tbest: 20262.4574264 (1565)\ttotal: 17m 58s\tremaining: 1h 21m 51s\n",
      "1900:\tlearn: 11465.3707573\ttest: 20271.0195587\tbest: 20262.4574264 (1565)\ttotal: 18m 53s\tremaining: 1h 20m 30s\n",
      "2000:\tlearn: 11202.6308123\ttest: 20274.8293935\tbest: 20262.4574264 (1565)\ttotal: 19m 48s\tremaining: 1h 19m 9s\n",
      "Stopped by overfitting detector  (500 iterations wait)\n",
      "\n",
      "bestTest = 20262.45743\n",
      "bestIteration = 1565\n",
      "\n",
      "Shrink model to first 1566 iterations.\n"
     ]
    }
   ],
   "source": [
    "importances = pd.DataFrame()\n",
    "oof_preds = np.zeros(len(train_df))\n",
    "models = []\n",
    "\n",
    "cat_cols = [c for c in cat_cols if c in train_df.columns]\n",
    "\n",
    "# use_cols = feature_selection(train_df, use_cols, n_features=1000)\n",
    "\n",
    "for fold_i, (trn_idx, val_idx) in enumerate(fold_idx_list):\n",
    "    print(f\"Fold {fold_i+1}\")\n",
    "    \"\"\"\n",
    "    train_dataset = lgb.Dataset(\n",
    "        train_df.loc[trn_idx, use_cols],\n",
    "        label = train_df.loc[trn_idx, \"Salary\"]\n",
    "    )\n",
    "    valid_dataset = lgb.Dataset(\n",
    "        train_df.loc[val_idx, use_cols],\n",
    "        label = train_df.loc[val_idx, \"Salary\"]\n",
    "    )\n",
    "    model = lgb.train(\n",
    "                lgb_params,\n",
    "                train_dataset,\n",
    "                10000,\n",
    "                valid_sets = [train_dataset, valid_dataset],\n",
    "                verbose_eval=100,\n",
    "                early_stopping_rounds = 300,\n",
    "                #feval = eval_f1,\n",
    "                #callbacks = [log_callback],\n",
    "    )\n",
    "    imp_df = pd.DataFrame()\n",
    "    imp_df['feature'] = use_cols\n",
    "    imp_df['gain'] = model.feature_importance(importance_type=\"gain\")\n",
    "    importances = pd.concat([importances, imp_df], axis=0, sort=False)\n",
    "    \n",
    "    oof_preds[val_idx] = model.predict(train_df.loc[val_idx, use_cols])\n",
    "    \"\"\"\n",
    "    model = CatBoostRegressor(**catboost_params)\n",
    "    model.fit(\n",
    "            train_df.loc[trn_idx, use_cols],\n",
    "            train_df.loc[trn_idx, \"Salary\"],\n",
    "            cat_features=cat_cols,\n",
    "            eval_set=(train_df.loc[val_idx, use_cols], train_df.loc[val_idx, \"Salary\"]),\n",
    "            early_stopping_rounds=500,\n",
    "            verbose=100,\n",
    "            use_best_model=True\n",
    "    )\n",
    "    \n",
    "    models.append(model)\n",
    "    oof_preds[val_idx] = model.predict(train_df.loc[val_idx, use_cols])"
   ]
  },
  {
   "cell_type": "code",
   "execution_count": 35,
   "metadata": {},
   "outputs": [
    {
     "data": {
      "text/plain": [
       "20596.929277750598"
      ]
     },
     "execution_count": 35,
     "metadata": {},
     "output_type": "execute_result"
    }
   ],
   "source": [
    "oof_score = np.sqrt(mean_squared_error(train_df[\"Salary\"], oof_preds))\n",
    "oof_score"
   ]
  },
  {
   "cell_type": "code",
   "execution_count": 36,
   "metadata": {},
   "outputs": [
    {
     "ename": "KeyError",
     "evalue": "'feature'",
     "output_type": "error",
     "traceback": [
      "\u001b[0;31m---------------------------------------------------------------------------\u001b[0m",
      "\u001b[0;31mKeyError\u001b[0m                                  Traceback (most recent call last)",
      "\u001b[0;32m<ipython-input-36-2d13fd4a0bc2>\u001b[0m in \u001b[0;36m<module>\u001b[0;34m\u001b[0m\n\u001b[0;32m----> 1\u001b[0;31m \u001b[0mimportances\u001b[0m\u001b[0;34m.\u001b[0m\u001b[0mgroupby\u001b[0m\u001b[0;34m(\u001b[0m\u001b[0;34m\"feature\"\u001b[0m\u001b[0;34m)\u001b[0m\u001b[0;34m[\u001b[0m\u001b[0;34m\"gain\"\u001b[0m\u001b[0;34m]\u001b[0m\u001b[0;34m.\u001b[0m\u001b[0mmean\u001b[0m\u001b[0;34m(\u001b[0m\u001b[0;34m)\u001b[0m\u001b[0;34m.\u001b[0m\u001b[0msort_values\u001b[0m\u001b[0;34m(\u001b[0m\u001b[0mascending\u001b[0m\u001b[0;34m=\u001b[0m\u001b[0;32mFalse\u001b[0m\u001b[0;34m)\u001b[0m\u001b[0;34m.\u001b[0m\u001b[0mreset_index\u001b[0m\u001b[0;34m(\u001b[0m\u001b[0;34m)\u001b[0m\u001b[0;34m.\u001b[0m\u001b[0miloc\u001b[0m\u001b[0;34m[\u001b[0m\u001b[0;34m:\u001b[0m\u001b[0;36m300\u001b[0m\u001b[0;34m]\u001b[0m\u001b[0;34m\u001b[0m\u001b[0;34m\u001b[0m\u001b[0m\n\u001b[0m",
      "\u001b[0;32m~/.pyenv/versions/3.8.2/lib/python3.8/site-packages/pandas/core/frame.py\u001b[0m in \u001b[0;36mgroupby\u001b[0;34m(self, by, axis, level, as_index, sort, group_keys, squeeze, observed, dropna)\u001b[0m\n\u001b[1;32m   6502\u001b[0m         \u001b[0maxis\u001b[0m \u001b[0;34m=\u001b[0m \u001b[0mself\u001b[0m\u001b[0;34m.\u001b[0m\u001b[0m_get_axis_number\u001b[0m\u001b[0;34m(\u001b[0m\u001b[0maxis\u001b[0m\u001b[0;34m)\u001b[0m\u001b[0;34m\u001b[0m\u001b[0;34m\u001b[0m\u001b[0m\n\u001b[1;32m   6503\u001b[0m \u001b[0;34m\u001b[0m\u001b[0m\n\u001b[0;32m-> 6504\u001b[0;31m         return DataFrameGroupBy(\n\u001b[0m\u001b[1;32m   6505\u001b[0m             \u001b[0mobj\u001b[0m\u001b[0;34m=\u001b[0m\u001b[0mself\u001b[0m\u001b[0;34m,\u001b[0m\u001b[0;34m\u001b[0m\u001b[0;34m\u001b[0m\u001b[0m\n\u001b[1;32m   6506\u001b[0m             \u001b[0mkeys\u001b[0m\u001b[0;34m=\u001b[0m\u001b[0mby\u001b[0m\u001b[0;34m,\u001b[0m\u001b[0;34m\u001b[0m\u001b[0;34m\u001b[0m\u001b[0m\n",
      "\u001b[0;32m~/.pyenv/versions/3.8.2/lib/python3.8/site-packages/pandas/core/groupby/groupby.py\u001b[0m in \u001b[0;36m__init__\u001b[0;34m(self, obj, keys, axis, level, grouper, exclusions, selection, as_index, sort, group_keys, squeeze, observed, mutated, dropna)\u001b[0m\n\u001b[1;32m    523\u001b[0m             \u001b[0;32mfrom\u001b[0m \u001b[0mpandas\u001b[0m\u001b[0;34m.\u001b[0m\u001b[0mcore\u001b[0m\u001b[0;34m.\u001b[0m\u001b[0mgroupby\u001b[0m\u001b[0;34m.\u001b[0m\u001b[0mgrouper\u001b[0m \u001b[0;32mimport\u001b[0m \u001b[0mget_grouper\u001b[0m\u001b[0;34m\u001b[0m\u001b[0;34m\u001b[0m\u001b[0m\n\u001b[1;32m    524\u001b[0m \u001b[0;34m\u001b[0m\u001b[0m\n\u001b[0;32m--> 525\u001b[0;31m             grouper, exclusions, obj = get_grouper(\n\u001b[0m\u001b[1;32m    526\u001b[0m                 \u001b[0mobj\u001b[0m\u001b[0;34m,\u001b[0m\u001b[0;34m\u001b[0m\u001b[0;34m\u001b[0m\u001b[0m\n\u001b[1;32m    527\u001b[0m                 \u001b[0mkeys\u001b[0m\u001b[0;34m,\u001b[0m\u001b[0;34m\u001b[0m\u001b[0;34m\u001b[0m\u001b[0m\n",
      "\u001b[0;32m~/.pyenv/versions/3.8.2/lib/python3.8/site-packages/pandas/core/groupby/grouper.py\u001b[0m in \u001b[0;36mget_grouper\u001b[0;34m(obj, key, axis, level, sort, observed, mutated, validate, dropna)\u001b[0m\n\u001b[1;32m    775\u001b[0m                 \u001b[0min_axis\u001b[0m\u001b[0;34m,\u001b[0m \u001b[0mname\u001b[0m\u001b[0;34m,\u001b[0m \u001b[0mlevel\u001b[0m\u001b[0;34m,\u001b[0m \u001b[0mgpr\u001b[0m \u001b[0;34m=\u001b[0m \u001b[0;32mFalse\u001b[0m\u001b[0;34m,\u001b[0m \u001b[0;32mNone\u001b[0m\u001b[0;34m,\u001b[0m \u001b[0mgpr\u001b[0m\u001b[0;34m,\u001b[0m \u001b[0;32mNone\u001b[0m\u001b[0;34m\u001b[0m\u001b[0;34m\u001b[0m\u001b[0m\n\u001b[1;32m    776\u001b[0m             \u001b[0;32melse\u001b[0m\u001b[0;34m:\u001b[0m\u001b[0;34m\u001b[0m\u001b[0;34m\u001b[0m\u001b[0m\n\u001b[0;32m--> 777\u001b[0;31m                 \u001b[0;32mraise\u001b[0m \u001b[0mKeyError\u001b[0m\u001b[0;34m(\u001b[0m\u001b[0mgpr\u001b[0m\u001b[0;34m)\u001b[0m\u001b[0;34m\u001b[0m\u001b[0;34m\u001b[0m\u001b[0m\n\u001b[0m\u001b[1;32m    778\u001b[0m         \u001b[0;32melif\u001b[0m \u001b[0misinstance\u001b[0m\u001b[0;34m(\u001b[0m\u001b[0mgpr\u001b[0m\u001b[0;34m,\u001b[0m \u001b[0mGrouper\u001b[0m\u001b[0;34m)\u001b[0m \u001b[0;32mand\u001b[0m \u001b[0mgpr\u001b[0m\u001b[0;34m.\u001b[0m\u001b[0mkey\u001b[0m \u001b[0;32mis\u001b[0m \u001b[0;32mnot\u001b[0m \u001b[0;32mNone\u001b[0m\u001b[0;34m:\u001b[0m\u001b[0;34m\u001b[0m\u001b[0;34m\u001b[0m\u001b[0m\n\u001b[1;32m    779\u001b[0m             \u001b[0;31m# Add key to exclusions\u001b[0m\u001b[0;34m\u001b[0m\u001b[0;34m\u001b[0m\u001b[0;34m\u001b[0m\u001b[0m\n",
      "\u001b[0;31mKeyError\u001b[0m: 'feature'"
     ]
    }
   ],
   "source": [
    "importances.groupby(\"feature\")[\"gain\"].mean().sort_values(ascending=False).reset_index().iloc[:300]"
   ]
  },
  {
   "cell_type": "code",
   "execution_count": null,
   "metadata": {},
   "outputs": [],
   "source": [
    "len(use_cols)"
   ]
  },
  {
   "cell_type": "markdown",
   "metadata": {},
   "source": [
    "## Prediction"
   ]
  },
  {
   "cell_type": "code",
   "execution_count": null,
   "metadata": {},
   "outputs": [],
   "source": [
    "test_pred = np.zeros(len(test_df))\n",
    "\n",
    "for model in models:\n",
    "    test_pred += model.predict(test_df[use_cols]) / len(models)"
   ]
  },
  {
   "cell_type": "code",
   "execution_count": null,
   "metadata": {},
   "outputs": [],
   "source": [
    "test_pred"
   ]
  },
  {
   "cell_type": "code",
   "execution_count": null,
   "metadata": {},
   "outputs": [],
   "source": [
    "sub_df = pd.read_csv(\"../input/submit.csv\")"
   ]
  },
  {
   "cell_type": "code",
   "execution_count": null,
   "metadata": {},
   "outputs": [],
   "source": [
    "sub_df[\"Salary\"] = test_pred"
   ]
  },
  {
   "cell_type": "code",
   "execution_count": null,
   "metadata": {},
   "outputs": [],
   "source": [
    "sub_df.to_csv(\"../predict/025_catboost_20314.csv\", index=False)"
   ]
  },
  {
   "cell_type": "code",
   "execution_count": null,
   "metadata": {},
   "outputs": [],
   "source": []
  }
 ],
 "metadata": {
  "kernelspec": {
   "display_name": "Python 3.8.2 64-bit ('3.8.2': pyenv)",
   "language": "python",
   "name": "python38264bit382pyenv0bf26b16ab884472b54c5411cc1e5c03"
  },
  "language_info": {
   "codemirror_mode": {
    "name": "ipython",
    "version": 3
   },
   "file_extension": ".py",
   "mimetype": "text/x-python",
   "name": "python",
   "nbconvert_exporter": "python",
   "pygments_lexer": "ipython3",
   "version": "3.8.2"
  },
  "toc": {
   "base_numbering": 1,
   "nav_menu": {},
   "number_sections": true,
   "sideBar": true,
   "skip_h1_title": false,
   "title_cell": "Table of Contents",
   "title_sidebar": "Contents",
   "toc_cell": false,
   "toc_position": {},
   "toc_section_display": true,
   "toc_window_display": false
  }
 },
 "nbformat": 4,
 "nbformat_minor": 4
}
