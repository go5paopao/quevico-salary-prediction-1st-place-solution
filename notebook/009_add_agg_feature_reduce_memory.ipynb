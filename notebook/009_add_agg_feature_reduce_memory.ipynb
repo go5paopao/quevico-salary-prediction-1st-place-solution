{
 "cells": [
  {
   "cell_type": "markdown",
   "metadata": {},
   "source": [
    "## Prepare and read data"
   ]
  },
  {
   "cell_type": "code",
   "execution_count": 1,
   "metadata": {},
   "outputs": [],
   "source": [
    "import gc\n",
    "from tqdm.auto import tqdm\n",
    "import pandas as pd\n",
    "import numpy as np\n",
    "import lightgbm as lgb\n",
    "\n",
    "from sklearn.preprocessing import MultiLabelBinarizer\n",
    "from sklearn.model_selection import StratifiedKFold, KFold\n",
    "from sklearn.metrics import mean_squared_error"
   ]
  },
  {
   "cell_type": "code",
   "execution_count": 2,
   "metadata": {},
   "outputs": [],
   "source": [
    "pd.set_option(\"max_columns\", 300)\n",
    "pd.set_option(\"max_rows\", 500)"
   ]
  },
  {
   "cell_type": "code",
   "execution_count": 3,
   "metadata": {},
   "outputs": [],
   "source": [
    "train_df = pd.read_csv(\"../input/train.csv\")\n",
    "test_df = pd.read_csv(\"../input/test.csv\")"
   ]
  },
  {
   "cell_type": "markdown",
   "metadata": {},
   "source": [
    "## Feature Engineering"
   ]
  },
  {
   "cell_type": "code",
   "execution_count": 4,
   "metadata": {},
   "outputs": [],
   "source": [
    "def get_multi_cat_cols(train_df):\n",
    "    tmp = train_df.iloc[:1000]\n",
    "    multi_cols = []\n",
    "    for c in train_df.columns:\n",
    "        sep_num = tmp[c].astype(str).fillna(\"\").str.contains(\";\").sum()\n",
    "        if sep_num > 10:\n",
    "            multi_cols.append(c)\n",
    "    return multi_cols"
   ]
  },
  {
   "cell_type": "code",
   "execution_count": 5,
   "metadata": {},
   "outputs": [],
   "source": [
    "original_cols = train_df.columns.tolist()"
   ]
  },
  {
   "cell_type": "code",
   "execution_count": 6,
   "metadata": {},
   "outputs": [],
   "source": [
    "multi_cat_cols = get_multi_cat_cols(train_df)"
   ]
  },
  {
   "cell_type": "code",
   "execution_count": 7,
   "metadata": {},
   "outputs": [
    {
     "data": {
      "application/vnd.jupyter.widget-view+json": {
       "model_id": "7ae87c9c37314d86983db0b7b5a21efb",
       "version_major": 2,
       "version_minor": 0
      },
      "text/plain": [
       "HBox(children=(FloatProgress(value=0.0, max=21.0), HTML(value='')))"
      ]
     },
     "metadata": {},
     "output_type": "display_data"
    },
    {
     "name": "stdout",
     "output_type": "stream",
     "text": [
      "\n"
     ]
    }
   ],
   "source": [
    "for c in tqdm(multi_cat_cols):\n",
    "    binarizer = MultiLabelBinarizer()\n",
    "    train_multi_srs = train_df[c].map(lambda x: x.split(\";\") if x is not np.nan else [])\n",
    "    test_multi_srs = test_df[c].map(lambda x: x.split(\";\") if x is not np.nan else [])\n",
    "    train_arr = binarizer.fit_transform(train_multi_srs)\n",
    "    test_arr = binarizer.transform(test_multi_srs)\n",
    "    feat_cols = [f\"ohe_{c}_{val}\" for val in binarizer.classes_]\n",
    "    train_feat_df = pd.DataFrame(train_arr, columns=feat_cols, dtype=np.int8)\n",
    "    test_feat_df = pd.DataFrame(test_arr, columns=feat_cols, dtype=np.int8)\n",
    "    train_feat_df[f\"sum_answer_{c}\"] = (train_df[c].str.count(\";\") + 1).fillna(-1).astype(np.int8)\n",
    "    test_feat_df[f\"sum_answer_{c}\"] = (test_df[c].str.count(\";\") + 1).fillna(-1).astype(np.int8)\n",
    "    train_df = pd.concat([train_df, train_feat_df], axis=1)\n",
    "    test_df = pd.concat([test_df, test_feat_df], axis=1)"
   ]
  },
  {
   "cell_type": "code",
   "execution_count": 8,
   "metadata": {},
   "outputs": [],
   "source": [
    "other_cols = [\n",
    "    c for c in list(np.setdiff1d(original_cols, multi_cat_cols)) if c not in [\"Salary\", \"No\"]\n",
    "]"
   ]
  },
  {
   "cell_type": "code",
   "execution_count": 9,
   "metadata": {},
   "outputs": [
    {
     "data": {
      "application/vnd.jupyter.widget-view+json": {
       "model_id": "96d960cefb7846fc9cb10d4e4a90797c",
       "version_major": 2,
       "version_minor": 0
      },
      "text/plain": [
       "HBox(children=(FloatProgress(value=0.0, max=105.0), HTML(value='')))"
      ]
     },
     "metadata": {},
     "output_type": "display_data"
    },
    {
     "name": "stdout",
     "output_type": "stream",
     "text": [
      "\n"
     ]
    }
   ],
   "source": [
    "cat_cols = []\n",
    "for c in tqdm(other_cols):\n",
    "    if \"float\" in train_df[c].dtype.name:\n",
    "        if train_df[c].nunique() > 1000:\n",
    "            train_df[c] = train_df[c].astype(np.float32)\n",
    "            test_df[c] = test_df[c].astype(np.float32)\n",
    "        else:\n",
    "            train_df[c] = train_df[c].astype(np.float16)\n",
    "            test_df[c] = test_df[c].astype(np.float16)\n",
    "    else:\n",
    "        train_df[c], uniques = pd.factorize(train_df[c], sort=True)\n",
    "        test_df[c] = uniques.get_indexer(test_df[c])\n",
    "        if train_df[c].max() > 32767:\n",
    "            train_df[c] = train_df[c].astype(np.int32)\n",
    "            test_df[c] = test_df[c].astype(np.int32)\n",
    "        else:\n",
    "            train_df[c] = train_df[c].astype(np.int16)\n",
    "            test_df[c] = test_df[c].astype(np.int16)            \n",
    "        cat_cols.append(c)"
   ]
  },
  {
   "cell_type": "code",
   "execution_count": 10,
   "metadata": {},
   "outputs": [
    {
     "data": {
      "text/plain": [
       "((33857, 465), (11259, 464))"
      ]
     },
     "execution_count": 10,
     "metadata": {},
     "output_type": "execute_result"
    }
   ],
   "source": [
    "train_df.shape, test_df.shape"
   ]
  },
  {
   "cell_type": "code",
   "execution_count": 11,
   "metadata": {},
   "outputs": [],
   "source": [
    "train_df.columns = [\"\".join (c if c.isalnum() else \"_\" for c in str(x)) for x in train_df.columns]\n",
    "test_df.columns = [\"\".join (c if c.isalnum() else \"_\" for c in str(x)) for x in test_df.columns]"
   ]
  },
  {
   "cell_type": "code",
   "execution_count": 12,
   "metadata": {},
   "outputs": [],
   "source": [
    "# basicなモデルのimportanceを読み込み\n",
    "importance_df = pd.read_csv(\"../data/importance/003_importance.csv\")"
   ]
  },
  {
   "cell_type": "code",
   "execution_count": 13,
   "metadata": {},
   "outputs": [],
   "source": [
    "imp_feats = importance_df[\"feature\"].iloc[:50].tolist()\n",
    "imp_cat_cols = [c for c in imp_feats if c in cat_cols or c[:4] == \"ohe_\"]\n",
    "imp_nume_cols = [c for c in imp_feats if c not in cat_cols and c not in multi_cat_cols]"
   ]
  },
  {
   "cell_type": "code",
   "execution_count": 14,
   "metadata": {},
   "outputs": [
    {
     "data": {
      "text/plain": [
       "(32, 15)"
      ]
     },
     "execution_count": 14,
     "metadata": {},
     "output_type": "execute_result"
    }
   ],
   "source": [
    "len(imp_cat_cols), len(imp_nume_cols)"
   ]
  },
  {
   "cell_type": "code",
   "execution_count": 15,
   "metadata": {
    "scrolled": true
   },
   "outputs": [
    {
     "data": {
      "application/vnd.jupyter.widget-view+json": {
       "model_id": "bb77e0a6f50a4d8a9844bb541d0fcea9",
       "version_major": 2,
       "version_minor": 0
      },
      "text/plain": [
       "HBox(children=(FloatProgress(value=0.0, max=32.0), HTML(value='')))"
      ]
     },
     "metadata": {},
     "output_type": "display_data"
    },
    {
     "name": "stdout",
     "output_type": "stream",
     "text": [
      "\n"
     ]
    },
    {
     "data": {
      "text/plain": [
       "61"
      ]
     },
     "execution_count": 15,
     "metadata": {},
     "output_type": "execute_result"
    }
   ],
   "source": [
    "all_df = pd.concat([train_df, test_df], axis=0, ignore_index=True)\n",
    "for cat_col in tqdm(imp_cat_cols):\n",
    "    for nume_col in imp_nume_cols:\n",
    "        all_df[f\"agg_mean_{cat_col}_{nume_col}\"] = \\\n",
    "            all_df.groupby(cat_col)[nume_col].transform(\"mean\").astype(np.float32)\n",
    "        all_df[f\"agg_std_{cat_col}_{nume_col}\"] = \\\n",
    "            all_df.groupby(cat_col)[nume_col].transform(\"std\").astype(np.float32)\n",
    "        all_df[f\"agg_max_{cat_col}_{nume_col}\"] = \\\n",
    "            all_df.groupby(cat_col)[nume_col].transform(\"max\").astype(np.float32)\n",
    "        all_df[f\"agg_min_{cat_col}_{nume_col}\"] = \\\n",
    "            all_df.groupby(cat_col)[nume_col].transform(\"min\").astype(np.float32)\n",
    "        all_df[f\"diff_agg_mean_{cat_col}_{nume_col}\"] = \\\n",
    "            all_df[nume_col] - all_df[f\"agg_mean_{cat_col}_{nume_col}\"]\n",
    "        all_df[f\"rel_agg_mean_{cat_col}_{nume_col}\"] = \\\n",
    "            all_df[nume_col] / (1 + all_df[f\"agg_mean_{cat_col}_{nume_col}\"])\n",
    "train_df = all_df.iloc[:len(train_df)].reset_index(drop=True)\n",
    "test_df = all_df.iloc[len(train_df):].reset_index(drop=True)\n",
    "del all_df\n",
    "gc.collect()"
   ]
  },
  {
   "cell_type": "code",
   "execution_count": 16,
   "metadata": {},
   "outputs": [],
   "source": [
    "use_cols = [c for c in train_df.columns if c not in multi_cat_cols + [\"Salary\", \"No\"]]"
   ]
  },
  {
   "cell_type": "code",
   "execution_count": 17,
   "metadata": {},
   "outputs": [],
   "source": [
    "folds = KFold(n_splits=5, random_state=2020, shuffle=True)\n",
    "fold_idx_list = [(trn_idx, val_idx) for trn_idx, val_idx in folds.split(train_df, train_df[\"Salary\"])]"
   ]
  },
  {
   "cell_type": "markdown",
   "metadata": {},
   "source": [
    "### Target Encoding"
   ]
  },
  {
   "cell_type": "code",
   "execution_count": 18,
   "metadata": {},
   "outputs": [
    {
     "data": {
      "application/vnd.jupyter.widget-view+json": {
       "model_id": "5fb239909f1342699e607722133b4814",
       "version_major": 2,
       "version_minor": 0
      },
      "text/plain": [
       "HBox(children=(FloatProgress(value=0.0, max=3322.0), HTML(value='')))"
      ]
     },
     "metadata": {},
     "output_type": "display_data"
    },
    {
     "name": "stdout",
     "output_type": "stream",
     "text": [
      "\n"
     ]
    }
   ],
   "source": [
    "for c in tqdm(use_cols):\n",
    "    if \"agg_\" in c or train_df[c].nunique() < 5:\n",
    "        continue\n",
    "    new_col = \"te_\" + c\n",
    "    train_df[new_col] = 0\n",
    "    test_df[new_col] = 0\n",
    "    for trn_idx, val_idx in fold_idx_list:\n",
    "        mean_val = train_df.loc[trn_idx].groupby(c)[\"Salary\"].mean().astype(np.float32)\n",
    "        train_df.loc[val_idx, new_col] = train_df.loc[val_idx, c].map(mean_val)\n",
    "        test_df.loc[:, new_col] += test_df.loc[:, c].map(mean_val) / len(fold_idx_list)\n",
    "    train_df[new_col] = train_df[new_col].astype(np.float32)\n",
    "    test_df[new_col] = test_df[new_col].astype(np.float32)"
   ]
  },
  {
   "cell_type": "code",
   "execution_count": 19,
   "metadata": {},
   "outputs": [
    {
     "name": "stdout",
     "output_type": "stream",
     "text": [
      "3431\n"
     ]
    }
   ],
   "source": [
    "use_cols = [c for c in train_df.columns if c not in multi_cat_cols + [\"Salary\", \"No\"]]\n",
    "print(len(use_cols))"
   ]
  },
  {
   "cell_type": "markdown",
   "metadata": {},
   "source": [
    "## Training"
   ]
  },
  {
   "cell_type": "code",
   "execution_count": 20,
   "metadata": {},
   "outputs": [],
   "source": [
    "lgb_params = {\n",
    "            'objective': 'regression',\n",
    "            \"metric\": \"rmse\",\n",
    "            \"verbosity\": -1,\n",
    "            \"boosting\": \"gbdt\",\n",
    "            'learning_rate': 0.05,\n",
    "            'num_leaves': 128,\n",
    "            'min_data_in_leaf': 30, \n",
    "            'max_depth': 6,\n",
    "            \"bagging_freq\": 10,\n",
    "            \"bagging_fraction\": 0.4,\n",
    "            \"lambda_l1\": 0.5,\n",
    "            \"lambda_l2\": 0.5,\n",
    "            \"feature_fraction\": 0.7,\n",
    "            \"seed\": 2020,\n",
    "            \"num_threads\": -1,\n",
    "            \"max_bins\": 30\n",
    "}"
   ]
  },
  {
   "cell_type": "code",
   "execution_count": 21,
   "metadata": {},
   "outputs": [
    {
     "name": "stdout",
     "output_type": "stream",
     "text": [
      "Fold 1\n",
      "Training until validation scores don't improve for 100 rounds\n",
      "[100]\ttraining's rmse: 19131.3\tvalid_1's rmse: 21423.7\n",
      "[200]\ttraining's rmse: 17557.9\tvalid_1's rmse: 21129.1\n",
      "[300]\ttraining's rmse: 16471.5\tvalid_1's rmse: 21043.9\n",
      "[400]\ttraining's rmse: 15625\tvalid_1's rmse: 21004.3\n",
      "[500]\ttraining's rmse: 14944.1\tvalid_1's rmse: 21023.8\n",
      "Early stopping, best iteration is:\n",
      "[413]\ttraining's rmse: 15558.8\tvalid_1's rmse: 20997.8\n",
      "Fold 2\n",
      "Training until validation scores don't improve for 100 rounds\n",
      "[100]\ttraining's rmse: 19188.7\tvalid_1's rmse: 21320.4\n",
      "[200]\ttraining's rmse: 17552.2\tvalid_1's rmse: 20881\n",
      "[300]\ttraining's rmse: 16483.6\tvalid_1's rmse: 20805.1\n",
      "[400]\ttraining's rmse: 15597.5\tvalid_1's rmse: 20751.4\n",
      "[500]\ttraining's rmse: 14862.6\tvalid_1's rmse: 20743.8\n",
      "Early stopping, best iteration is:\n",
      "[458]\ttraining's rmse: 15174.3\tvalid_1's rmse: 20727\n",
      "Fold 3\n",
      "Training until validation scores don't improve for 100 rounds\n",
      "[100]\ttraining's rmse: 19223\tvalid_1's rmse: 21298.3\n",
      "[200]\ttraining's rmse: 17572.5\tvalid_1's rmse: 21042.6\n",
      "[300]\ttraining's rmse: 16569.3\tvalid_1's rmse: 21001.3\n",
      "[400]\ttraining's rmse: 15680.2\tvalid_1's rmse: 20935.7\n",
      "[500]\ttraining's rmse: 14840.6\tvalid_1's rmse: 20965.4\n",
      "Early stopping, best iteration is:\n",
      "[421]\ttraining's rmse: 15492.7\tvalid_1's rmse: 20926.6\n",
      "Fold 4\n",
      "Training until validation scores don't improve for 100 rounds\n",
      "[100]\ttraining's rmse: 19156\tvalid_1's rmse: 21252.7\n",
      "[200]\ttraining's rmse: 17539.4\tvalid_1's rmse: 20834.7\n",
      "[300]\ttraining's rmse: 16416.6\tvalid_1's rmse: 20683.9\n",
      "[400]\ttraining's rmse: 15507.3\tvalid_1's rmse: 20655.9\n",
      "[500]\ttraining's rmse: 14737.4\tvalid_1's rmse: 20638.4\n",
      "Early stopping, best iteration is:\n",
      "[447]\ttraining's rmse: 15112.8\tvalid_1's rmse: 20615.4\n",
      "Fold 5\n",
      "Training until validation scores don't improve for 100 rounds\n",
      "[100]\ttraining's rmse: 19248.5\tvalid_1's rmse: 21203.4\n",
      "[200]\ttraining's rmse: 17642.8\tvalid_1's rmse: 20726.3\n",
      "[300]\ttraining's rmse: 16603.7\tvalid_1's rmse: 20666.6\n",
      "[400]\ttraining's rmse: 15759.9\tvalid_1's rmse: 20599.5\n",
      "[500]\ttraining's rmse: 15014.5\tvalid_1's rmse: 20556.4\n",
      "[600]\ttraining's rmse: 14219.9\tvalid_1's rmse: 20593.5\n",
      "Early stopping, best iteration is:\n",
      "[511]\ttraining's rmse: 14922.6\tvalid_1's rmse: 20543.7\n"
     ]
    }
   ],
   "source": [
    "importances = pd.DataFrame()\n",
    "oof_preds = np.zeros(len(train_df))\n",
    "models = []\n",
    "\n",
    "for fold_i, (trn_idx, val_idx) in enumerate(fold_idx_list):\n",
    "    print(f\"Fold {fold_i+1}\")\n",
    "    train_dataset = lgb.Dataset(\n",
    "        train_df.loc[trn_idx, use_cols],\n",
    "        label = train_df.loc[trn_idx, \"Salary\"]\n",
    "    )\n",
    "    valid_dataset = lgb.Dataset(\n",
    "        train_df.loc[val_idx, use_cols],\n",
    "        label = train_df.loc[val_idx, \"Salary\"]\n",
    "    )\n",
    "    model = lgb.train(\n",
    "                lgb_params,\n",
    "                train_dataset,\n",
    "                3000,\n",
    "                valid_sets = [train_dataset, valid_dataset],\n",
    "                verbose_eval=100,\n",
    "                early_stopping_rounds = 100,\n",
    "                #feval = eval_f1,\n",
    "                #callbacks = [log_callback],\n",
    "    )\n",
    "    imp_df = pd.DataFrame()\n",
    "    imp_df['feature'] = use_cols\n",
    "    imp_df['gain'] = model.feature_importance(importance_type=\"gain\")\n",
    "    importances = pd.concat([importances, imp_df], axis=0, sort=False)\n",
    "    \n",
    "    oof_preds[val_idx] = model.predict(train_df.loc[val_idx, use_cols])\n",
    "    models.append(model)"
   ]
  },
  {
   "cell_type": "code",
   "execution_count": 29,
   "metadata": {},
   "outputs": [
    {
     "data": {
      "text/plain": [
       "20762.84936239294"
      ]
     },
     "execution_count": 29,
     "metadata": {},
     "output_type": "execute_result"
    }
   ],
   "source": [
    "oof_score = np.sqrt(mean_squared_error(train_df[\"Salary\"], oof_preds))\n",
    "oof_score\n",
    "#20824.817522627924\n",
    "#20794.69950160029"
   ]
  },
  {
   "cell_type": "code",
   "execution_count": 23,
   "metadata": {},
   "outputs": [
    {
     "data": {
      "text/html": [
       "<div>\n",
       "<style scoped>\n",
       "    .dataframe tbody tr th:only-of-type {\n",
       "        vertical-align: middle;\n",
       "    }\n",
       "\n",
       "    .dataframe tbody tr th {\n",
       "        vertical-align: top;\n",
       "    }\n",
       "\n",
       "    .dataframe thead th {\n",
       "        text-align: right;\n",
       "    }\n",
       "</style>\n",
       "<table border=\"1\" class=\"dataframe\">\n",
       "  <thead>\n",
       "    <tr style=\"text-align: right;\">\n",
       "      <th></th>\n",
       "      <th>feature</th>\n",
       "      <th>gain</th>\n",
       "    </tr>\n",
       "  </thead>\n",
       "  <tbody>\n",
       "    <tr>\n",
       "      <th>0</th>\n",
       "      <td>te_Country</td>\n",
       "      <td>6.049678e+13</td>\n",
       "    </tr>\n",
       "    <tr>\n",
       "      <th>1</th>\n",
       "      <td>agg_mean_YearsCodingProf_ohe_DevType_Student</td>\n",
       "      <td>2.189739e+13</td>\n",
       "    </tr>\n",
       "    <tr>\n",
       "      <th>2</th>\n",
       "      <td>agg_mean_Country_ohe_EducationTypes_Contribute...</td>\n",
       "      <td>2.165847e+13</td>\n",
       "    </tr>\n",
       "    <tr>\n",
       "      <th>3</th>\n",
       "      <td>te_CurrencySymbol</td>\n",
       "      <td>5.525775e+12</td>\n",
       "    </tr>\n",
       "    <tr>\n",
       "      <th>4</th>\n",
       "      <td>agg_std_YearsCodingProf_ohe_DevType_Student</td>\n",
       "      <td>3.238541e+12</td>\n",
       "    </tr>\n",
       "    <tr>\n",
       "      <th>5</th>\n",
       "      <td>agg_mean_Employment_ohe_DevType_Student</td>\n",
       "      <td>2.642374e+12</td>\n",
       "    </tr>\n",
       "    <tr>\n",
       "      <th>6</th>\n",
       "      <td>te_YearsCodingProf</td>\n",
       "      <td>2.469208e+12</td>\n",
       "    </tr>\n",
       "    <tr>\n",
       "      <th>7</th>\n",
       "      <td>YearsCodingProf</td>\n",
       "      <td>1.639059e+12</td>\n",
       "    </tr>\n",
       "    <tr>\n",
       "      <th>8</th>\n",
       "      <td>diff_agg_mean_CurrencySymbol_ohe_DevType_Student</td>\n",
       "      <td>1.619488e+12</td>\n",
       "    </tr>\n",
       "    <tr>\n",
       "      <th>9</th>\n",
       "      <td>agg_mean_SalaryType_ohe_DevType_Student</td>\n",
       "      <td>1.545916e+12</td>\n",
       "    </tr>\n",
       "    <tr>\n",
       "      <th>10</th>\n",
       "      <td>diff_agg_mean_OperatingSystem_ohe_LanguageWork...</td>\n",
       "      <td>1.448833e+12</td>\n",
       "    </tr>\n",
       "    <tr>\n",
       "      <th>11</th>\n",
       "      <td>agg_mean_Country_ohe_LanguageWorkedWith_PHP</td>\n",
       "      <td>1.434989e+12</td>\n",
       "    </tr>\n",
       "    <tr>\n",
       "      <th>12</th>\n",
       "      <td>diff_agg_mean_CompanySize_ohe_DevType_Engineer...</td>\n",
       "      <td>1.419332e+12</td>\n",
       "    </tr>\n",
       "    <tr>\n",
       "      <th>13</th>\n",
       "      <td>agg_std_Country_ohe_EducationTypes_Contributed...</td>\n",
       "      <td>1.417475e+12</td>\n",
       "    </tr>\n",
       "    <tr>\n",
       "      <th>14</th>\n",
       "      <td>agg_mean_YearsCodingProf_ohe_RaceEthnicity_Whi...</td>\n",
       "      <td>1.338331e+12</td>\n",
       "    </tr>\n",
       "    <tr>\n",
       "      <th>15</th>\n",
       "      <td>agg_std_YearsCoding_ohe_DevType_Student</td>\n",
       "      <td>1.285267e+12</td>\n",
       "    </tr>\n",
       "    <tr>\n",
       "      <th>16</th>\n",
       "      <td>diff_agg_mean_YearsCodingProf_ohe_LanguageWork...</td>\n",
       "      <td>1.243246e+12</td>\n",
       "    </tr>\n",
       "    <tr>\n",
       "      <th>17</th>\n",
       "      <td>agg_mean_SalaryType_ohe_RaceEthnicity_White_or...</td>\n",
       "      <td>1.203905e+12</td>\n",
       "    </tr>\n",
       "    <tr>\n",
       "      <th>18</th>\n",
       "      <td>agg_mean_YearsCoding_ohe_DevType_Student</td>\n",
       "      <td>1.100865e+12</td>\n",
       "    </tr>\n",
       "    <tr>\n",
       "      <th>19</th>\n",
       "      <td>te_Currency</td>\n",
       "      <td>1.091362e+12</td>\n",
       "    </tr>\n",
       "    <tr>\n",
       "      <th>20</th>\n",
       "      <td>diff_agg_mean_Employment_ohe_LanguageWorkedWit...</td>\n",
       "      <td>9.519644e+11</td>\n",
       "    </tr>\n",
       "    <tr>\n",
       "      <th>21</th>\n",
       "      <td>diff_agg_mean_YearsCodingProf_ohe_EducationTyp...</td>\n",
       "      <td>8.644691e+11</td>\n",
       "    </tr>\n",
       "    <tr>\n",
       "      <th>22</th>\n",
       "      <td>agg_std_YearsCodingProf_ohe_RaceEthnicity_Whit...</td>\n",
       "      <td>8.146717e+11</td>\n",
       "    </tr>\n",
       "    <tr>\n",
       "      <th>23</th>\n",
       "      <td>agg_std_Country_ohe_Methodology_Agile</td>\n",
       "      <td>7.375937e+11</td>\n",
       "    </tr>\n",
       "    <tr>\n",
       "      <th>24</th>\n",
       "      <td>agg_mean_Employment_AssessBenefits2</td>\n",
       "      <td>6.897701e+11</td>\n",
       "    </tr>\n",
       "    <tr>\n",
       "      <th>25</th>\n",
       "      <td>te_YearsCoding</td>\n",
       "      <td>6.686928e+11</td>\n",
       "    </tr>\n",
       "    <tr>\n",
       "      <th>26</th>\n",
       "      <td>diff_agg_mean_Country_ohe_DevType_Student</td>\n",
       "      <td>6.445062e+11</td>\n",
       "    </tr>\n",
       "    <tr>\n",
       "      <th>27</th>\n",
       "      <td>agg_std_Currency_AssessJob8</td>\n",
       "      <td>5.891900e+11</td>\n",
       "    </tr>\n",
       "    <tr>\n",
       "      <th>28</th>\n",
       "      <td>diff_agg_mean_Currency_ohe_DevType_Student</td>\n",
       "      <td>5.832798e+11</td>\n",
       "    </tr>\n",
       "    <tr>\n",
       "      <th>29</th>\n",
       "      <td>te_CompanySize</td>\n",
       "      <td>5.631631e+11</td>\n",
       "    </tr>\n",
       "    <tr>\n",
       "      <th>30</th>\n",
       "      <td>agg_mean_CompanySize_AssessBenefits2</td>\n",
       "      <td>5.556940e+11</td>\n",
       "    </tr>\n",
       "    <tr>\n",
       "      <th>31</th>\n",
       "      <td>diff_agg_mean_CompanySize_AssessBenefits2</td>\n",
       "      <td>5.516513e+11</td>\n",
       "    </tr>\n",
       "    <tr>\n",
       "      <th>32</th>\n",
       "      <td>agg_mean_FormalEducation_ohe_DevType_Student</td>\n",
       "      <td>5.391488e+11</td>\n",
       "    </tr>\n",
       "    <tr>\n",
       "      <th>33</th>\n",
       "      <td>Currency</td>\n",
       "      <td>5.269525e+11</td>\n",
       "    </tr>\n",
       "    <tr>\n",
       "      <th>34</th>\n",
       "      <td>agg_std_SalaryType_ohe_RaceEthnicity_White_or_...</td>\n",
       "      <td>5.261392e+11</td>\n",
       "    </tr>\n",
       "    <tr>\n",
       "      <th>35</th>\n",
       "      <td>te_Age</td>\n",
       "      <td>5.078517e+11</td>\n",
       "    </tr>\n",
       "    <tr>\n",
       "      <th>36</th>\n",
       "      <td>agg_std_SalaryType_ohe_DevType_Student</td>\n",
       "      <td>5.037052e+11</td>\n",
       "    </tr>\n",
       "    <tr>\n",
       "      <th>37</th>\n",
       "      <td>ohe_DevType_Student</td>\n",
       "      <td>5.004628e+11</td>\n",
       "    </tr>\n",
       "    <tr>\n",
       "      <th>38</th>\n",
       "      <td>agg_std_Employment_ohe_DevType_Student</td>\n",
       "      <td>4.649537e+11</td>\n",
       "    </tr>\n",
       "    <tr>\n",
       "      <th>39</th>\n",
       "      <td>te_CareerSatisfaction</td>\n",
       "      <td>4.370909e+11</td>\n",
       "    </tr>\n",
       "    <tr>\n",
       "      <th>40</th>\n",
       "      <td>agg_mean_Country_ohe_DevType_Engineering_manager</td>\n",
       "      <td>4.358769e+11</td>\n",
       "    </tr>\n",
       "    <tr>\n",
       "      <th>41</th>\n",
       "      <td>Country</td>\n",
       "      <td>4.333100e+11</td>\n",
       "    </tr>\n",
       "    <tr>\n",
       "      <th>42</th>\n",
       "      <td>diff_agg_mean_Country_ohe_Methodology_Agile</td>\n",
       "      <td>4.049281e+11</td>\n",
       "    </tr>\n",
       "    <tr>\n",
       "      <th>43</th>\n",
       "      <td>agg_mean_Country_AssessJob8</td>\n",
       "      <td>4.002461e+11</td>\n",
       "    </tr>\n",
       "    <tr>\n",
       "      <th>44</th>\n",
       "      <td>agg_std_Country_AssessBenefits2</td>\n",
       "      <td>3.952316e+11</td>\n",
       "    </tr>\n",
       "    <tr>\n",
       "      <th>45</th>\n",
       "      <td>te_sum_answer_Methodology</td>\n",
       "      <td>3.890353e+11</td>\n",
       "    </tr>\n",
       "    <tr>\n",
       "      <th>46</th>\n",
       "      <td>diff_agg_mean_TimeFullyProductive_ohe_Communic...</td>\n",
       "      <td>3.800350e+11</td>\n",
       "    </tr>\n",
       "    <tr>\n",
       "      <th>47</th>\n",
       "      <td>agg_mean_CareerSatisfaction_ohe_DevType_Engine...</td>\n",
       "      <td>3.731063e+11</td>\n",
       "    </tr>\n",
       "    <tr>\n",
       "      <th>48</th>\n",
       "      <td>MilitaryUS</td>\n",
       "      <td>3.634801e+11</td>\n",
       "    </tr>\n",
       "    <tr>\n",
       "      <th>49</th>\n",
       "      <td>diff_agg_mean_Employment_ohe_LanguageDesireNex...</td>\n",
       "      <td>3.590518e+11</td>\n",
       "    </tr>\n",
       "    <tr>\n",
       "      <th>50</th>\n",
       "      <td>agg_mean_CurrencySymbol_ohe_DevType_Engineerin...</td>\n",
       "      <td>3.567334e+11</td>\n",
       "    </tr>\n",
       "    <tr>\n",
       "      <th>51</th>\n",
       "      <td>ohe_LanguageWorkedWith_Go</td>\n",
       "      <td>3.517177e+11</td>\n",
       "    </tr>\n",
       "    <tr>\n",
       "      <th>52</th>\n",
       "      <td>te_sum_answer_CommunicationTools</td>\n",
       "      <td>3.471484e+11</td>\n",
       "    </tr>\n",
       "    <tr>\n",
       "      <th>53</th>\n",
       "      <td>diff_agg_mean_CompanySize_ohe_EducationTypes_C...</td>\n",
       "      <td>3.467738e+11</td>\n",
       "    </tr>\n",
       "    <tr>\n",
       "      <th>54</th>\n",
       "      <td>agg_mean_YearsCoding_ohe_RaceEthnicity_White_o...</td>\n",
       "      <td>3.393757e+11</td>\n",
       "    </tr>\n",
       "    <tr>\n",
       "      <th>55</th>\n",
       "      <td>diff_agg_mean_NumberMonitors_AssessBenefits2</td>\n",
       "      <td>3.379433e+11</td>\n",
       "    </tr>\n",
       "    <tr>\n",
       "      <th>56</th>\n",
       "      <td>te_AssessBenefits2</td>\n",
       "      <td>3.342369e+11</td>\n",
       "    </tr>\n",
       "    <tr>\n",
       "      <th>57</th>\n",
       "      <td>te_HypotheticalTools2</td>\n",
       "      <td>3.335711e+11</td>\n",
       "    </tr>\n",
       "    <tr>\n",
       "      <th>58</th>\n",
       "      <td>agg_std_Employment_AssessBenefits2</td>\n",
       "      <td>3.221111e+11</td>\n",
       "    </tr>\n",
       "    <tr>\n",
       "      <th>59</th>\n",
       "      <td>diff_agg_mean_TimeFullyProductive_AssessBenefits2</td>\n",
       "      <td>3.194114e+11</td>\n",
       "    </tr>\n",
       "    <tr>\n",
       "      <th>60</th>\n",
       "      <td>agg_mean_OperatingSystem_AssessBenefits2</td>\n",
       "      <td>3.090310e+11</td>\n",
       "    </tr>\n",
       "    <tr>\n",
       "      <th>61</th>\n",
       "      <td>agg_mean_Country_ohe_Methodology_Agile</td>\n",
       "      <td>3.030041e+11</td>\n",
       "    </tr>\n",
       "    <tr>\n",
       "      <th>62</th>\n",
       "      <td>agg_mean_Country_ohe_ErgonomicDevices_Standing...</td>\n",
       "      <td>2.935572e+11</td>\n",
       "    </tr>\n",
       "    <tr>\n",
       "      <th>63</th>\n",
       "      <td>agg_mean_Age_ohe_DevType_Student</td>\n",
       "      <td>2.909676e+11</td>\n",
       "    </tr>\n",
       "    <tr>\n",
       "      <th>64</th>\n",
       "      <td>te_LastNewJob</td>\n",
       "      <td>2.849876e+11</td>\n",
       "    </tr>\n",
       "    <tr>\n",
       "      <th>65</th>\n",
       "      <td>diff_agg_mean_CurrencySymbol_AssessBenefits2</td>\n",
       "      <td>2.827197e+11</td>\n",
       "    </tr>\n",
       "    <tr>\n",
       "      <th>66</th>\n",
       "      <td>rel_agg_mean_CurrencySymbol_AssessBenefits2</td>\n",
       "      <td>2.805412e+11</td>\n",
       "    </tr>\n",
       "    <tr>\n",
       "      <th>67</th>\n",
       "      <td>te_EducationParents</td>\n",
       "      <td>2.731414e+11</td>\n",
       "    </tr>\n",
       "    <tr>\n",
       "      <th>68</th>\n",
       "      <td>diff_agg_mean_FormalEducation_AssessBenefits2</td>\n",
       "      <td>2.686808e+11</td>\n",
       "    </tr>\n",
       "    <tr>\n",
       "      <th>69</th>\n",
       "      <td>diff_agg_mean_TimeFullyProductive_ohe_DevType_...</td>\n",
       "      <td>2.676336e+11</td>\n",
       "    </tr>\n",
       "    <tr>\n",
       "      <th>70</th>\n",
       "      <td>agg_mean_CurrencySymbol_ohe_CommunicationTools...</td>\n",
       "      <td>2.674541e+11</td>\n",
       "    </tr>\n",
       "    <tr>\n",
       "      <th>71</th>\n",
       "      <td>diff_agg_mean_ohe_RaceEthnicity_White_or_of_Eu...</td>\n",
       "      <td>2.673896e+11</td>\n",
       "    </tr>\n",
       "    <tr>\n",
       "      <th>72</th>\n",
       "      <td>te_UpdateCV</td>\n",
       "      <td>2.656350e+11</td>\n",
       "    </tr>\n",
       "    <tr>\n",
       "      <th>73</th>\n",
       "      <td>te_Employment</td>\n",
       "      <td>2.653245e+11</td>\n",
       "    </tr>\n",
       "    <tr>\n",
       "      <th>74</th>\n",
       "      <td>te_sum_answer_DatabaseWorkedWith</td>\n",
       "      <td>2.643495e+11</td>\n",
       "    </tr>\n",
       "    <tr>\n",
       "      <th>75</th>\n",
       "      <td>sum_answer_Methodology</td>\n",
       "      <td>2.599571e+11</td>\n",
       "    </tr>\n",
       "    <tr>\n",
       "      <th>76</th>\n",
       "      <td>agg_mean_Country_ohe_CommunicationTools_Jira</td>\n",
       "      <td>2.596175e+11</td>\n",
       "    </tr>\n",
       "    <tr>\n",
       "      <th>77</th>\n",
       "      <td>diff_agg_mean_YearsCoding_ohe_EducationTypes_P...</td>\n",
       "      <td>2.573306e+11</td>\n",
       "    </tr>\n",
       "    <tr>\n",
       "      <th>78</th>\n",
       "      <td>diff_agg_mean_YearsCodingProf_ohe_Communicatio...</td>\n",
       "      <td>2.564342e+11</td>\n",
       "    </tr>\n",
       "    <tr>\n",
       "      <th>79</th>\n",
       "      <td>te_FormalEducation</td>\n",
       "      <td>2.560974e+11</td>\n",
       "    </tr>\n",
       "    <tr>\n",
       "      <th>80</th>\n",
       "      <td>agg_std_CurrencySymbol_ohe_CommunicationTools_...</td>\n",
       "      <td>2.560702e+11</td>\n",
       "    </tr>\n",
       "    <tr>\n",
       "      <th>81</th>\n",
       "      <td>ohe_DatabaseWorkedWith_Redis</td>\n",
       "      <td>2.553357e+11</td>\n",
       "    </tr>\n",
       "    <tr>\n",
       "      <th>82</th>\n",
       "      <td>diff_agg_mean_Age_ohe_DevType_Student</td>\n",
       "      <td>2.457322e+11</td>\n",
       "    </tr>\n",
       "    <tr>\n",
       "      <th>83</th>\n",
       "      <td>sum_answer_DevType</td>\n",
       "      <td>2.447842e+11</td>\n",
       "    </tr>\n",
       "    <tr>\n",
       "      <th>84</th>\n",
       "      <td>agg_mean_SalaryType_AssessBenefits2</td>\n",
       "      <td>2.328552e+11</td>\n",
       "    </tr>\n",
       "    <tr>\n",
       "      <th>85</th>\n",
       "      <td>diff_agg_mean_YearsCoding_ohe_ErgonomicDevices...</td>\n",
       "      <td>2.327263e+11</td>\n",
       "    </tr>\n",
       "    <tr>\n",
       "      <th>86</th>\n",
       "      <td>te_JobEmailPriorities5</td>\n",
       "      <td>2.326295e+11</td>\n",
       "    </tr>\n",
       "    <tr>\n",
       "      <th>87</th>\n",
       "      <td>te_AssessJob6</td>\n",
       "      <td>2.325135e+11</td>\n",
       "    </tr>\n",
       "    <tr>\n",
       "      <th>88</th>\n",
       "      <td>AssessJob10</td>\n",
       "      <td>2.316773e+11</td>\n",
       "    </tr>\n",
       "    <tr>\n",
       "      <th>89</th>\n",
       "      <td>sum_answer_CommunicationTools</td>\n",
       "      <td>2.260863e+11</td>\n",
       "    </tr>\n",
       "    <tr>\n",
       "      <th>90</th>\n",
       "      <td>diff_agg_mean_JobSatisfaction_AssessBenefits2</td>\n",
       "      <td>2.250317e+11</td>\n",
       "    </tr>\n",
       "    <tr>\n",
       "      <th>91</th>\n",
       "      <td>agg_mean_CompanySize_ohe_DevType_Student</td>\n",
       "      <td>2.238962e+11</td>\n",
       "    </tr>\n",
       "    <tr>\n",
       "      <th>92</th>\n",
       "      <td>te_AssessBenefits8</td>\n",
       "      <td>2.232914e+11</td>\n",
       "    </tr>\n",
       "    <tr>\n",
       "      <th>93</th>\n",
       "      <td>te_WakeTime</td>\n",
       "      <td>2.220131e+11</td>\n",
       "    </tr>\n",
       "    <tr>\n",
       "      <th>94</th>\n",
       "      <td>te_AssessJob10</td>\n",
       "      <td>2.188955e+11</td>\n",
       "    </tr>\n",
       "    <tr>\n",
       "      <th>95</th>\n",
       "      <td>diff_agg_mean_YearsCodingProf_ohe_Communicatio...</td>\n",
       "      <td>2.182730e+11</td>\n",
       "    </tr>\n",
       "    <tr>\n",
       "      <th>96</th>\n",
       "      <td>te_JobContactPriorities1</td>\n",
       "      <td>2.175777e+11</td>\n",
       "    </tr>\n",
       "    <tr>\n",
       "      <th>97</th>\n",
       "      <td>rel_agg_mean_UndergradMajor_AssessBenefits2</td>\n",
       "      <td>2.152966e+11</td>\n",
       "    </tr>\n",
       "    <tr>\n",
       "      <th>98</th>\n",
       "      <td>agg_mean_CareerSatisfaction_AssessBenefits2</td>\n",
       "      <td>2.134379e+11</td>\n",
       "    </tr>\n",
       "    <tr>\n",
       "      <th>99</th>\n",
       "      <td>te_AssessJob1</td>\n",
       "      <td>2.126984e+11</td>\n",
       "    </tr>\n",
       "  </tbody>\n",
       "</table>\n",
       "</div>"
      ],
      "text/plain": [
       "                                              feature          gain\n",
       "0                                          te_Country  6.049678e+13\n",
       "1        agg_mean_YearsCodingProf_ohe_DevType_Student  2.189739e+13\n",
       "2   agg_mean_Country_ohe_EducationTypes_Contribute...  2.165847e+13\n",
       "3                                   te_CurrencySymbol  5.525775e+12\n",
       "4         agg_std_YearsCodingProf_ohe_DevType_Student  3.238541e+12\n",
       "5             agg_mean_Employment_ohe_DevType_Student  2.642374e+12\n",
       "6                                  te_YearsCodingProf  2.469208e+12\n",
       "7                                     YearsCodingProf  1.639059e+12\n",
       "8    diff_agg_mean_CurrencySymbol_ohe_DevType_Student  1.619488e+12\n",
       "9             agg_mean_SalaryType_ohe_DevType_Student  1.545916e+12\n",
       "10  diff_agg_mean_OperatingSystem_ohe_LanguageWork...  1.448833e+12\n",
       "11        agg_mean_Country_ohe_LanguageWorkedWith_PHP  1.434989e+12\n",
       "12  diff_agg_mean_CompanySize_ohe_DevType_Engineer...  1.419332e+12\n",
       "13  agg_std_Country_ohe_EducationTypes_Contributed...  1.417475e+12\n",
       "14  agg_mean_YearsCodingProf_ohe_RaceEthnicity_Whi...  1.338331e+12\n",
       "15            agg_std_YearsCoding_ohe_DevType_Student  1.285267e+12\n",
       "16  diff_agg_mean_YearsCodingProf_ohe_LanguageWork...  1.243246e+12\n",
       "17  agg_mean_SalaryType_ohe_RaceEthnicity_White_or...  1.203905e+12\n",
       "18           agg_mean_YearsCoding_ohe_DevType_Student  1.100865e+12\n",
       "19                                        te_Currency  1.091362e+12\n",
       "20  diff_agg_mean_Employment_ohe_LanguageWorkedWit...  9.519644e+11\n",
       "21  diff_agg_mean_YearsCodingProf_ohe_EducationTyp...  8.644691e+11\n",
       "22  agg_std_YearsCodingProf_ohe_RaceEthnicity_Whit...  8.146717e+11\n",
       "23              agg_std_Country_ohe_Methodology_Agile  7.375937e+11\n",
       "24                agg_mean_Employment_AssessBenefits2  6.897701e+11\n",
       "25                                     te_YearsCoding  6.686928e+11\n",
       "26          diff_agg_mean_Country_ohe_DevType_Student  6.445062e+11\n",
       "27                        agg_std_Currency_AssessJob8  5.891900e+11\n",
       "28         diff_agg_mean_Currency_ohe_DevType_Student  5.832798e+11\n",
       "29                                     te_CompanySize  5.631631e+11\n",
       "30               agg_mean_CompanySize_AssessBenefits2  5.556940e+11\n",
       "31          diff_agg_mean_CompanySize_AssessBenefits2  5.516513e+11\n",
       "32       agg_mean_FormalEducation_ohe_DevType_Student  5.391488e+11\n",
       "33                                           Currency  5.269525e+11\n",
       "34  agg_std_SalaryType_ohe_RaceEthnicity_White_or_...  5.261392e+11\n",
       "35                                             te_Age  5.078517e+11\n",
       "36             agg_std_SalaryType_ohe_DevType_Student  5.037052e+11\n",
       "37                                ohe_DevType_Student  5.004628e+11\n",
       "38             agg_std_Employment_ohe_DevType_Student  4.649537e+11\n",
       "39                              te_CareerSatisfaction  4.370909e+11\n",
       "40   agg_mean_Country_ohe_DevType_Engineering_manager  4.358769e+11\n",
       "41                                            Country  4.333100e+11\n",
       "42        diff_agg_mean_Country_ohe_Methodology_Agile  4.049281e+11\n",
       "43                        agg_mean_Country_AssessJob8  4.002461e+11\n",
       "44                    agg_std_Country_AssessBenefits2  3.952316e+11\n",
       "45                          te_sum_answer_Methodology  3.890353e+11\n",
       "46  diff_agg_mean_TimeFullyProductive_ohe_Communic...  3.800350e+11\n",
       "47  agg_mean_CareerSatisfaction_ohe_DevType_Engine...  3.731063e+11\n",
       "48                                         MilitaryUS  3.634801e+11\n",
       "49  diff_agg_mean_Employment_ohe_LanguageDesireNex...  3.590518e+11\n",
       "50  agg_mean_CurrencySymbol_ohe_DevType_Engineerin...  3.567334e+11\n",
       "51                          ohe_LanguageWorkedWith_Go  3.517177e+11\n",
       "52                   te_sum_answer_CommunicationTools  3.471484e+11\n",
       "53  diff_agg_mean_CompanySize_ohe_EducationTypes_C...  3.467738e+11\n",
       "54  agg_mean_YearsCoding_ohe_RaceEthnicity_White_o...  3.393757e+11\n",
       "55       diff_agg_mean_NumberMonitors_AssessBenefits2  3.379433e+11\n",
       "56                                 te_AssessBenefits2  3.342369e+11\n",
       "57                              te_HypotheticalTools2  3.335711e+11\n",
       "58                 agg_std_Employment_AssessBenefits2  3.221111e+11\n",
       "59  diff_agg_mean_TimeFullyProductive_AssessBenefits2  3.194114e+11\n",
       "60           agg_mean_OperatingSystem_AssessBenefits2  3.090310e+11\n",
       "61             agg_mean_Country_ohe_Methodology_Agile  3.030041e+11\n",
       "62  agg_mean_Country_ohe_ErgonomicDevices_Standing...  2.935572e+11\n",
       "63                   agg_mean_Age_ohe_DevType_Student  2.909676e+11\n",
       "64                                      te_LastNewJob  2.849876e+11\n",
       "65       diff_agg_mean_CurrencySymbol_AssessBenefits2  2.827197e+11\n",
       "66        rel_agg_mean_CurrencySymbol_AssessBenefits2  2.805412e+11\n",
       "67                                te_EducationParents  2.731414e+11\n",
       "68      diff_agg_mean_FormalEducation_AssessBenefits2  2.686808e+11\n",
       "69  diff_agg_mean_TimeFullyProductive_ohe_DevType_...  2.676336e+11\n",
       "70  agg_mean_CurrencySymbol_ohe_CommunicationTools...  2.674541e+11\n",
       "71  diff_agg_mean_ohe_RaceEthnicity_White_or_of_Eu...  2.673896e+11\n",
       "72                                        te_UpdateCV  2.656350e+11\n",
       "73                                      te_Employment  2.653245e+11\n",
       "74                   te_sum_answer_DatabaseWorkedWith  2.643495e+11\n",
       "75                             sum_answer_Methodology  2.599571e+11\n",
       "76       agg_mean_Country_ohe_CommunicationTools_Jira  2.596175e+11\n",
       "77  diff_agg_mean_YearsCoding_ohe_EducationTypes_P...  2.573306e+11\n",
       "78  diff_agg_mean_YearsCodingProf_ohe_Communicatio...  2.564342e+11\n",
       "79                                 te_FormalEducation  2.560974e+11\n",
       "80  agg_std_CurrencySymbol_ohe_CommunicationTools_...  2.560702e+11\n",
       "81                       ohe_DatabaseWorkedWith_Redis  2.553357e+11\n",
       "82              diff_agg_mean_Age_ohe_DevType_Student  2.457322e+11\n",
       "83                                 sum_answer_DevType  2.447842e+11\n",
       "84                agg_mean_SalaryType_AssessBenefits2  2.328552e+11\n",
       "85  diff_agg_mean_YearsCoding_ohe_ErgonomicDevices...  2.327263e+11\n",
       "86                             te_JobEmailPriorities5  2.326295e+11\n",
       "87                                      te_AssessJob6  2.325135e+11\n",
       "88                                        AssessJob10  2.316773e+11\n",
       "89                      sum_answer_CommunicationTools  2.260863e+11\n",
       "90      diff_agg_mean_JobSatisfaction_AssessBenefits2  2.250317e+11\n",
       "91           agg_mean_CompanySize_ohe_DevType_Student  2.238962e+11\n",
       "92                                 te_AssessBenefits8  2.232914e+11\n",
       "93                                        te_WakeTime  2.220131e+11\n",
       "94                                     te_AssessJob10  2.188955e+11\n",
       "95  diff_agg_mean_YearsCodingProf_ohe_Communicatio...  2.182730e+11\n",
       "96                           te_JobContactPriorities1  2.175777e+11\n",
       "97        rel_agg_mean_UndergradMajor_AssessBenefits2  2.152966e+11\n",
       "98        agg_mean_CareerSatisfaction_AssessBenefits2  2.134379e+11\n",
       "99                                      te_AssessJob1  2.126984e+11"
      ]
     },
     "execution_count": 23,
     "metadata": {},
     "output_type": "execute_result"
    }
   ],
   "source": [
    "importances.groupby(\"feature\")[\"gain\"].mean().sort_values(ascending=False).reset_index().iloc[:100]"
   ]
  },
  {
   "cell_type": "code",
   "execution_count": 24,
   "metadata": {},
   "outputs": [],
   "source": [
    "test_pred = np.zeros(len(test_df))\n",
    "\n",
    "for model in models:\n",
    "    test_pred += model.predict(test_df[use_cols]) / len(models)"
   ]
  },
  {
   "cell_type": "code",
   "execution_count": 30,
   "metadata": {},
   "outputs": [
    {
     "data": {
      "text/plain": [
       "array([ 69275.48529439,  91795.63766612,  86049.23054877, ...,\n",
       "        92284.44440694,  82531.64826975, 111463.9403621 ])"
      ]
     },
     "execution_count": 30,
     "metadata": {},
     "output_type": "execute_result"
    }
   ],
   "source": [
    "test_pred"
   ]
  },
  {
   "cell_type": "code",
   "execution_count": 31,
   "metadata": {},
   "outputs": [],
   "source": [
    "sub_df = pd.read_csv(\"../input/submit.csv\")"
   ]
  },
  {
   "cell_type": "code",
   "execution_count": 32,
   "metadata": {},
   "outputs": [],
   "source": [
    "sub_df[\"Salary\"] = test_pred"
   ]
  },
  {
   "cell_type": "code",
   "execution_count": 33,
   "metadata": {},
   "outputs": [],
   "source": [
    "sub_df.to_csv(\"../predict/009_add_aggregate_20762.csv\", index=False)"
   ]
  },
  {
   "cell_type": "code",
   "execution_count": null,
   "metadata": {},
   "outputs": [],
   "source": []
  }
 ],
 "metadata": {
  "kernelspec": {
   "display_name": "Python 3.8.2 64-bit ('3.8.2': pyenv)",
   "language": "python",
   "name": "python38264bit382pyenv0bf26b16ab884472b54c5411cc1e5c03"
  },
  "language_info": {
   "codemirror_mode": {
    "name": "ipython",
    "version": 3
   },
   "file_extension": ".py",
   "mimetype": "text/x-python",
   "name": "python",
   "nbconvert_exporter": "python",
   "pygments_lexer": "ipython3",
   "version": "3.8.2"
  },
  "toc": {
   "base_numbering": 1,
   "nav_menu": {},
   "number_sections": true,
   "sideBar": true,
   "skip_h1_title": false,
   "title_cell": "Table of Contents",
   "title_sidebar": "Contents",
   "toc_cell": false,
   "toc_position": {},
   "toc_section_display": true,
   "toc_window_display": false
  }
 },
 "nbformat": 4,
 "nbformat_minor": 4
}
