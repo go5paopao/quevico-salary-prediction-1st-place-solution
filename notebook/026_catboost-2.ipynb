{
 "cells": [
  {
   "cell_type": "markdown",
   "metadata": {},
   "source": [
    "## Prepare and read data"
   ]
  },
  {
   "cell_type": "code",
   "execution_count": 1,
   "metadata": {},
   "outputs": [],
   "source": [
    "import gc\n",
    "import itertools\n",
    "from pathlib import Path\n",
    "from tqdm.auto import tqdm\n",
    "import pandas as pd\n",
    "import numpy as np\n",
    "import lightgbm as lgb\n",
    "from catboost import CatBoostRegressor\n",
    "\n",
    "from sklearn.preprocessing import MultiLabelBinarizer\n",
    "from sklearn.model_selection import StratifiedKFold, KFold\n",
    "from sklearn.metrics import mean_squared_error\n",
    "from sklearn.decomposition import TruncatedSVD"
   ]
  },
  {
   "cell_type": "code",
   "execution_count": 2,
   "metadata": {},
   "outputs": [],
   "source": [
    "pd.set_option(\"max_columns\", 300)\n",
    "pd.set_option(\"max_rows\", 500)"
   ]
  },
  {
   "cell_type": "code",
   "execution_count": 3,
   "metadata": {},
   "outputs": [],
   "source": [
    "train_df = pd.read_csv(\"../input/train.csv\")\n",
    "test_df = pd.read_csv(\"../input/test.csv\")"
   ]
  },
  {
   "cell_type": "code",
   "execution_count": 4,
   "metadata": {},
   "outputs": [],
   "source": [
    "def feature_cache(reset=False):\n",
    "    def _feature_cache(func):\n",
    "        def wrapper(train_df, test_df, *args):\n",
    "            func_name = func.__name__\n",
    "            train_feat_path = Path(\"../feature\") / f\"train_{func_name}.pkl\"\n",
    "            test_feat_path = Path(\"../feature\") / f\"test_{func_name}.pkl\"\n",
    "            # if feature exists, load feature\n",
    "            if train_feat_path.exists() and test_feat_path.exists() and not reset:\n",
    "                train_feats = pd.read_pickle(train_feat_path).reset_index(drop=True)\n",
    "                test_feats = pd.read_pickle(test_feat_path).reset_index(drop=True)\n",
    "                train_df = pd.concat([train_df, train_feats], axis=1)\n",
    "                test_df = pd.concat([test_df, test_feats], axis=1)\n",
    "            # if not exists, make feature and save as pickle\n",
    "            else:\n",
    "                before_cols = train_df.columns.tolist()\n",
    "                train_df, test_df = func(train_df, test_df, *args)\n",
    "                after_cols = train_df.columns.tolist()\n",
    "                new_cols = [c for c in after_cols if c not in before_cols]\n",
    "                train_feats = train_df[new_cols]\n",
    "                test_feats = test_df[new_cols]\n",
    "                train_feats.to_pickle(train_feat_path)\n",
    "                test_feats.to_pickle(test_feat_path)            \n",
    "            return train_df, test_df\n",
    "        return wrapper\n",
    "\n",
    "    return _feature_cache"
   ]
  },
  {
   "cell_type": "markdown",
   "metadata": {},
   "source": [
    "## Feature Engineering"
   ]
  },
  {
   "cell_type": "code",
   "execution_count": 5,
   "metadata": {},
   "outputs": [],
   "source": [
    "def get_multi_cat_cols(train_df):\n",
    "    tmp = train_df.iloc[:1000]\n",
    "    multi_cols = []\n",
    "    for c in train_df.columns:\n",
    "        sep_num = tmp[c].astype(str).fillna(\"\").str.contains(\";\").sum()\n",
    "        if sep_num > 10:\n",
    "            multi_cols.append(c)\n",
    "    return multi_cols"
   ]
  },
  {
   "cell_type": "code",
   "execution_count": 6,
   "metadata": {},
   "outputs": [],
   "source": [
    "original_cols = train_df.columns.tolist()"
   ]
  },
  {
   "cell_type": "code",
   "execution_count": 7,
   "metadata": {},
   "outputs": [],
   "source": [
    "multi_cat_cols = get_multi_cat_cols(train_df)"
   ]
  },
  {
   "cell_type": "code",
   "execution_count": 8,
   "metadata": {},
   "outputs": [],
   "source": [
    "nume_cols = [\n",
    "    c for c in list(np.setdiff1d(original_cols, multi_cat_cols))\n",
    "    if c not in [\"Salary\", \"No\"] and \"float\" in train_df[c].dtype.name\n",
    "]"
   ]
  },
  {
   "cell_type": "code",
   "execution_count": 9,
   "metadata": {},
   "outputs": [],
   "source": [
    "cat_cols = [c for c in train_df.columns if c not in multi_cat_cols + nume_cols + [\"Salary\", \"No\"]]"
   ]
  },
  {
   "cell_type": "code",
   "execution_count": 10,
   "metadata": {},
   "outputs": [],
   "source": [
    "non_basic_nume_cols = []\n",
    "non_basic_cat_cols = []"
   ]
  },
  {
   "cell_type": "code",
   "execution_count": 11,
   "metadata": {},
   "outputs": [
    {
     "data": {
      "text/plain": [
       "(128, 65, 40, 21)"
      ]
     },
     "execution_count": 11,
     "metadata": {},
     "output_type": "execute_result"
    }
   ],
   "source": [
    "len(original_cols), len(cat_cols), len(nume_cols), len(multi_cat_cols)"
   ]
  },
  {
   "cell_type": "markdown",
   "metadata": {},
   "source": [
    "### rank feature"
   ]
  },
  {
   "cell_type": "code",
   "execution_count": 12,
   "metadata": {},
   "outputs": [],
   "source": [
    "def add_rank_feature(df):\n",
    "    rank_prefix_list = [\n",
    "        \"AssessBenefits\",\n",
    "        \"AssessJob\",\n",
    "        \"JobContactPriorities\",\n",
    "        \"JobEmailPriorities\",\n",
    "        \"AdsPriorities\",\n",
    "    ]\n",
    "    for prefix in tqdm(rank_prefix_list):\n",
    "        rank_cols = [c for c in df.columns if prefix in c]\n",
    "        col_pairs = itertools.combinations(rank_cols, 2)\n",
    "        for col_a, col_b in col_pairs:\n",
    "            df[f\"rank_diff_{prefix}_{col_a}_{col_b}\"] = (df[col_a] - df[col_b]) / np.log2(df[[col_a, col_b]].max(axis=1))\n",
    "    return df"
   ]
  },
  {
   "cell_type": "code",
   "execution_count": 13,
   "metadata": {},
   "outputs": [
    {
     "data": {
      "application/vnd.jupyter.widget-view+json": {
       "model_id": "aec06a1806ac492295e0f22fec71d870",
       "version_major": 2,
       "version_minor": 0
      },
      "text/plain": [
       "HBox(children=(FloatProgress(value=0.0, max=5.0), HTML(value='')))"
      ]
     },
     "metadata": {},
     "output_type": "display_data"
    },
    {
     "name": "stdout",
     "output_type": "stream",
     "text": [
      "\n"
     ]
    },
    {
     "data": {
      "application/vnd.jupyter.widget-view+json": {
       "model_id": "17c463bd93bf495188d585a19a7e827a",
       "version_major": 2,
       "version_minor": 0
      },
      "text/plain": [
       "HBox(children=(FloatProgress(value=0.0, max=5.0), HTML(value='')))"
      ]
     },
     "metadata": {},
     "output_type": "display_data"
    },
    {
     "name": "stdout",
     "output_type": "stream",
     "text": [
      "\n"
     ]
    }
   ],
   "source": [
    "train_df = add_rank_feature(train_df)\n",
    "test_df = add_rank_feature(test_df)"
   ]
  },
  {
   "cell_type": "markdown",
   "metadata": {},
   "source": [
    "### Multi-category encoding"
   ]
  },
  {
   "cell_type": "code",
   "execution_count": 14,
   "metadata": {},
   "outputs": [
    {
     "data": {
      "application/vnd.jupyter.widget-view+json": {
       "model_id": "c9c7a220bd004769880c6c1c67c37d65",
       "version_major": 2,
       "version_minor": 0
      },
      "text/plain": [
       "HBox(children=(FloatProgress(value=0.0, max=21.0), HTML(value='')))"
      ]
     },
     "metadata": {},
     "output_type": "display_data"
    },
    {
     "name": "stdout",
     "output_type": "stream",
     "text": [
      "\n"
     ]
    }
   ],
   "source": [
    "for c in tqdm(multi_cat_cols):\n",
    "    binarizer = MultiLabelBinarizer()\n",
    "    train_multi_srs = train_df[c].map(lambda x: x.split(\";\") if x is not np.nan else [])\n",
    "    test_multi_srs = test_df[c].map(lambda x: x.split(\";\") if x is not np.nan else [])\n",
    "    train_arr = binarizer.fit_transform(train_multi_srs)\n",
    "    test_arr = binarizer.transform(test_multi_srs)\n",
    "    feat_cols = [f\"ohe_{c}_{val}\" for val in binarizer.classes_]\n",
    "    train_feat_df = pd.DataFrame(train_arr, columns=feat_cols, dtype=np.int8)\n",
    "    test_feat_df = pd.DataFrame(test_arr, columns=feat_cols, dtype=np.int8)\n",
    "    all_feat_df = pd.concat([train_feat_df, test_feat_df], axis=0, ignore_index=True)\n",
    "    train_feat_df[f\"sum_answer_{c}\"] = (train_df[c].str.count(\";\") + 1).fillna(-1).astype(np.int8)\n",
    "    test_feat_df[f\"sum_answer_{c}\"] = (test_df[c].str.count(\";\") + 1).fillna(-1).astype(np.int8)\n",
    "    train_df = pd.concat([train_df, train_feat_df], axis=1)\n",
    "    test_df = pd.concat([test_df, test_feat_df], axis=1)\n",
    "    # ohe_featureはcategoryとnumerical両方として扱う\n",
    "    nume_cols += feat_cols\n",
    "    cat_cols += feat_cols\n",
    "    # non_basic_nume_cols.append(f\"sum_answer_{c}\")\n",
    "    # SVD\n",
    "    svd = TruncatedSVD(n_components=2, random_state=2020)\n",
    "    all_svd_feats = pd.DataFrame(svd.fit_transform(all_feat_df), columns=[f\"svd_{c}_{ix}\" for ix in range(2)])\n",
    "    train_df = pd.concat([train_df, all_svd_feats.iloc[:len(train_df)]], axis=1)\n",
    "    test_df = pd.concat([test_df, all_svd_feats.iloc[len(train_df):].reset_index(drop=True)], axis=1)"
   ]
  },
  {
   "cell_type": "markdown",
   "metadata": {},
   "source": [
    "### Simple-category encoding"
   ]
  },
  {
   "cell_type": "code",
   "execution_count": 15,
   "metadata": {},
   "outputs": [],
   "source": [
    "for c in cat_cols:\n",
    "    train_df[c], uniques = pd.factorize(train_df[c], sort=True)\n",
    "    test_df[c] = uniques.get_indexer(test_df[c])"
   ]
  },
  {
   "cell_type": "markdown",
   "metadata": {},
   "source": [
    "### Reduce data memory"
   ]
  },
  {
   "cell_type": "code",
   "execution_count": 16,
   "metadata": {},
   "outputs": [],
   "source": [
    "for c in nume_cols:\n",
    "    if train_df[c].nunique() > 1000:\n",
    "        train_df[c] = train_df[c].astype(np.float32)\n",
    "        test_df[c] = test_df[c].astype(np.float32)\n",
    "    else:\n",
    "        train_df[c] = train_df[c].astype(np.float16)\n",
    "        test_df[c] = test_df[c].astype(np.float16)"
   ]
  },
  {
   "cell_type": "code",
   "execution_count": 17,
   "metadata": {},
   "outputs": [],
   "source": [
    "for c in cat_cols:\n",
    "    if train_df[c].max() > 32767:\n",
    "        train_df[c] = train_df[c].astype(np.int32)\n",
    "        test_df[c] = test_df[c].astype(np.int32)\n",
    "    else:\n",
    "        train_df[c] = train_df[c].astype(np.int16)\n",
    "        test_df[c] = test_df[c].astype(np.int16)            "
   ]
  },
  {
   "cell_type": "code",
   "execution_count": 18,
   "metadata": {},
   "outputs": [
    {
     "data": {
      "text/plain": [
       "((33857, 659), (11259, 658))"
      ]
     },
     "execution_count": 18,
     "metadata": {},
     "output_type": "execute_result"
    }
   ],
   "source": [
    "train_df.shape, test_df.shape"
   ]
  },
  {
   "cell_type": "markdown",
   "metadata": {},
   "source": [
    "### Change Category Name"
   ]
  },
  {
   "cell_type": "code",
   "execution_count": 19,
   "metadata": {},
   "outputs": [],
   "source": [
    "train_df.columns = [\"\".join (c if c.isalnum() else \"_\" for c in str(x)) for x in train_df.columns]\n",
    "test_df.columns = [\"\".join (c if c.isalnum() else \"_\" for c in str(x)) for x in test_df.columns]"
   ]
  },
  {
   "cell_type": "markdown",
   "metadata": {},
   "source": [
    "### Aggregation"
   ]
  },
  {
   "cell_type": "code",
   "execution_count": 20,
   "metadata": {},
   "outputs": [],
   "source": [
    "def get_basic_importance_cols(use_num=50):\n",
    "    # basicなモデルのimportanceを読み込み\n",
    "    importance_df = pd.read_csv(\"../data/importance/003_importance.csv\")\n",
    "    imp_feats = importance_df[\"feature\"].iloc[:use_num].tolist()\n",
    "    return imp_feats"
   ]
  },
  {
   "cell_type": "code",
   "execution_count": 21,
   "metadata": {},
   "outputs": [],
   "source": [
    "def make_agg_feature(train_df, test_df):\n",
    "    imp_feats = get_basic_importance_cols(use_num=50)\n",
    "    imp_cat_cols = [c for c in cat_cols if c in imp_feats] + non_basic_cat_cols\n",
    "    imp_nume_cols = [c for c in nume_cols if c in imp_feats] + non_basic_nume_cols\n",
    "    print(f\"use cat col: {len(imp_cat_cols)}  nume col: {len(imp_nume_cols)}\")\n",
    "    #imp_nume_cols += [c for c in train_df.columns if c[:8] == \"sum_answ\"]\n",
    "    all_df = pd.concat([train_df, test_df], axis=0, ignore_index=True)\n",
    "    for cat_col in tqdm(imp_cat_cols):\n",
    "        for nume_col in imp_nume_cols:\n",
    "            # one-hotは同じカテゴリの場合がある\n",
    "            if cat_col == nume_col:\n",
    "                continue\n",
    "            all_df[f\"agg_mean_{cat_col}_{nume_col}\"] = \\\n",
    "                all_df.groupby(cat_col)[nume_col].transform(\"mean\").astype(np.float32)\n",
    "            all_df[f\"agg_std_{cat_col}_{nume_col}\"] = \\\n",
    "                all_df.groupby(cat_col)[nume_col].transform(\"std\").astype(np.float32)\n",
    "            all_df[f\"agg_max_{cat_col}_{nume_col}\"] = \\\n",
    "                all_df.groupby(cat_col)[nume_col].transform(\"max\").astype(np.float32)\n",
    "            all_df[f\"agg_min_{cat_col}_{nume_col}\"] = \\\n",
    "                all_df.groupby(cat_col)[nume_col].transform(\"min\").astype(np.float32)\n",
    "            all_df[f\"diff_agg_mean_{cat_col}_{nume_col}\"] = \\\n",
    "                all_df[nume_col] - all_df[f\"agg_mean_{cat_col}_{nume_col}\"]\n",
    "            all_df[f\"rel_agg_mean_{cat_col}_{nume_col}\"] = \\\n",
    "                all_df[nume_col] / (1 + all_df[f\"agg_mean_{cat_col}_{nume_col}\"])\n",
    "    train_df = all_df.iloc[:len(train_df)].reset_index(drop=True)\n",
    "    test_df = all_df.iloc[len(train_df):].reset_index(drop=True)\n",
    "    del all_df\n",
    "    gc.collect()\n",
    "    return train_df, test_df"
   ]
  },
  {
   "cell_type": "code",
   "execution_count": 22,
   "metadata": {},
   "outputs": [
    {
     "name": "stdout",
     "output_type": "stream",
     "text": [
      "use cat col: 27  nume col: 10\n"
     ]
    },
    {
     "data": {
      "application/vnd.jupyter.widget-view+json": {
       "model_id": "ba269e811d9149baa412a91d0f35b627",
       "version_major": 2,
       "version_minor": 0
      },
      "text/plain": [
       "HBox(children=(FloatProgress(value=0.0, max=27.0), HTML(value='')))"
      ]
     },
     "metadata": {},
     "output_type": "display_data"
    },
    {
     "name": "stdout",
     "output_type": "stream",
     "text": [
      "\n"
     ]
    }
   ],
   "source": [
    "train_df, test_df = make_agg_feature(train_df, test_df)"
   ]
  },
  {
   "cell_type": "markdown",
   "metadata": {},
   "source": [
    "### Make fold index(for target encoding)"
   ]
  },
  {
   "cell_type": "code",
   "execution_count": 23,
   "metadata": {},
   "outputs": [],
   "source": [
    "folds = KFold(n_splits=5, random_state=2020, shuffle=True)\n",
    "fold_idx_list = [(trn_idx, val_idx) for trn_idx, val_idx in folds.split(train_df, train_df[\"Salary\"])]"
   ]
  },
  {
   "cell_type": "markdown",
   "metadata": {},
   "source": [
    "### Target Encoding"
   ]
  },
  {
   "cell_type": "code",
   "execution_count": 24,
   "metadata": {},
   "outputs": [],
   "source": [
    "@feature_cache(reset=False)\n",
    "def target_encoding(train_df, test_df):\n",
    "    te_cols = [c for c in train_df.columns if c in cat_cols]\n",
    "    for c in tqdm(te_cols):\n",
    "        new_col = \"te_\" + c\n",
    "        train_df[new_col] = 0\n",
    "        test_df[new_col] = 0\n",
    "        for trn_idx, val_idx in fold_idx_list:\n",
    "            mean_val = train_df.loc[trn_idx].groupby(c)[\"Salary\"].mean().astype(np.float32)\n",
    "            train_df.loc[val_idx, new_col] = train_df.loc[val_idx, c].map(mean_val)\n",
    "            test_df.loc[:, new_col] += test_df.loc[:, c].map(mean_val) / len(fold_idx_list)\n",
    "        train_df[new_col] = train_df[new_col].astype(np.float32)\n",
    "        test_df[new_col] = test_df[new_col].astype(np.float32)\n",
    "    return train_df, test_df"
   ]
  },
  {
   "cell_type": "code",
   "execution_count": 25,
   "metadata": {},
   "outputs": [],
   "source": [
    "# train_df, test_df = target_encoding(train_df, test_df)"
   ]
  },
  {
   "cell_type": "code",
   "execution_count": 26,
   "metadata": {},
   "outputs": [],
   "source": [
    "@feature_cache(reset=False)\n",
    "def multiple_target_encoding(train_df, test_df):\n",
    "     # multiple target encoding\n",
    "    multi_te_cols = [c for c in train_df.columns if c in cat_cols or c[:4] == \"ohe_\"]\n",
    "    imp_feats = get_basic_importance_cols(use_num=30)\n",
    "    multi_te_cols = [c for c in multi_te_cols if c in imp_feats]\n",
    "    combi_multi_te_cols = list(itertools.combinations(multi_te_cols, 2))   \n",
    "\n",
    "    for col_a, col_b in tqdm(combi_multi_te_cols):\n",
    "        new_col = \"te_\" + col_a + \"__\" + col_b\n",
    "        train_df[new_col] = 0\n",
    "        test_df[new_col] = 0\n",
    "        train_df[\"tmp\"] = train_df[col_a].fillna(\"\").astype(str) + train_df[col_b].fillna(\"\").astype(str)\n",
    "        test_df[\"tmp\"] = test_df[col_a].fillna(\"\").astype(str) + test_df[col_b].fillna(\"\").astype(str)\n",
    "        for trn_idx, val_idx in fold_idx_list:\n",
    "            mean_val = train_df.loc[trn_idx].groupby(\"tmp\")[\"Salary\"].mean().astype(np.float32)\n",
    "            train_df.loc[val_idx, new_col] = train_df.loc[val_idx, \"tmp\"].map(mean_val)\n",
    "            test_df.loc[:, new_col] += test_df.loc[:, \"tmp\"].map(mean_val) / len(fold_idx_list)\n",
    "        train_df[new_col] = train_df[new_col].astype(np.float32)\n",
    "        test_df[new_col] = test_df[new_col].astype(np.float32)\n",
    "        del train_df[\"tmp\"], test_df[\"tmp\"]\n",
    "        gc.collect()\n",
    "    return train_df, test_df"
   ]
  },
  {
   "cell_type": "code",
   "execution_count": 27,
   "metadata": {},
   "outputs": [],
   "source": [
    "@feature_cache(reset=True)\n",
    "def multiple_cat_encoding(train_df, test_df):\n",
    "     # multiple cat encoding\n",
    "    multi_te_cols = [c for c in train_df.columns if c in cat_cols or c[:4] == \"ohe_\"]\n",
    "    imp_feats = get_basic_importance_cols(use_num=30)\n",
    "    multi_te_cols = [c for c in multi_te_cols if c in imp_feats]\n",
    "    combi_multi_te_cols = list(itertools.combinations(multi_te_cols, 2))   \n",
    "\n",
    "    for col_a, col_b in tqdm(combi_multi_te_cols):\n",
    "        new_col = \"multi_cat_\" + col_a + \"__\" + col_b\n",
    "        train_df[new_col] = train_df[col_a].fillna(\"\").astype(str) + train_df[col_b].fillna(\"\").astype(str)\n",
    "        test_df[new_col] = test_df[col_a].fillna(\"\").astype(str) + test_df[col_b].fillna(\"\").astype(str)\n",
    "        train_df[new_col], uniques = pd.factorize(train_df[new_col]) \n",
    "        test_df[new_col] = uniques.get_indexer(test_df[new_col])\n",
    "        cat_cols.append(new_col)\n",
    "    return train_df, test_df"
   ]
  },
  {
   "cell_type": "code",
   "execution_count": 28,
   "metadata": {},
   "outputs": [],
   "source": [
    "@feature_cache(reset=True)\n",
    "def triple_cat_encoding(train_df, test_df):\n",
    "    triple_te_cols = [c for c in train_df.columns if c in cat_cols or c[:4] == \"ohe_\"]\n",
    "    imp_feats = get_basic_importance_cols(use_num=30)\n",
    "    triple_te_cols = [c for c in triple_te_cols if c in imp_feats]\n",
    "    combi_triple_te_cols = list(itertools.combinations(triple_te_cols, 3))   \n",
    "\n",
    "    for col_a, col_b, col_c in tqdm(combi_triple_te_cols):\n",
    "        new_col = \"triple_cat_\" + col_a + \"__\" + col_b + \"__\" + col_c\n",
    "        train_df[new_col] = \\\n",
    "            train_df[col_a].fillna(\"\").astype(str) + train_df[col_b].fillna(\"\").astype(str) + train_df[col_c].fillna(\"\").astype(str)\n",
    "        test_df[new_col] = \\\n",
    "            test_df[col_a].fillna(\"\").astype(str) + test_df[col_b].fillna(\"\").astype(str)+ test_df[col_c].fillna(\"\").astype(str)\n",
    "        train_df[new_col], uniques = pd.factorize(train_df[new_col]) \n",
    "        test_df[new_col] = uniques.get_indexer(test_df[new_col])\n",
    "        cat_cols.append(new_col)\n",
    "    return train_df, test_df"
   ]
  },
  {
   "cell_type": "code",
   "execution_count": 29,
   "metadata": {},
   "outputs": [],
   "source": [
    "# train_df, test_df = multiple_target_encoding(train_df, test_df)"
   ]
  },
  {
   "cell_type": "code",
   "execution_count": 30,
   "metadata": {},
   "outputs": [
    {
     "data": {
      "application/vnd.jupyter.widget-view+json": {
       "model_id": "c347f4907f4f45c785cb0ca050ba33a0",
       "version_major": 2,
       "version_minor": 0
      },
      "text/plain": [
       "HBox(children=(FloatProgress(value=0.0, max=210.0), HTML(value='')))"
      ]
     },
     "metadata": {},
     "output_type": "display_data"
    },
    {
     "name": "stdout",
     "output_type": "stream",
     "text": [
      "\n"
     ]
    }
   ],
   "source": [
    "train_df, test_df = multiple_cat_encoding(train_df, test_df)"
   ]
  },
  {
   "cell_type": "code",
   "execution_count": 31,
   "metadata": {},
   "outputs": [
    {
     "data": {
      "application/vnd.jupyter.widget-view+json": {
       "model_id": "ff55d70ee10646e3bead2122475ffc89",
       "version_major": 2,
       "version_minor": 0
      },
      "text/plain": [
       "HBox(children=(FloatProgress(value=0.0, max=1330.0), HTML(value='')))"
      ]
     },
     "metadata": {},
     "output_type": "display_data"
    },
    {
     "name": "stdout",
     "output_type": "stream",
     "text": [
      "\n"
     ]
    }
   ],
   "source": [
    "train_df, test_df = triple_cat_encoding(train_df, test_df)"
   ]
  },
  {
   "cell_type": "code",
   "execution_count": 32,
   "metadata": {},
   "outputs": [
    {
     "name": "stdout",
     "output_type": "stream",
     "text": [
      "3760\n"
     ]
    }
   ],
   "source": [
    "use_cols = [c for c in train_df.columns if c not in multi_cat_cols + [\"Salary\", \"No\"]]\n",
    "print(len(use_cols))"
   ]
  },
  {
   "cell_type": "markdown",
   "metadata": {},
   "source": [
    "## Training"
   ]
  },
  {
   "cell_type": "code",
   "execution_count": 33,
   "metadata": {},
   "outputs": [],
   "source": [
    "lgb_params = {\n",
    "            'objective': 'poisson',\n",
    "            \"metric\": \"rmse\",\n",
    "            \"verbosity\": -1,\n",
    "            \"boosting\": \"gbdt\",\n",
    "            'learning_rate': 0.05,\n",
    "            'num_leaves': 64,\n",
    "            'min_data_in_leaf': 80, \n",
    "            'max_depth': 4,\n",
    "            \"bagging_freq\": 5,\n",
    "            \"bagging_fraction\": 0.8,\n",
    "            \"lambda_l1\": 0.5,\n",
    "            \"lambda_l2\": 0.5,\n",
    "            \"feature_fraction\": 0.1,\n",
    "            \"seed\": 2020,\n",
    "            \"num_threads\": -1,\n",
    "            \"max_bins\": 30\n",
    "}"
   ]
  },
  {
   "cell_type": "code",
   "execution_count": 34,
   "metadata": {},
   "outputs": [],
   "source": [
    "catboost_params = {\n",
    "    \"loss_function\": \"RMSE\",\n",
    "    \"eval_metric\": \"RMSE\",\n",
    "    \"task_type\": \"CPU\",\n",
    "    \"learning_rate\": 0.1,\n",
    "    \"depth\": 6,\n",
    "    \"colsample_bylevel\": 0.8,\n",
    "    \"iterations\": 10000,\n",
    "    \"random_seed\": 42,\n",
    "}"
   ]
  },
  {
   "cell_type": "code",
   "execution_count": 35,
   "metadata": {},
   "outputs": [],
   "source": [
    "def feature_selection(train_df, use_cols, n_features=1000):\n",
    "    df = train_df.sample(30000, random_state=2020)\n",
    "    train_dataset = lgb.Dataset(\n",
    "        df.loc[:, use_cols],\n",
    "        label = df.loc[:, \"Salary\"]\n",
    "    )\n",
    "    model = lgb.train(\n",
    "                lgb_params,\n",
    "                train_dataset,\n",
    "                2000,\n",
    "                valid_sets = [train_dataset],\n",
    "                verbose_eval=200,\n",
    "                early_stopping_rounds = None,\n",
    "    )\n",
    "    imp_df = pd.DataFrame()\n",
    "    imp_df['feature'] = use_cols\n",
    "    imp_df['gain'] = model.feature_importance(importance_type=\"gain\")\n",
    "    select_features = imp_df.sort_values([\"gain\"], ascending=False).iloc[: n_features][\"feature\"].tolist()\n",
    "    return select_features"
   ]
  },
  {
   "cell_type": "code",
   "execution_count": null,
   "metadata": {},
   "outputs": [
    {
     "name": "stdout",
     "output_type": "stream",
     "text": [
      "Fold 1\n",
      "0:\tlearn: 41663.0824136\ttest: 41029.1907784\tbest: 41029.1907784 (0)\ttotal: 3.11s\tremaining: 8h 38m 17s\n",
      "100:\tlearn: 20709.3311569\ttest: 21412.4139519\tbest: 21412.4139519 (100)\ttotal: 5m 50s\tremaining: 9h 32m 19s\n",
      "200:\tlearn: 19555.3464327\ttest: 20992.1441330\tbest: 20991.3733909 (199)\ttotal: 12m 36s\tremaining: 10h 15m 1s\n",
      "300:\tlearn: 18871.0424939\ttest: 20854.3829645\tbest: 20852.8619373 (299)\ttotal: 20m 7s\tremaining: 10h 48m 28s\n",
      "400:\tlearn: 18316.7069402\ttest: 20725.6000935\tbest: 20725.6000935 (400)\ttotal: 28m 41s\tremaining: 11h 26m 42s\n",
      "500:\tlearn: 17853.6574375\ttest: 20649.4216518\tbest: 20649.4216518 (500)\ttotal: 37m 57s\tremaining: 11h 59m 46s\n",
      "600:\tlearn: 17452.7329260\ttest: 20632.1257208\tbest: 20628.7948447 (593)\ttotal: 47m 55s\tremaining: 12h 29m 26s\n",
      "700:\tlearn: 17064.6704099\ttest: 20605.1294486\tbest: 20604.4731822 (698)\ttotal: 58m 33s\tremaining: 12h 56m 43s\n",
      "800:\tlearn: 16753.3383186\ttest: 20588.2518626\tbest: 20583.3541824 (797)\ttotal: 1h 9m 50s\tremaining: 13h 22m 8s\n",
      "900:\tlearn: 16424.4320511\ttest: 20570.3038133\tbest: 20567.8951583 (899)\ttotal: 1h 21m 16s\tremaining: 13h 40m 46s\n",
      "1000:\tlearn: 16113.0631454\ttest: 20541.9510893\tbest: 20541.3399409 (995)\ttotal: 1h 34m 11s\tremaining: 14h 6m 47s\n",
      "1100:\tlearn: 15837.6100959\ttest: 20520.1519170\tbest: 20517.7319705 (1095)\ttotal: 1h 47m 36s\tremaining: 14h 29m 48s\n",
      "1200:\tlearn: 15528.2312338\ttest: 20500.0055414\tbest: 20499.9261303 (1198)\ttotal: 2h 1m 12s\tremaining: 14h 48m 1s\n",
      "1300:\tlearn: 15238.6072736\ttest: 20482.2862185\tbest: 20479.2557057 (1285)\ttotal: 2h 15m 26s\tremaining: 15h 5m 38s\n",
      "1400:\tlearn: 14942.1780056\ttest: 20473.7513064\tbest: 20471.0703288 (1393)\ttotal: 2h 30m 16s\tremaining: 15h 22m 19s\n",
      "1500:\tlearn: 14665.7630736\ttest: 20462.5740981\tbest: 20462.3635664 (1498)\ttotal: 2h 45m 19s\tremaining: 15h 36m 7s\n",
      "1600:\tlearn: 14416.2690414\ttest: 20466.6446310\tbest: 20461.2819327 (1507)\ttotal: 3h 48s\tremaining: 15h 48m 32s\n",
      "1700:\tlearn: 14147.3494289\ttest: 20475.7824330\tbest: 20461.2819327 (1507)\ttotal: 3h 15m 50s\tremaining: 15h 55m 31s\n",
      "1800:\tlearn: 13892.7006504\ttest: 20472.8048261\tbest: 20461.2819327 (1507)\ttotal: 3h 32m 8s\tremaining: 16h 5m 48s\n",
      "1900:\tlearn: 13673.4670931\ttest: 20478.8765314\tbest: 20461.2819327 (1507)\ttotal: 3h 48m 13s\tremaining: 16h 12m 21s\n",
      "2000:\tlearn: 13431.5903807\ttest: 20476.4702368\tbest: 20461.2819327 (1507)\ttotal: 4h 5m 5s\tremaining: 16h 19m 45s\n",
      "Stopped by overfitting detector  (500 iterations wait)\n",
      "\n",
      "bestTest = 20461.28193\n",
      "bestIteration = 1507\n",
      "\n",
      "Shrink model to first 1508 iterations.\n",
      "Fold 2\n",
      "0:\tlearn: 41454.6391227\ttest: 41575.7013074\tbest: 41575.7013074 (0)\ttotal: 7.42s\tremaining: 20h 35m 49s\n",
      "100:\tlearn: 20697.9094977\ttest: 21338.5449664\tbest: 21338.5449664 (100)\ttotal: 11m 40s\tremaining: 19h 4m 58s\n",
      "200:\tlearn: 19521.7120829\ttest: 20887.8278541\tbest: 20887.8278541 (200)\ttotal: 17m 57s\tremaining: 14h 35m 46s\n",
      "300:\tlearn: 18854.5338067\ttest: 20718.5527220\tbest: 20718.5527220 (300)\ttotal: 25m 54s\tremaining: 13h 55m 1s\n",
      "400:\tlearn: 18293.4835796\ttest: 20585.5088022\tbest: 20585.5088022 (400)\ttotal: 33m 2s\tremaining: 13h 10m 47s\n",
      "500:\tlearn: 17806.5936032\ttest: 20487.0079531\tbest: 20487.0079531 (500)\ttotal: 39m 54s\tremaining: 12h 36m 44s\n",
      "600:\tlearn: 17394.8294481\ttest: 20434.0255632\tbest: 20431.7448277 (588)\ttotal: 47m 15s\tremaining: 12h 19m 2s\n",
      "700:\tlearn: 17035.6538063\ttest: 20409.4046588\tbest: 20408.0327136 (687)\ttotal: 54m 21s\tremaining: 12h 1m 11s\n",
      "800:\tlearn: 16667.8549890\ttest: 20377.6128874\tbest: 20377.6128874 (800)\ttotal: 1h 1m 54s\tremaining: 11h 50m 55s\n",
      "900:\tlearn: 16321.4781829\ttest: 20340.8373903\tbest: 20340.3535192 (897)\ttotal: 1h 9m 20s\tremaining: 11h 40m 15s\n",
      "1000:\tlearn: 16000.3060785\ttest: 20320.0928799\tbest: 20319.1491528 (997)\ttotal: 1h 16m 27s\tremaining: 11h 27m 18s\n",
      "1100:\tlearn: 15701.7527387\ttest: 20309.1230020\tbest: 20308.4352626 (1098)\ttotal: 1h 24m 17s\tremaining: 11h 21m 17s\n",
      "1200:\tlearn: 15422.7736892\ttest: 20304.5005976\tbest: 20301.8339284 (1197)\ttotal: 1h 32m 19s\tremaining: 11h 16m 21s\n",
      "1300:\tlearn: 15163.2853979\ttest: 20303.0703544\tbest: 20299.1198537 (1287)\ttotal: 1h 40m 56s\tremaining: 11h 14m 57s\n",
      "1400:\tlearn: 14896.8683375\ttest: 20301.1155300\tbest: 20295.3081456 (1318)\ttotal: 1h 49m 46s\tremaining: 11h 13m 47s\n",
      "1500:\tlearn: 14649.9292657\ttest: 20288.4496207\tbest: 20286.6023084 (1492)\ttotal: 1h 59m 9s\tremaining: 11h 14m 40s\n",
      "1600:\tlearn: 14384.7921886\ttest: 20276.9897973\tbest: 20276.9897973 (1600)\ttotal: 2h 8m 48s\tremaining: 11h 15m 42s\n",
      "1700:\tlearn: 14147.3291066\ttest: 20267.0102146\tbest: 20264.7877070 (1668)\ttotal: 2h 18m 6s\tremaining: 11h 13m 51s\n",
      "1800:\tlearn: 13864.9575041\ttest: 20258.8339809\tbest: 20256.5871065 (1793)\ttotal: 2h 26m 20s\tremaining: 11h 6m 14s\n",
      "1900:\tlearn: 13620.2599959\ttest: 20252.5887199\tbest: 20252.5178513 (1895)\ttotal: 2h 33m 56s\tremaining: 10h 55m 51s\n",
      "2000:\tlearn: 13387.8958513\ttest: 20253.0092953\tbest: 20248.9086711 (1990)\ttotal: 2h 41m 40s\tremaining: 10h 46m 18s\n",
      "2100:\tlearn: 13138.9311709\ttest: 20246.3773892\tbest: 20246.3773892 (2100)\ttotal: 2h 49m 58s\tremaining: 10h 39m 1s\n",
      "2200:\tlearn: 12912.6412575\ttest: 20254.8017471\tbest: 20245.9018703 (2102)\ttotal: 2h 57m 58s\tremaining: 10h 30m 39s\n",
      "2300:\tlearn: 12666.3152187\ttest: 20271.7784416\tbest: 20245.9018703 (2102)\ttotal: 3h 5m 29s\tremaining: 10h 20m 36s\n",
      "2400:\tlearn: 12454.0064447\ttest: 20266.7913653\tbest: 20245.9018703 (2102)\ttotal: 3h 13m 14s\tremaining: 10h 11m 36s\n",
      "2500:\tlearn: 12255.5592255\ttest: 20257.3955181\tbest: 20245.9018703 (2102)\ttotal: 3h 21m\tremaining: 10h 2m 41s\n",
      "2600:\tlearn: 12039.2514796\ttest: 20257.7512769\tbest: 20245.9018703 (2102)\ttotal: 3h 28m 41s\tremaining: 9h 53m 38s\n",
      "Stopped by overfitting detector  (500 iterations wait)\n",
      "\n",
      "bestTest = 20245.90187\n",
      "bestIteration = 2102\n",
      "\n",
      "Shrink model to first 2103 iterations.\n",
      "Fold 3\n",
      "0:\tlearn: 41526.7475876\ttest: 41753.1106295\tbest: 41753.1106295 (0)\ttotal: 4.6s\tremaining: 12h 46m 56s\n"
     ]
    }
   ],
   "source": [
    "importances = pd.DataFrame()\n",
    "oof_preds = np.zeros(len(train_df))\n",
    "models = []\n",
    "\n",
    "cat_cols = [c for c in cat_cols if c in train_df.columns]\n",
    "\n",
    "# use_cols = feature_selection(train_df, use_cols, n_features=1000)\n",
    "\n",
    "for fold_i, (trn_idx, val_idx) in enumerate(fold_idx_list):\n",
    "    print(f\"Fold {fold_i+1}\")\n",
    "    \"\"\"\n",
    "    train_dataset = lgb.Dataset(\n",
    "        train_df.loc[trn_idx, use_cols],\n",
    "        label = train_df.loc[trn_idx, \"Salary\"]\n",
    "    )\n",
    "    valid_dataset = lgb.Dataset(\n",
    "        train_df.loc[val_idx, use_cols],\n",
    "        label = train_df.loc[val_idx, \"Salary\"]\n",
    "    )\n",
    "    model = lgb.train(\n",
    "                lgb_params,\n",
    "                train_dataset,\n",
    "                10000,\n",
    "                valid_sets = [train_dataset, valid_dataset],\n",
    "                verbose_eval=100,\n",
    "                early_stopping_rounds = 300,\n",
    "                #feval = eval_f1,\n",
    "                #callbacks = [log_callback],\n",
    "    )\n",
    "    imp_df = pd.DataFrame()\n",
    "    imp_df['feature'] = use_cols\n",
    "    imp_df['gain'] = model.feature_importance(importance_type=\"gain\")\n",
    "    importances = pd.concat([importances, imp_df], axis=0, sort=False)\n",
    "    \n",
    "    oof_preds[val_idx] = model.predict(train_df.loc[val_idx, use_cols])\n",
    "    \"\"\"\n",
    "    model = CatBoostRegressor(**catboost_params)\n",
    "    model.fit(\n",
    "            train_df.loc[trn_idx, use_cols],\n",
    "            train_df.loc[trn_idx, \"Salary\"],\n",
    "            cat_features=cat_cols,\n",
    "            eval_set=(train_df.loc[val_idx, use_cols], train_df.loc[val_idx, \"Salary\"]),\n",
    "            early_stopping_rounds=500,\n",
    "            verbose=100,\n",
    "            use_best_model=True\n",
    "    )\n",
    "    \n",
    "    models.append(model)\n",
    "    oof_preds[val_idx] = model.predict(train_df.loc[val_idx, use_cols])"
   ]
  },
  {
   "cell_type": "code",
   "execution_count": null,
   "metadata": {},
   "outputs": [],
   "source": [
    "oof_score = np.sqrt(mean_squared_error(train_df[\"Salary\"], oof_preds))\n",
    "oof_score"
   ]
  },
  {
   "cell_type": "code",
   "execution_count": null,
   "metadata": {},
   "outputs": [],
   "source": [
    "importances.groupby(\"feature\")[\"gain\"].mean().sort_values(ascending=False).reset_index().iloc[:300]"
   ]
  },
  {
   "cell_type": "code",
   "execution_count": null,
   "metadata": {},
   "outputs": [],
   "source": [
    "len(use_cols)"
   ]
  },
  {
   "cell_type": "markdown",
   "metadata": {},
   "source": [
    "## Prediction"
   ]
  },
  {
   "cell_type": "code",
   "execution_count": null,
   "metadata": {},
   "outputs": [],
   "source": [
    "test_pred = np.zeros(len(test_df))\n",
    "\n",
    "for model in models:\n",
    "    test_pred += model.predict(test_df[use_cols]) / len(models)"
   ]
  },
  {
   "cell_type": "code",
   "execution_count": null,
   "metadata": {},
   "outputs": [],
   "source": [
    "test_pred"
   ]
  },
  {
   "cell_type": "code",
   "execution_count": null,
   "metadata": {},
   "outputs": [],
   "source": [
    "sub_df = pd.read_csv(\"../input/submit.csv\")"
   ]
  },
  {
   "cell_type": "code",
   "execution_count": null,
   "metadata": {},
   "outputs": [],
   "source": [
    "sub_df[\"Salary\"] = test_pred"
   ]
  },
  {
   "cell_type": "code",
   "execution_count": null,
   "metadata": {},
   "outputs": [],
   "source": [
    "# sub_df.to_csv(\"../predict/025_catboost_20314.csv\", index=False)"
   ]
  },
  {
   "cell_type": "code",
   "execution_count": null,
   "metadata": {},
   "outputs": [],
   "source": []
  }
 ],
 "metadata": {
  "kernelspec": {
   "display_name": "Python 3.8.2 64-bit ('3.8.2': pyenv)",
   "language": "python",
   "name": "python38264bit382pyenv0bf26b16ab884472b54c5411cc1e5c03"
  },
  "language_info": {
   "codemirror_mode": {
    "name": "ipython",
    "version": 3
   },
   "file_extension": ".py",
   "mimetype": "text/x-python",
   "name": "python",
   "nbconvert_exporter": "python",
   "pygments_lexer": "ipython3",
   "version": "3.8.2"
  },
  "toc": {
   "base_numbering": 1,
   "nav_menu": {},
   "number_sections": true,
   "sideBar": true,
   "skip_h1_title": false,
   "title_cell": "Table of Contents",
   "title_sidebar": "Contents",
   "toc_cell": false,
   "toc_position": {},
   "toc_section_display": true,
   "toc_window_display": false
  }
 },
 "nbformat": 4,
 "nbformat_minor": 4
}
