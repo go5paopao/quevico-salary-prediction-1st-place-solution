{
 "cells": [
  {
   "cell_type": "markdown",
   "metadata": {},
   "source": [
    "## Prepare and read data"
   ]
  },
  {
   "cell_type": "code",
   "execution_count": 1,
   "metadata": {},
   "outputs": [],
   "source": [
    "import gc\n",
    "import itertools\n",
    "from tqdm.auto import tqdm\n",
    "import pandas as pd\n",
    "import numpy as np\n",
    "import lightgbm as lgb\n",
    "\n",
    "from sklearn.preprocessing import MultiLabelBinarizer\n",
    "from sklearn.model_selection import StratifiedKFold, KFold\n",
    "from sklearn.metrics import mean_squared_error"
   ]
  },
  {
   "cell_type": "code",
   "execution_count": 2,
   "metadata": {},
   "outputs": [],
   "source": [
    "pd.set_option(\"max_columns\", 300)\n",
    "pd.set_option(\"max_rows\", 500)"
   ]
  },
  {
   "cell_type": "code",
   "execution_count": 3,
   "metadata": {},
   "outputs": [],
   "source": [
    "train_df = pd.read_csv(\"../input/train.csv\")\n",
    "test_df = pd.read_csv(\"../input/test.csv\")"
   ]
  },
  {
   "cell_type": "markdown",
   "metadata": {},
   "source": [
    "## Feature Engineering"
   ]
  },
  {
   "cell_type": "code",
   "execution_count": 4,
   "metadata": {},
   "outputs": [],
   "source": [
    "def get_multi_cat_cols(train_df):\n",
    "    tmp = train_df.iloc[:1000]\n",
    "    multi_cols = []\n",
    "    for c in train_df.columns:\n",
    "        sep_num = tmp[c].astype(str).fillna(\"\").str.contains(\";\").sum()\n",
    "        if sep_num > 10:\n",
    "            multi_cols.append(c)\n",
    "    return multi_cols"
   ]
  },
  {
   "cell_type": "code",
   "execution_count": 5,
   "metadata": {},
   "outputs": [],
   "source": [
    "original_cols = train_df.columns.tolist()"
   ]
  },
  {
   "cell_type": "code",
   "execution_count": 6,
   "metadata": {},
   "outputs": [],
   "source": [
    "multi_cat_cols = get_multi_cat_cols(train_df)"
   ]
  },
  {
   "cell_type": "code",
   "execution_count": 7,
   "metadata": {},
   "outputs": [
    {
     "data": {
      "application/vnd.jupyter.widget-view+json": {
       "model_id": "d85a92dd78ce479ba86a4f3724574941",
       "version_major": 2,
       "version_minor": 0
      },
      "text/plain": [
       "HBox(children=(FloatProgress(value=0.0, max=21.0), HTML(value='')))"
      ]
     },
     "metadata": {},
     "output_type": "display_data"
    },
    {
     "name": "stdout",
     "output_type": "stream",
     "text": [
      "\n"
     ]
    }
   ],
   "source": [
    "for c in tqdm(multi_cat_cols):\n",
    "    binarizer = MultiLabelBinarizer()\n",
    "    train_multi_srs = train_df[c].map(lambda x: x.split(\";\") if x is not np.nan else [])\n",
    "    test_multi_srs = test_df[c].map(lambda x: x.split(\";\") if x is not np.nan else [])\n",
    "    train_arr = binarizer.fit_transform(train_multi_srs)\n",
    "    test_arr = binarizer.transform(test_multi_srs)\n",
    "    feat_cols = [f\"ohe_{c}_{val}\" for val in binarizer.classes_]\n",
    "    train_feat_df = pd.DataFrame(train_arr, columns=feat_cols, dtype=np.int8)\n",
    "    test_feat_df = pd.DataFrame(test_arr, columns=feat_cols, dtype=np.int8)\n",
    "    train_feat_df[f\"sum_answer_{c}\"] = (train_df[c].str.count(\";\") + 1).fillna(-1).astype(np.int8)\n",
    "    test_feat_df[f\"sum_answer_{c}\"] = (test_df[c].str.count(\";\") + 1).fillna(-1).astype(np.int8)\n",
    "    train_df = pd.concat([train_df, train_feat_df], axis=1)\n",
    "    test_df = pd.concat([test_df, test_feat_df], axis=1)"
   ]
  },
  {
   "cell_type": "code",
   "execution_count": 8,
   "metadata": {},
   "outputs": [],
   "source": [
    "other_cols = [\n",
    "    c for c in list(np.setdiff1d(original_cols, multi_cat_cols)) if c not in [\"Salary\", \"No\"]\n",
    "]"
   ]
  },
  {
   "cell_type": "code",
   "execution_count": 9,
   "metadata": {},
   "outputs": [
    {
     "data": {
      "application/vnd.jupyter.widget-view+json": {
       "model_id": "089ada37d4504ca38015f916da30a1df",
       "version_major": 2,
       "version_minor": 0
      },
      "text/plain": [
       "HBox(children=(FloatProgress(value=0.0, max=105.0), HTML(value='')))"
      ]
     },
     "metadata": {},
     "output_type": "display_data"
    },
    {
     "name": "stdout",
     "output_type": "stream",
     "text": [
      "\n"
     ]
    }
   ],
   "source": [
    "cat_cols = []\n",
    "for c in tqdm(other_cols):\n",
    "    if \"float\" in train_df[c].dtype.name:\n",
    "        if train_df[c].nunique() > 1000:\n",
    "            train_df[c] = train_df[c].astype(np.float32)\n",
    "            test_df[c] = test_df[c].astype(np.float32)\n",
    "        else:\n",
    "            train_df[c] = train_df[c].astype(np.float16)\n",
    "            test_df[c] = test_df[c].astype(np.float16)\n",
    "    else:\n",
    "        train_df[c], uniques = pd.factorize(train_df[c], sort=True)\n",
    "        test_df[c] = uniques.get_indexer(test_df[c])\n",
    "        if train_df[c].max() > 32767:\n",
    "            train_df[c] = train_df[c].astype(np.int32)\n",
    "            test_df[c] = test_df[c].astype(np.int32)\n",
    "        else:\n",
    "            train_df[c] = train_df[c].astype(np.int16)\n",
    "            test_df[c] = test_df[c].astype(np.int16)            \n",
    "        cat_cols.append(c)"
   ]
  },
  {
   "cell_type": "code",
   "execution_count": 10,
   "metadata": {},
   "outputs": [
    {
     "data": {
      "text/plain": [
       "((33857, 465), (11259, 464))"
      ]
     },
     "execution_count": 10,
     "metadata": {},
     "output_type": "execute_result"
    }
   ],
   "source": [
    "train_df.shape, test_df.shape"
   ]
  },
  {
   "cell_type": "code",
   "execution_count": 11,
   "metadata": {},
   "outputs": [],
   "source": [
    "train_df.columns = [\"\".join (c if c.isalnum() else \"_\" for c in str(x)) for x in train_df.columns]\n",
    "test_df.columns = [\"\".join (c if c.isalnum() else \"_\" for c in str(x)) for x in test_df.columns]"
   ]
  },
  {
   "cell_type": "code",
   "execution_count": 12,
   "metadata": {},
   "outputs": [],
   "source": [
    "# basicなモデルのimportanceを読み込み\n",
    "importance_df = pd.read_csv(\"../data/importance/003_importance.csv\")"
   ]
  },
  {
   "cell_type": "code",
   "execution_count": 13,
   "metadata": {},
   "outputs": [],
   "source": [
    "imp_feats = importance_df[\"feature\"].iloc[:50].tolist()\n",
    "imp_cat_cols = [c for c in imp_feats if c in cat_cols or c[:4] == \"ohe_\"]\n",
    "imp_nume_cols = [c for c in imp_feats if c not in cat_cols and c not in multi_cat_cols]"
   ]
  },
  {
   "cell_type": "code",
   "execution_count": 14,
   "metadata": {},
   "outputs": [
    {
     "data": {
      "text/plain": [
       "(32, 15)"
      ]
     },
     "execution_count": 14,
     "metadata": {},
     "output_type": "execute_result"
    }
   ],
   "source": [
    "len(imp_cat_cols), len(imp_nume_cols)"
   ]
  },
  {
   "cell_type": "code",
   "execution_count": 15,
   "metadata": {
    "scrolled": true
   },
   "outputs": [
    {
     "data": {
      "application/vnd.jupyter.widget-view+json": {
       "model_id": "f101bb367c8f4f0098c9377d293e6e2d",
       "version_major": 2,
       "version_minor": 0
      },
      "text/plain": [
       "HBox(children=(FloatProgress(value=0.0, max=32.0), HTML(value='')))"
      ]
     },
     "metadata": {},
     "output_type": "display_data"
    },
    {
     "name": "stdout",
     "output_type": "stream",
     "text": [
      "\n"
     ]
    },
    {
     "data": {
      "text/plain": [
       "61"
      ]
     },
     "execution_count": 15,
     "metadata": {},
     "output_type": "execute_result"
    }
   ],
   "source": [
    "all_df = pd.concat([train_df, test_df], axis=0, ignore_index=True)\n",
    "for cat_col in tqdm(imp_cat_cols):\n",
    "    for nume_col in imp_nume_cols:\n",
    "        all_df[f\"agg_mean_{cat_col}_{nume_col}\"] = \\\n",
    "            all_df.groupby(cat_col)[nume_col].transform(\"mean\").astype(np.float32)\n",
    "        all_df[f\"agg_std_{cat_col}_{nume_col}\"] = \\\n",
    "            all_df.groupby(cat_col)[nume_col].transform(\"std\").astype(np.float32)\n",
    "        all_df[f\"agg_max_{cat_col}_{nume_col}\"] = \\\n",
    "            all_df.groupby(cat_col)[nume_col].transform(\"max\").astype(np.float32)\n",
    "        all_df[f\"agg_min_{cat_col}_{nume_col}\"] = \\\n",
    "            all_df.groupby(cat_col)[nume_col].transform(\"min\").astype(np.float32)\n",
    "        all_df[f\"diff_agg_mean_{cat_col}_{nume_col}\"] = \\\n",
    "            all_df[nume_col] - all_df[f\"agg_mean_{cat_col}_{nume_col}\"]\n",
    "        all_df[f\"rel_agg_mean_{cat_col}_{nume_col}\"] = \\\n",
    "            all_df[nume_col] / (1 + all_df[f\"agg_mean_{cat_col}_{nume_col}\"])\n",
    "train_df = all_df.iloc[:len(train_df)].reset_index(drop=True)\n",
    "test_df = all_df.iloc[len(train_df):].reset_index(drop=True)\n",
    "del all_df\n",
    "gc.collect()"
   ]
  },
  {
   "cell_type": "code",
   "execution_count": 16,
   "metadata": {},
   "outputs": [],
   "source": [
    "use_cols = [c for c in train_df.columns if c not in multi_cat_cols + [\"Salary\", \"No\"]]"
   ]
  },
  {
   "cell_type": "code",
   "execution_count": 17,
   "metadata": {},
   "outputs": [],
   "source": [
    "folds = KFold(n_splits=5, random_state=2020, shuffle=True)\n",
    "fold_idx_list = [(trn_idx, val_idx) for trn_idx, val_idx in folds.split(train_df, train_df[\"Salary\"])]"
   ]
  },
  {
   "cell_type": "markdown",
   "metadata": {},
   "source": [
    "### Target Encoding"
   ]
  },
  {
   "cell_type": "code",
   "execution_count": 18,
   "metadata": {},
   "outputs": [],
   "source": [
    "te_cols = [c for c in use_cols if (not \"agg_\" in c) and train_df[c].nunique() >= 5]"
   ]
  },
  {
   "cell_type": "code",
   "execution_count": 19,
   "metadata": {},
   "outputs": [
    {
     "data": {
      "application/vnd.jupyter.widget-view+json": {
       "model_id": "1d6be1d0596847d8b9f38eb2f6d29017",
       "version_major": 2,
       "version_minor": 0
      },
      "text/plain": [
       "HBox(children=(FloatProgress(value=0.0, max=109.0), HTML(value='')))"
      ]
     },
     "metadata": {},
     "output_type": "display_data"
    },
    {
     "name": "stdout",
     "output_type": "stream",
     "text": [
      "\n"
     ]
    }
   ],
   "source": [
    "for c in tqdm(te_cols):\n",
    "    new_col = \"te_\" + c\n",
    "    train_df[new_col] = 0\n",
    "    test_df[new_col] = 0\n",
    "    for trn_idx, val_idx in fold_idx_list:\n",
    "        mean_val = train_df.loc[trn_idx].groupby(c)[\"Salary\"].mean().astype(np.float32)\n",
    "        train_df.loc[val_idx, new_col] = train_df.loc[val_idx, c].map(mean_val)\n",
    "        test_df.loc[:, new_col] += test_df.loc[:, c].map(mean_val) / len(fold_idx_list)\n",
    "    train_df[new_col] = train_df[new_col].astype(np.float32)\n",
    "    test_df[new_col] = test_df[new_col].astype(np.float32)"
   ]
  },
  {
   "cell_type": "code",
   "execution_count": 20,
   "metadata": {},
   "outputs": [],
   "source": [
    "# multiple target encoding\n",
    "te_imp_feats = importance_df[\"feature\"].iloc[:30].tolist()\n",
    "multi_te_cols = [c for c in te_cols if c in te_imp_feats]\n",
    "combi_cols = list(itertools.combinations(multi_te_cols, 2))"
   ]
  },
  {
   "cell_type": "code",
   "execution_count": 21,
   "metadata": {},
   "outputs": [
    {
     "data": {
      "application/vnd.jupyter.widget-view+json": {
       "model_id": "1773c90c3da843ecb44c349c93ef7f33",
       "version_major": 2,
       "version_minor": 0
      },
      "text/plain": [
       "HBox(children=(FloatProgress(value=0.0, max=66.0), HTML(value='')))"
      ]
     },
     "metadata": {},
     "output_type": "display_data"
    },
    {
     "name": "stdout",
     "output_type": "stream",
     "text": [
      "\n"
     ]
    }
   ],
   "source": [
    "for col_a, col_b in tqdm(combi_cols):\n",
    "    new_col = \"te_\" + col_a + \"__\" + col_b\n",
    "    train_df[new_col] = 0\n",
    "    test_df[new_col] = 0\n",
    "    train_df[\"tmp\"] = train_df[col_a].fillna(\"\").astype(str) + train_df[col_b].fillna(\"\").astype(str)\n",
    "    test_df[\"tmp\"] = test_df[col_a].fillna(\"\").astype(str) + test_df[col_b].fillna(\"\").astype(str)\n",
    "    for trn_idx, val_idx in fold_idx_list:\n",
    "        mean_val = train_df.loc[trn_idx].groupby(\"tmp\")[\"Salary\"].mean().astype(np.float32)\n",
    "        train_df.loc[val_idx, new_col] = train_df.loc[val_idx, \"tmp\"].map(mean_val)\n",
    "        test_df.loc[:, new_col] += test_df.loc[:, \"tmp\"].map(mean_val) / len(fold_idx_list)\n",
    "    train_df[new_col] = train_df[new_col].astype(np.float32)\n",
    "    test_df[new_col] = test_df[new_col].astype(np.float32)\n",
    "    del train_df[\"tmp\"], test_df[\"tmp\"]\n",
    "    gc.collect()"
   ]
  },
  {
   "cell_type": "code",
   "execution_count": 22,
   "metadata": {},
   "outputs": [
    {
     "name": "stdout",
     "output_type": "stream",
     "text": [
      "3497\n"
     ]
    }
   ],
   "source": [
    "use_cols = [c for c in train_df.columns if c not in multi_cat_cols + [\"Salary\", \"No\"]]\n",
    "print(len(use_cols))"
   ]
  },
  {
   "cell_type": "markdown",
   "metadata": {},
   "source": [
    "## Training"
   ]
  },
  {
   "cell_type": "code",
   "execution_count": 60,
   "metadata": {},
   "outputs": [],
   "source": [
    "lgb_params = {\n",
    "            'objective': 'regression',\n",
    "            \"metric\": \"rmse\",\n",
    "            \"verbosity\": -1,\n",
    "            \"boosting\": \"gbdt\",\n",
    "            'learning_rate': 0.05,\n",
    "            'num_leaves': 64,\n",
    "            'min_data_in_leaf': 80, \n",
    "            'max_depth': 4,\n",
    "            \"bagging_freq\": 5,\n",
    "            \"bagging_fraction\": 0.8,\n",
    "            \"lambda_l1\": 0.5,\n",
    "            \"lambda_l2\": 0.5,\n",
    "            \"feature_fraction\": 0.1,\n",
    "            \"seed\": 2020,\n",
    "            \"num_threads\": -1,\n",
    "            \"max_bins\": 30\n",
    "}"
   ]
  },
  {
   "cell_type": "code",
   "execution_count": 61,
   "metadata": {},
   "outputs": [
    {
     "name": "stdout",
     "output_type": "stream",
     "text": [
      "Fold 1\n",
      "Training until validation scores don't improve for 100 rounds\n",
      "[100]\ttraining's rmse: 20982.1\tvalid_1's rmse: 21698.5\n",
      "[200]\ttraining's rmse: 19794.4\tvalid_1's rmse: 21079\n",
      "[300]\ttraining's rmse: 19166.4\tvalid_1's rmse: 20868.6\n",
      "[400]\ttraining's rmse: 18646.3\tvalid_1's rmse: 20751.4\n",
      "[500]\ttraining's rmse: 18226.2\tvalid_1's rmse: 20681.9\n",
      "[600]\ttraining's rmse: 17856.9\tvalid_1's rmse: 20635.8\n",
      "[700]\ttraining's rmse: 17494.1\tvalid_1's rmse: 20598\n",
      "[800]\ttraining's rmse: 17174.3\tvalid_1's rmse: 20586.4\n",
      "[900]\ttraining's rmse: 16883.3\tvalid_1's rmse: 20563.7\n",
      "[1000]\ttraining's rmse: 16598.9\tvalid_1's rmse: 20557.1\n",
      "[1100]\ttraining's rmse: 16342.4\tvalid_1's rmse: 20539.5\n",
      "[1200]\ttraining's rmse: 16094.7\tvalid_1's rmse: 20528.4\n",
      "[1300]\ttraining's rmse: 15847.1\tvalid_1's rmse: 20520.6\n",
      "[1400]\ttraining's rmse: 15604.6\tvalid_1's rmse: 20512.3\n",
      "[1500]\ttraining's rmse: 15361.8\tvalid_1's rmse: 20518.8\n",
      "Early stopping, best iteration is:\n",
      "[1445]\ttraining's rmse: 15497.3\tvalid_1's rmse: 20502.6\n",
      "Fold 2\n",
      "Training until validation scores don't improve for 100 rounds\n",
      "[100]\ttraining's rmse: 20948.5\tvalid_1's rmse: 21887.6\n",
      "[200]\ttraining's rmse: 19776.7\tvalid_1's rmse: 21151.3\n",
      "[300]\ttraining's rmse: 19098.8\tvalid_1's rmse: 20854\n",
      "[400]\ttraining's rmse: 18578.5\tvalid_1's rmse: 20697.2\n",
      "[500]\ttraining's rmse: 18174.7\tvalid_1's rmse: 20607.6\n",
      "[600]\ttraining's rmse: 17807.4\tvalid_1's rmse: 20552.5\n",
      "[700]\ttraining's rmse: 17470.9\tvalid_1's rmse: 20506\n",
      "[800]\ttraining's rmse: 17148.5\tvalid_1's rmse: 20457.3\n",
      "[900]\ttraining's rmse: 16846.9\tvalid_1's rmse: 20427\n",
      "[1000]\ttraining's rmse: 16581.8\tvalid_1's rmse: 20410.6\n",
      "[1100]\ttraining's rmse: 16301.9\tvalid_1's rmse: 20380\n",
      "[1200]\ttraining's rmse: 16030.1\tvalid_1's rmse: 20361.2\n",
      "[1300]\ttraining's rmse: 15783.8\tvalid_1's rmse: 20355.9\n",
      "[1400]\ttraining's rmse: 15538.1\tvalid_1's rmse: 20344.7\n",
      "[1500]\ttraining's rmse: 15313.5\tvalid_1's rmse: 20341.4\n",
      "[1600]\ttraining's rmse: 15076.1\tvalid_1's rmse: 20327\n",
      "[1700]\ttraining's rmse: 14870\tvalid_1's rmse: 20324.8\n",
      "Early stopping, best iteration is:\n",
      "[1676]\ttraining's rmse: 14912.9\tvalid_1's rmse: 20315.1\n",
      "Fold 3\n",
      "Training until validation scores don't improve for 100 rounds\n",
      "[100]\ttraining's rmse: 20982\tvalid_1's rmse: 21778.7\n",
      "[200]\ttraining's rmse: 19751.1\tvalid_1's rmse: 21129.2\n",
      "[300]\ttraining's rmse: 19071.4\tvalid_1's rmse: 20949.6\n",
      "[400]\ttraining's rmse: 18547.3\tvalid_1's rmse: 20848.4\n",
      "[500]\ttraining's rmse: 18116\tvalid_1's rmse: 20783.9\n",
      "[600]\ttraining's rmse: 17753.7\tvalid_1's rmse: 20746.3\n",
      "[700]\ttraining's rmse: 17430.5\tvalid_1's rmse: 20705\n",
      "[800]\ttraining's rmse: 17108.6\tvalid_1's rmse: 20678.2\n",
      "[900]\ttraining's rmse: 16785\tvalid_1's rmse: 20642.2\n",
      "[1000]\ttraining's rmse: 16505.2\tvalid_1's rmse: 20618.9\n",
      "[1100]\ttraining's rmse: 16239.2\tvalid_1's rmse: 20607.8\n",
      "[1200]\ttraining's rmse: 15984.2\tvalid_1's rmse: 20596.1\n",
      "[1300]\ttraining's rmse: 15752\tvalid_1's rmse: 20580.2\n",
      "[1400]\ttraining's rmse: 15527.8\tvalid_1's rmse: 20577.7\n",
      "Early stopping, best iteration is:\n",
      "[1313]\ttraining's rmse: 15714\tvalid_1's rmse: 20573.5\n",
      "Fold 4\n",
      "Training until validation scores don't improve for 100 rounds\n",
      "[100]\ttraining's rmse: 20987.9\tvalid_1's rmse: 21785.2\n",
      "[200]\ttraining's rmse: 19811.2\tvalid_1's rmse: 21113.8\n",
      "[300]\ttraining's rmse: 19140.9\tvalid_1's rmse: 20816.7\n",
      "[400]\ttraining's rmse: 18607.8\tvalid_1's rmse: 20658.3\n",
      "[500]\ttraining's rmse: 18197.2\tvalid_1's rmse: 20575.5\n",
      "[600]\ttraining's rmse: 17828.6\tvalid_1's rmse: 20521.3\n",
      "[700]\ttraining's rmse: 17485.4\tvalid_1's rmse: 20457.2\n",
      "[800]\ttraining's rmse: 17150.7\tvalid_1's rmse: 20423.4\n",
      "[900]\ttraining's rmse: 16859.1\tvalid_1's rmse: 20380.2\n",
      "[1000]\ttraining's rmse: 16582.9\tvalid_1's rmse: 20365.2\n",
      "[1100]\ttraining's rmse: 16303.3\tvalid_1's rmse: 20337.9\n",
      "[1200]\ttraining's rmse: 16046.9\tvalid_1's rmse: 20322.2\n",
      "[1300]\ttraining's rmse: 15801.5\tvalid_1's rmse: 20309.7\n",
      "[1400]\ttraining's rmse: 15561.9\tvalid_1's rmse: 20306\n",
      "[1500]\ttraining's rmse: 15345\tvalid_1's rmse: 20283.7\n",
      "[1600]\ttraining's rmse: 15124.4\tvalid_1's rmse: 20277\n",
      "[1700]\ttraining's rmse: 14899.9\tvalid_1's rmse: 20266\n",
      "[1800]\ttraining's rmse: 14700.4\tvalid_1's rmse: 20259.5\n",
      "[1900]\ttraining's rmse: 14500.3\tvalid_1's rmse: 20246\n",
      "Early stopping, best iteration is:\n",
      "[1891]\ttraining's rmse: 14518\tvalid_1's rmse: 20240\n",
      "Fold 5\n",
      "Training until validation scores don't improve for 100 rounds\n",
      "[100]\ttraining's rmse: 21042.9\tvalid_1's rmse: 21528.3\n",
      "[200]\ttraining's rmse: 19902.3\tvalid_1's rmse: 20783.7\n",
      "[300]\ttraining's rmse: 19218.9\tvalid_1's rmse: 20489.8\n",
      "[400]\ttraining's rmse: 18677.6\tvalid_1's rmse: 20328\n",
      "[500]\ttraining's rmse: 18242.8\tvalid_1's rmse: 20241.2\n",
      "[600]\ttraining's rmse: 17851.4\tvalid_1's rmse: 20181.7\n",
      "[700]\ttraining's rmse: 17515.2\tvalid_1's rmse: 20139.6\n",
      "[800]\ttraining's rmse: 17215.1\tvalid_1's rmse: 20093.1\n",
      "[900]\ttraining's rmse: 16912.4\tvalid_1's rmse: 20044.3\n",
      "[1000]\ttraining's rmse: 16631.5\tvalid_1's rmse: 20015.9\n",
      "[1100]\ttraining's rmse: 16361.8\tvalid_1's rmse: 20011.8\n",
      "[1200]\ttraining's rmse: 16119.1\tvalid_1's rmse: 19999.5\n",
      "[1300]\ttraining's rmse: 15874.3\tvalid_1's rmse: 20008\n",
      "Early stopping, best iteration is:\n",
      "[1228]\ttraining's rmse: 16051.8\tvalid_1's rmse: 19993.6\n"
     ]
    }
   ],
   "source": [
    "importances = pd.DataFrame()\n",
    "oof_preds = np.zeros(len(train_df))\n",
    "models = []\n",
    "\n",
    "for fold_i, (trn_idx, val_idx) in enumerate(fold_idx_list):\n",
    "    print(f\"Fold {fold_i+1}\")\n",
    "    train_dataset = lgb.Dataset(\n",
    "        train_df.loc[trn_idx, use_cols],\n",
    "        label = train_df.loc[trn_idx, \"Salary\"]\n",
    "    )\n",
    "    valid_dataset = lgb.Dataset(\n",
    "        train_df.loc[val_idx, use_cols],\n",
    "        label = train_df.loc[val_idx, \"Salary\"]\n",
    "    )\n",
    "    model = lgb.train(\n",
    "                lgb_params,\n",
    "                train_dataset,\n",
    "                3000,\n",
    "                valid_sets = [train_dataset, valid_dataset],\n",
    "                verbose_eval=100,\n",
    "                early_stopping_rounds = 100,\n",
    "                #feval = eval_f1,\n",
    "                #callbacks = [log_callback],\n",
    "    )\n",
    "    imp_df = pd.DataFrame()\n",
    "    imp_df['feature'] = use_cols\n",
    "    imp_df['gain'] = model.feature_importance(importance_type=\"gain\")\n",
    "    importances = pd.concat([importances, imp_df], axis=0, sort=False)\n",
    "    \n",
    "    oof_preds[val_idx] = model.predict(train_df.loc[val_idx, use_cols])\n",
    "    models.append(model)"
   ]
  },
  {
   "cell_type": "code",
   "execution_count": 62,
   "metadata": {},
   "outputs": [
    {
     "data": {
      "text/plain": [
       "20325.986687487057"
      ]
     },
     "execution_count": 62,
     "metadata": {},
     "output_type": "execute_result"
    }
   ],
   "source": [
    "oof_score = np.sqrt(mean_squared_error(train_df[\"Salary\"], oof_preds))\n",
    "oof_score\n",
    "#20824.817522627924\n",
    "#20794.69950160029\n",
    "#20548.806990829173\n",
    "#20366.916244725206\n",
    "#20352.221759954566"
   ]
  },
  {
   "cell_type": "code",
   "execution_count": 63,
   "metadata": {},
   "outputs": [
    {
     "data": {
      "text/html": [
       "<div>\n",
       "<style scoped>\n",
       "    .dataframe tbody tr th:only-of-type {\n",
       "        vertical-align: middle;\n",
       "    }\n",
       "\n",
       "    .dataframe tbody tr th {\n",
       "        vertical-align: top;\n",
       "    }\n",
       "\n",
       "    .dataframe thead th {\n",
       "        text-align: right;\n",
       "    }\n",
       "</style>\n",
       "<table border=\"1\" class=\"dataframe\">\n",
       "  <thead>\n",
       "    <tr style=\"text-align: right;\">\n",
       "      <th></th>\n",
       "      <th>feature</th>\n",
       "      <th>gain</th>\n",
       "    </tr>\n",
       "  </thead>\n",
       "  <tbody>\n",
       "    <tr>\n",
       "      <th>0</th>\n",
       "      <td>te_Country__YearsCoding</td>\n",
       "      <td>4.708196e+13</td>\n",
       "    </tr>\n",
       "    <tr>\n",
       "      <th>1</th>\n",
       "      <td>te_Country__CareerSatisfaction</td>\n",
       "      <td>2.931580e+13</td>\n",
       "    </tr>\n",
       "    <tr>\n",
       "      <th>2</th>\n",
       "      <td>te_Country__YearsCodingProf</td>\n",
       "      <td>1.966722e+13</td>\n",
       "    </tr>\n",
       "    <tr>\n",
       "      <th>3</th>\n",
       "      <td>te_Country__Employment</td>\n",
       "      <td>1.909382e+13</td>\n",
       "    </tr>\n",
       "    <tr>\n",
       "      <th>4</th>\n",
       "      <td>te_YearsCodingProf__Currency</td>\n",
       "      <td>1.664466e+13</td>\n",
       "    </tr>\n",
       "    <tr>\n",
       "      <th>5</th>\n",
       "      <td>te_Country__FormalEducation</td>\n",
       "      <td>1.522014e+13</td>\n",
       "    </tr>\n",
       "    <tr>\n",
       "      <th>6</th>\n",
       "      <td>te_Country__Age</td>\n",
       "      <td>1.421578e+13</td>\n",
       "    </tr>\n",
       "    <tr>\n",
       "      <th>7</th>\n",
       "      <td>te_Country__CurrencySymbol</td>\n",
       "      <td>1.201110e+13</td>\n",
       "    </tr>\n",
       "    <tr>\n",
       "      <th>8</th>\n",
       "      <td>te_CurrencySymbol__Age</td>\n",
       "      <td>8.642652e+12</td>\n",
       "    </tr>\n",
       "    <tr>\n",
       "      <th>9</th>\n",
       "      <td>te_Employment__CurrencySymbol</td>\n",
       "      <td>6.998477e+12</td>\n",
       "    </tr>\n",
       "    <tr>\n",
       "      <th>10</th>\n",
       "      <td>te_Country__OperatingSystem</td>\n",
       "      <td>6.777547e+12</td>\n",
       "    </tr>\n",
       "    <tr>\n",
       "      <th>11</th>\n",
       "      <td>te_YearsCodingProf__CurrencySymbol</td>\n",
       "      <td>6.757202e+12</td>\n",
       "    </tr>\n",
       "    <tr>\n",
       "      <th>12</th>\n",
       "      <td>te_YearsCoding__Currency</td>\n",
       "      <td>6.703192e+12</td>\n",
       "    </tr>\n",
       "    <tr>\n",
       "      <th>13</th>\n",
       "      <td>te_YearsCodingProf__OperatingSystem</td>\n",
       "      <td>6.469168e+12</td>\n",
       "    </tr>\n",
       "    <tr>\n",
       "      <th>14</th>\n",
       "      <td>te_Country__CompanySize</td>\n",
       "      <td>6.051662e+12</td>\n",
       "    </tr>\n",
       "    <tr>\n",
       "      <th>15</th>\n",
       "      <td>te_Country__AssessBenefits2</td>\n",
       "      <td>4.337711e+12</td>\n",
       "    </tr>\n",
       "    <tr>\n",
       "      <th>16</th>\n",
       "      <td>te_FormalEducation__YearsCodingProf</td>\n",
       "      <td>4.318261e+12</td>\n",
       "    </tr>\n",
       "    <tr>\n",
       "      <th>17</th>\n",
       "      <td>te_Employment__YearsCodingProf</td>\n",
       "      <td>4.137535e+12</td>\n",
       "    </tr>\n",
       "    <tr>\n",
       "      <th>18</th>\n",
       "      <td>te_YearsCoding__CurrencySymbol</td>\n",
       "      <td>3.531456e+12</td>\n",
       "    </tr>\n",
       "    <tr>\n",
       "      <th>19</th>\n",
       "      <td>agg_mean_Country_ohe_EducationTypes_Contribute...</td>\n",
       "      <td>3.271560e+12</td>\n",
       "    </tr>\n",
       "    <tr>\n",
       "      <th>20</th>\n",
       "      <td>te_YearsCodingProf__AssessBenefits2</td>\n",
       "      <td>3.198095e+12</td>\n",
       "    </tr>\n",
       "    <tr>\n",
       "      <th>21</th>\n",
       "      <td>te_CompanySize__YearsCodingProf</td>\n",
       "      <td>2.627006e+12</td>\n",
       "    </tr>\n",
       "    <tr>\n",
       "      <th>22</th>\n",
       "      <td>agg_std_Country_ohe_EducationTypes_Contributed...</td>\n",
       "      <td>2.550708e+12</td>\n",
       "    </tr>\n",
       "    <tr>\n",
       "      <th>23</th>\n",
       "      <td>te_YearsCodingProf__CareerSatisfaction</td>\n",
       "      <td>2.494306e+12</td>\n",
       "    </tr>\n",
       "    <tr>\n",
       "      <th>24</th>\n",
       "      <td>agg_std_MilitaryUS_AssessBenefits2</td>\n",
       "      <td>2.402405e+12</td>\n",
       "    </tr>\n",
       "    <tr>\n",
       "      <th>25</th>\n",
       "      <td>te_YearsCodingProf__Age</td>\n",
       "      <td>2.365429e+12</td>\n",
       "    </tr>\n",
       "    <tr>\n",
       "      <th>26</th>\n",
       "      <td>agg_std_Country_ohe_Methodology_Agile</td>\n",
       "      <td>2.325994e+12</td>\n",
       "    </tr>\n",
       "    <tr>\n",
       "      <th>27</th>\n",
       "      <td>agg_std_YearsCodingProf_ohe_RaceEthnicity_Whit...</td>\n",
       "      <td>2.164993e+12</td>\n",
       "    </tr>\n",
       "    <tr>\n",
       "      <th>28</th>\n",
       "      <td>te_Country__Currency</td>\n",
       "      <td>1.986274e+12</td>\n",
       "    </tr>\n",
       "    <tr>\n",
       "      <th>29</th>\n",
       "      <td>te_YearsCoding__CareerSatisfaction</td>\n",
       "      <td>1.915166e+12</td>\n",
       "    </tr>\n",
       "    <tr>\n",
       "      <th>30</th>\n",
       "      <td>te_CurrencySymbol__OperatingSystem</td>\n",
       "      <td>1.826758e+12</td>\n",
       "    </tr>\n",
       "    <tr>\n",
       "      <th>31</th>\n",
       "      <td>te_FormalEducation__Currency</td>\n",
       "      <td>1.819196e+12</td>\n",
       "    </tr>\n",
       "    <tr>\n",
       "      <th>32</th>\n",
       "      <td>agg_std_YearsCodingProf_ohe_LanguageDesireNext...</td>\n",
       "      <td>1.683005e+12</td>\n",
       "    </tr>\n",
       "    <tr>\n",
       "      <th>33</th>\n",
       "      <td>te_CompanySize__OperatingSystem</td>\n",
       "      <td>1.655957e+12</td>\n",
       "    </tr>\n",
       "    <tr>\n",
       "      <th>34</th>\n",
       "      <td>MilitaryUS</td>\n",
       "      <td>1.508853e+12</td>\n",
       "    </tr>\n",
       "    <tr>\n",
       "      <th>35</th>\n",
       "      <td>agg_mean_Country_ohe_Methodology_Agile</td>\n",
       "      <td>1.480979e+12</td>\n",
       "    </tr>\n",
       "    <tr>\n",
       "      <th>36</th>\n",
       "      <td>agg_mean_YearsCodingProf_AssessBenefits2</td>\n",
       "      <td>1.421561e+12</td>\n",
       "    </tr>\n",
       "    <tr>\n",
       "      <th>37</th>\n",
       "      <td>te_Employment__FormalEducation</td>\n",
       "      <td>1.349905e+12</td>\n",
       "    </tr>\n",
       "    <tr>\n",
       "      <th>38</th>\n",
       "      <td>agg_mean_Country_ohe_LanguageDesireNextYear_PHP</td>\n",
       "      <td>1.335040e+12</td>\n",
       "    </tr>\n",
       "    <tr>\n",
       "      <th>39</th>\n",
       "      <td>te_Employment__YearsCoding</td>\n",
       "      <td>1.333795e+12</td>\n",
       "    </tr>\n",
       "    <tr>\n",
       "      <th>40</th>\n",
       "      <td>te_Employment__Currency</td>\n",
       "      <td>1.224795e+12</td>\n",
       "    </tr>\n",
       "    <tr>\n",
       "      <th>41</th>\n",
       "      <td>agg_mean_YearsCodingProf_ohe_RaceEthnicity_Whi...</td>\n",
       "      <td>1.215093e+12</td>\n",
       "    </tr>\n",
       "    <tr>\n",
       "      <th>42</th>\n",
       "      <td>te_YearsCoding__OperatingSystem</td>\n",
       "      <td>1.161263e+12</td>\n",
       "    </tr>\n",
       "    <tr>\n",
       "      <th>43</th>\n",
       "      <td>te_CompanySize__AssessBenefits2</td>\n",
       "      <td>1.151286e+12</td>\n",
       "    </tr>\n",
       "    <tr>\n",
       "      <th>44</th>\n",
       "      <td>te_CompanySize__YearsCoding</td>\n",
       "      <td>1.109955e+12</td>\n",
       "    </tr>\n",
       "    <tr>\n",
       "      <th>45</th>\n",
       "      <td>agg_std_YearsCodingProf_ohe_DevType_Engineerin...</td>\n",
       "      <td>1.049740e+12</td>\n",
       "    </tr>\n",
       "    <tr>\n",
       "      <th>46</th>\n",
       "      <td>te_CareerSatisfaction__Currency</td>\n",
       "      <td>1.048989e+12</td>\n",
       "    </tr>\n",
       "    <tr>\n",
       "      <th>47</th>\n",
       "      <td>te_YearsCoding__YearsCodingProf</td>\n",
       "      <td>1.034797e+12</td>\n",
       "    </tr>\n",
       "    <tr>\n",
       "      <th>48</th>\n",
       "      <td>agg_mean_SalaryType_ohe_LanguageWorkedWith_PHP</td>\n",
       "      <td>1.016236e+12</td>\n",
       "    </tr>\n",
       "    <tr>\n",
       "      <th>49</th>\n",
       "      <td>agg_mean_Country_AssessJob8</td>\n",
       "      <td>9.069813e+11</td>\n",
       "    </tr>\n",
       "    <tr>\n",
       "      <th>50</th>\n",
       "      <td>diff_agg_mean_OperatingSystem_ohe_LanguageWork...</td>\n",
       "      <td>8.811006e+11</td>\n",
       "    </tr>\n",
       "    <tr>\n",
       "      <th>51</th>\n",
       "      <td>te_CompanySize__CareerSatisfaction</td>\n",
       "      <td>8.765166e+11</td>\n",
       "    </tr>\n",
       "    <tr>\n",
       "      <th>52</th>\n",
       "      <td>te_CareerSatisfaction__OperatingSystem</td>\n",
       "      <td>8.648238e+11</td>\n",
       "    </tr>\n",
       "    <tr>\n",
       "      <th>53</th>\n",
       "      <td>agg_std_YearsCodingProf_ohe_DevType_Student</td>\n",
       "      <td>8.613741e+11</td>\n",
       "    </tr>\n",
       "    <tr>\n",
       "      <th>54</th>\n",
       "      <td>agg_std_CurrencySymbol_ohe_DevType_Engineering...</td>\n",
       "      <td>8.461014e+11</td>\n",
       "    </tr>\n",
       "    <tr>\n",
       "      <th>55</th>\n",
       "      <td>te_CareerSatisfaction__AssessBenefits2</td>\n",
       "      <td>8.203034e+11</td>\n",
       "    </tr>\n",
       "    <tr>\n",
       "      <th>56</th>\n",
       "      <td>te_Employment__Age</td>\n",
       "      <td>7.262110e+11</td>\n",
       "    </tr>\n",
       "    <tr>\n",
       "      <th>57</th>\n",
       "      <td>agg_mean_Country_ohe_DevType_Student</td>\n",
       "      <td>7.038055e+11</td>\n",
       "    </tr>\n",
       "    <tr>\n",
       "      <th>58</th>\n",
       "      <td>diff_agg_mean_CompanySize_ohe_DevType_Engineer...</td>\n",
       "      <td>6.988677e+11</td>\n",
       "    </tr>\n",
       "    <tr>\n",
       "      <th>59</th>\n",
       "      <td>diff_agg_mean_Employment_ohe_LanguageWorkedWit...</td>\n",
       "      <td>6.854327e+11</td>\n",
       "    </tr>\n",
       "    <tr>\n",
       "      <th>60</th>\n",
       "      <td>te_Currency__Age</td>\n",
       "      <td>6.844998e+11</td>\n",
       "    </tr>\n",
       "    <tr>\n",
       "      <th>61</th>\n",
       "      <td>te_Employment__OperatingSystem</td>\n",
       "      <td>6.838129e+11</td>\n",
       "    </tr>\n",
       "    <tr>\n",
       "      <th>62</th>\n",
       "      <td>agg_std_SalaryType_ohe_RaceEthnicity_White_or_...</td>\n",
       "      <td>6.656288e+11</td>\n",
       "    </tr>\n",
       "    <tr>\n",
       "      <th>63</th>\n",
       "      <td>agg_std_SalaryType_ohe_DevType_Student</td>\n",
       "      <td>6.416315e+11</td>\n",
       "    </tr>\n",
       "    <tr>\n",
       "      <th>64</th>\n",
       "      <td>te_FormalEducation__OperatingSystem</td>\n",
       "      <td>6.403619e+11</td>\n",
       "    </tr>\n",
       "    <tr>\n",
       "      <th>65</th>\n",
       "      <td>te_Currency__OperatingSystem</td>\n",
       "      <td>6.319100e+11</td>\n",
       "    </tr>\n",
       "    <tr>\n",
       "      <th>66</th>\n",
       "      <td>diff_agg_mean_Country_ohe_Methodology_Agile</td>\n",
       "      <td>6.184962e+11</td>\n",
       "    </tr>\n",
       "    <tr>\n",
       "      <th>67</th>\n",
       "      <td>te_FormalEducation__CareerSatisfaction</td>\n",
       "      <td>6.105445e+11</td>\n",
       "    </tr>\n",
       "    <tr>\n",
       "      <th>68</th>\n",
       "      <td>diff_agg_mean_YearsCodingProf_ohe_EducationTyp...</td>\n",
       "      <td>5.993422e+11</td>\n",
       "    </tr>\n",
       "    <tr>\n",
       "      <th>69</th>\n",
       "      <td>te_CareerSatisfaction__Age</td>\n",
       "      <td>5.921075e+11</td>\n",
       "    </tr>\n",
       "    <tr>\n",
       "      <th>70</th>\n",
       "      <td>agg_std_YearsCodingProf_ohe_CommunicationTools...</td>\n",
       "      <td>5.869981e+11</td>\n",
       "    </tr>\n",
       "    <tr>\n",
       "      <th>71</th>\n",
       "      <td>te_AssessBenefits2__Age</td>\n",
       "      <td>5.767572e+11</td>\n",
       "    </tr>\n",
       "    <tr>\n",
       "      <th>72</th>\n",
       "      <td>te_Employment__CareerSatisfaction</td>\n",
       "      <td>5.630379e+11</td>\n",
       "    </tr>\n",
       "    <tr>\n",
       "      <th>73</th>\n",
       "      <td>ohe_DevType_Student</td>\n",
       "      <td>5.629825e+11</td>\n",
       "    </tr>\n",
       "    <tr>\n",
       "      <th>74</th>\n",
       "      <td>te_CompanySize__CurrencySymbol</td>\n",
       "      <td>5.494110e+11</td>\n",
       "    </tr>\n",
       "    <tr>\n",
       "      <th>75</th>\n",
       "      <td>te_CompanySize__Age</td>\n",
       "      <td>5.463529e+11</td>\n",
       "    </tr>\n",
       "    <tr>\n",
       "      <th>76</th>\n",
       "      <td>diff_agg_mean_ohe_LanguageWorkedWith_PHP_ohe_E...</td>\n",
       "      <td>5.353456e+11</td>\n",
       "    </tr>\n",
       "    <tr>\n",
       "      <th>77</th>\n",
       "      <td>agg_mean_Country_AssessJob5</td>\n",
       "      <td>5.291468e+11</td>\n",
       "    </tr>\n",
       "    <tr>\n",
       "      <th>78</th>\n",
       "      <td>te_FormalEducation__AssessBenefits2</td>\n",
       "      <td>5.287703e+11</td>\n",
       "    </tr>\n",
       "    <tr>\n",
       "      <th>79</th>\n",
       "      <td>te_CurrencySymbol</td>\n",
       "      <td>5.201660e+11</td>\n",
       "    </tr>\n",
       "    <tr>\n",
       "      <th>80</th>\n",
       "      <td>agg_mean_SalaryType_AssessBenefits2</td>\n",
       "      <td>5.074578e+11</td>\n",
       "    </tr>\n",
       "    <tr>\n",
       "      <th>81</th>\n",
       "      <td>agg_mean_YearsCodingProf_ohe_EducationTypes_Co...</td>\n",
       "      <td>5.029784e+11</td>\n",
       "    </tr>\n",
       "    <tr>\n",
       "      <th>82</th>\n",
       "      <td>rel_agg_mean_CurrencySymbol_AssessBenefits2</td>\n",
       "      <td>4.988433e+11</td>\n",
       "    </tr>\n",
       "    <tr>\n",
       "      <th>83</th>\n",
       "      <td>diff_agg_mean_Country_ohe_DevType_Student</td>\n",
       "      <td>4.730696e+11</td>\n",
       "    </tr>\n",
       "    <tr>\n",
       "      <th>84</th>\n",
       "      <td>agg_mean_YearsCodingProf_ohe_DevType_Student</td>\n",
       "      <td>4.701755e+11</td>\n",
       "    </tr>\n",
       "    <tr>\n",
       "      <th>85</th>\n",
       "      <td>te_OperatingSystem__Age</td>\n",
       "      <td>4.673624e+11</td>\n",
       "    </tr>\n",
       "    <tr>\n",
       "      <th>86</th>\n",
       "      <td>te_Employment__CompanySize</td>\n",
       "      <td>4.670992e+11</td>\n",
       "    </tr>\n",
       "    <tr>\n",
       "      <th>87</th>\n",
       "      <td>agg_std_ohe_DevType_Student_ohe_RaceEthnicity_...</td>\n",
       "      <td>4.635149e+11</td>\n",
       "    </tr>\n",
       "    <tr>\n",
       "      <th>88</th>\n",
       "      <td>te_Country</td>\n",
       "      <td>4.562709e+11</td>\n",
       "    </tr>\n",
       "    <tr>\n",
       "      <th>89</th>\n",
       "      <td>agg_std_Country_ohe_LanguageWorkedWith_PHP</td>\n",
       "      <td>4.454594e+11</td>\n",
       "    </tr>\n",
       "    <tr>\n",
       "      <th>90</th>\n",
       "      <td>te_FormalEducation__CompanySize</td>\n",
       "      <td>4.417815e+11</td>\n",
       "    </tr>\n",
       "    <tr>\n",
       "      <th>91</th>\n",
       "      <td>te_CompanySize__Currency</td>\n",
       "      <td>4.334748e+11</td>\n",
       "    </tr>\n",
       "    <tr>\n",
       "      <th>92</th>\n",
       "      <td>te_Employment__AssessBenefits2</td>\n",
       "      <td>4.290827e+11</td>\n",
       "    </tr>\n",
       "    <tr>\n",
       "      <th>93</th>\n",
       "      <td>ohe_LanguageWorkedWith_Go</td>\n",
       "      <td>4.226803e+11</td>\n",
       "    </tr>\n",
       "    <tr>\n",
       "      <th>94</th>\n",
       "      <td>agg_mean_SalaryType_ohe_RaceEthnicity_White_or...</td>\n",
       "      <td>4.194579e+11</td>\n",
       "    </tr>\n",
       "    <tr>\n",
       "      <th>95</th>\n",
       "      <td>te_FormalEducation__CurrencySymbol</td>\n",
       "      <td>4.146373e+11</td>\n",
       "    </tr>\n",
       "    <tr>\n",
       "      <th>96</th>\n",
       "      <td>agg_std_SalaryType_ohe_CommunicationTools_Conf...</td>\n",
       "      <td>4.085490e+11</td>\n",
       "    </tr>\n",
       "    <tr>\n",
       "      <th>97</th>\n",
       "      <td>te_Currency__CurrencySymbol</td>\n",
       "      <td>4.022708e+11</td>\n",
       "    </tr>\n",
       "    <tr>\n",
       "      <th>98</th>\n",
       "      <td>agg_mean_SalaryType_ohe_DevType_Student</td>\n",
       "      <td>3.974596e+11</td>\n",
       "    </tr>\n",
       "    <tr>\n",
       "      <th>99</th>\n",
       "      <td>te_AssessBenefits2__OperatingSystem</td>\n",
       "      <td>3.865602e+11</td>\n",
       "    </tr>\n",
       "  </tbody>\n",
       "</table>\n",
       "</div>"
      ],
      "text/plain": [
       "                                              feature          gain\n",
       "0                             te_Country__YearsCoding  4.708196e+13\n",
       "1                      te_Country__CareerSatisfaction  2.931580e+13\n",
       "2                         te_Country__YearsCodingProf  1.966722e+13\n",
       "3                              te_Country__Employment  1.909382e+13\n",
       "4                        te_YearsCodingProf__Currency  1.664466e+13\n",
       "5                         te_Country__FormalEducation  1.522014e+13\n",
       "6                                     te_Country__Age  1.421578e+13\n",
       "7                          te_Country__CurrencySymbol  1.201110e+13\n",
       "8                              te_CurrencySymbol__Age  8.642652e+12\n",
       "9                       te_Employment__CurrencySymbol  6.998477e+12\n",
       "10                        te_Country__OperatingSystem  6.777547e+12\n",
       "11                 te_YearsCodingProf__CurrencySymbol  6.757202e+12\n",
       "12                           te_YearsCoding__Currency  6.703192e+12\n",
       "13                te_YearsCodingProf__OperatingSystem  6.469168e+12\n",
       "14                            te_Country__CompanySize  6.051662e+12\n",
       "15                        te_Country__AssessBenefits2  4.337711e+12\n",
       "16                te_FormalEducation__YearsCodingProf  4.318261e+12\n",
       "17                     te_Employment__YearsCodingProf  4.137535e+12\n",
       "18                     te_YearsCoding__CurrencySymbol  3.531456e+12\n",
       "19  agg_mean_Country_ohe_EducationTypes_Contribute...  3.271560e+12\n",
       "20                te_YearsCodingProf__AssessBenefits2  3.198095e+12\n",
       "21                    te_CompanySize__YearsCodingProf  2.627006e+12\n",
       "22  agg_std_Country_ohe_EducationTypes_Contributed...  2.550708e+12\n",
       "23             te_YearsCodingProf__CareerSatisfaction  2.494306e+12\n",
       "24                 agg_std_MilitaryUS_AssessBenefits2  2.402405e+12\n",
       "25                            te_YearsCodingProf__Age  2.365429e+12\n",
       "26              agg_std_Country_ohe_Methodology_Agile  2.325994e+12\n",
       "27  agg_std_YearsCodingProf_ohe_RaceEthnicity_Whit...  2.164993e+12\n",
       "28                               te_Country__Currency  1.986274e+12\n",
       "29                 te_YearsCoding__CareerSatisfaction  1.915166e+12\n",
       "30                 te_CurrencySymbol__OperatingSystem  1.826758e+12\n",
       "31                       te_FormalEducation__Currency  1.819196e+12\n",
       "32  agg_std_YearsCodingProf_ohe_LanguageDesireNext...  1.683005e+12\n",
       "33                    te_CompanySize__OperatingSystem  1.655957e+12\n",
       "34                                         MilitaryUS  1.508853e+12\n",
       "35             agg_mean_Country_ohe_Methodology_Agile  1.480979e+12\n",
       "36           agg_mean_YearsCodingProf_AssessBenefits2  1.421561e+12\n",
       "37                     te_Employment__FormalEducation  1.349905e+12\n",
       "38    agg_mean_Country_ohe_LanguageDesireNextYear_PHP  1.335040e+12\n",
       "39                         te_Employment__YearsCoding  1.333795e+12\n",
       "40                            te_Employment__Currency  1.224795e+12\n",
       "41  agg_mean_YearsCodingProf_ohe_RaceEthnicity_Whi...  1.215093e+12\n",
       "42                    te_YearsCoding__OperatingSystem  1.161263e+12\n",
       "43                    te_CompanySize__AssessBenefits2  1.151286e+12\n",
       "44                        te_CompanySize__YearsCoding  1.109955e+12\n",
       "45  agg_std_YearsCodingProf_ohe_DevType_Engineerin...  1.049740e+12\n",
       "46                    te_CareerSatisfaction__Currency  1.048989e+12\n",
       "47                    te_YearsCoding__YearsCodingProf  1.034797e+12\n",
       "48     agg_mean_SalaryType_ohe_LanguageWorkedWith_PHP  1.016236e+12\n",
       "49                        agg_mean_Country_AssessJob8  9.069813e+11\n",
       "50  diff_agg_mean_OperatingSystem_ohe_LanguageWork...  8.811006e+11\n",
       "51                 te_CompanySize__CareerSatisfaction  8.765166e+11\n",
       "52             te_CareerSatisfaction__OperatingSystem  8.648238e+11\n",
       "53        agg_std_YearsCodingProf_ohe_DevType_Student  8.613741e+11\n",
       "54  agg_std_CurrencySymbol_ohe_DevType_Engineering...  8.461014e+11\n",
       "55             te_CareerSatisfaction__AssessBenefits2  8.203034e+11\n",
       "56                                 te_Employment__Age  7.262110e+11\n",
       "57               agg_mean_Country_ohe_DevType_Student  7.038055e+11\n",
       "58  diff_agg_mean_CompanySize_ohe_DevType_Engineer...  6.988677e+11\n",
       "59  diff_agg_mean_Employment_ohe_LanguageWorkedWit...  6.854327e+11\n",
       "60                                   te_Currency__Age  6.844998e+11\n",
       "61                     te_Employment__OperatingSystem  6.838129e+11\n",
       "62  agg_std_SalaryType_ohe_RaceEthnicity_White_or_...  6.656288e+11\n",
       "63             agg_std_SalaryType_ohe_DevType_Student  6.416315e+11\n",
       "64                te_FormalEducation__OperatingSystem  6.403619e+11\n",
       "65                       te_Currency__OperatingSystem  6.319100e+11\n",
       "66        diff_agg_mean_Country_ohe_Methodology_Agile  6.184962e+11\n",
       "67             te_FormalEducation__CareerSatisfaction  6.105445e+11\n",
       "68  diff_agg_mean_YearsCodingProf_ohe_EducationTyp...  5.993422e+11\n",
       "69                         te_CareerSatisfaction__Age  5.921075e+11\n",
       "70  agg_std_YearsCodingProf_ohe_CommunicationTools...  5.869981e+11\n",
       "71                            te_AssessBenefits2__Age  5.767572e+11\n",
       "72                  te_Employment__CareerSatisfaction  5.630379e+11\n",
       "73                                ohe_DevType_Student  5.629825e+11\n",
       "74                     te_CompanySize__CurrencySymbol  5.494110e+11\n",
       "75                                te_CompanySize__Age  5.463529e+11\n",
       "76  diff_agg_mean_ohe_LanguageWorkedWith_PHP_ohe_E...  5.353456e+11\n",
       "77                        agg_mean_Country_AssessJob5  5.291468e+11\n",
       "78                te_FormalEducation__AssessBenefits2  5.287703e+11\n",
       "79                                  te_CurrencySymbol  5.201660e+11\n",
       "80                agg_mean_SalaryType_AssessBenefits2  5.074578e+11\n",
       "81  agg_mean_YearsCodingProf_ohe_EducationTypes_Co...  5.029784e+11\n",
       "82        rel_agg_mean_CurrencySymbol_AssessBenefits2  4.988433e+11\n",
       "83          diff_agg_mean_Country_ohe_DevType_Student  4.730696e+11\n",
       "84       agg_mean_YearsCodingProf_ohe_DevType_Student  4.701755e+11\n",
       "85                            te_OperatingSystem__Age  4.673624e+11\n",
       "86                         te_Employment__CompanySize  4.670992e+11\n",
       "87  agg_std_ohe_DevType_Student_ohe_RaceEthnicity_...  4.635149e+11\n",
       "88                                         te_Country  4.562709e+11\n",
       "89         agg_std_Country_ohe_LanguageWorkedWith_PHP  4.454594e+11\n",
       "90                    te_FormalEducation__CompanySize  4.417815e+11\n",
       "91                           te_CompanySize__Currency  4.334748e+11\n",
       "92                     te_Employment__AssessBenefits2  4.290827e+11\n",
       "93                          ohe_LanguageWorkedWith_Go  4.226803e+11\n",
       "94  agg_mean_SalaryType_ohe_RaceEthnicity_White_or...  4.194579e+11\n",
       "95                 te_FormalEducation__CurrencySymbol  4.146373e+11\n",
       "96  agg_std_SalaryType_ohe_CommunicationTools_Conf...  4.085490e+11\n",
       "97                        te_Currency__CurrencySymbol  4.022708e+11\n",
       "98            agg_mean_SalaryType_ohe_DevType_Student  3.974596e+11\n",
       "99                te_AssessBenefits2__OperatingSystem  3.865602e+11"
      ]
     },
     "execution_count": 63,
     "metadata": {},
     "output_type": "execute_result"
    }
   ],
   "source": [
    "importances.groupby(\"feature\")[\"gain\"].mean().sort_values(ascending=False).reset_index().iloc[:100]"
   ]
  },
  {
   "cell_type": "code",
   "execution_count": 27,
   "metadata": {},
   "outputs": [],
   "source": [
    "test_pred = np.zeros(len(test_df))\n",
    "\n",
    "for model in models:\n",
    "    test_pred += model.predict(test_df[use_cols]) / len(models)"
   ]
  },
  {
   "cell_type": "code",
   "execution_count": 28,
   "metadata": {},
   "outputs": [
    {
     "data": {
      "text/plain": [
       "array([ 68716.55939292,  95191.38058141,  85564.39388332, ...,\n",
       "        90746.82732717,  84125.51070933, 114913.58252493])"
      ]
     },
     "execution_count": 28,
     "metadata": {},
     "output_type": "execute_result"
    }
   ],
   "source": [
    "test_pred"
   ]
  },
  {
   "cell_type": "code",
   "execution_count": 29,
   "metadata": {},
   "outputs": [],
   "source": [
    "sub_df = pd.read_csv(\"../input/submit.csv\")"
   ]
  },
  {
   "cell_type": "code",
   "execution_count": 30,
   "metadata": {},
   "outputs": [],
   "source": [
    "sub_df[\"Salary\"] = test_pred"
   ]
  },
  {
   "cell_type": "code",
   "execution_count": 31,
   "metadata": {},
   "outputs": [],
   "source": [
    "#sub_df.to_csv(\"../predict/010_multi_te_20780.csv\", index=False)"
   ]
  },
  {
   "cell_type": "code",
   "execution_count": null,
   "metadata": {},
   "outputs": [],
   "source": []
  }
 ],
 "metadata": {
  "kernelspec": {
   "display_name": "Python 3.8.2 64-bit ('3.8.2': pyenv)",
   "language": "python",
   "name": "python38264bit382pyenv0bf26b16ab884472b54c5411cc1e5c03"
  },
  "language_info": {
   "codemirror_mode": {
    "name": "ipython",
    "version": 3
   },
   "file_extension": ".py",
   "mimetype": "text/x-python",
   "name": "python",
   "nbconvert_exporter": "python",
   "pygments_lexer": "ipython3",
   "version": "3.8.2"
  },
  "toc": {
   "base_numbering": 1,
   "nav_menu": {},
   "number_sections": true,
   "sideBar": true,
   "skip_h1_title": false,
   "title_cell": "Table of Contents",
   "title_sidebar": "Contents",
   "toc_cell": false,
   "toc_position": {},
   "toc_section_display": true,
   "toc_window_display": false
  }
 },
 "nbformat": 4,
 "nbformat_minor": 4
}
